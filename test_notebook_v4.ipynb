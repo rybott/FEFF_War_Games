{
  "cells": [
    {
      "cell_type": "markdown",
      "metadata": {
        "id": "view-in-github",
        "colab_type": "text"
      },
      "source": [
        "<a href=\"https://colab.research.google.com/github/rybott/Forensic_Operation_Plan_Response/blob/main/test_notebook_v4.ipynb\" target=\"_parent\"><img src=\"https://colab.research.google.com/assets/colab-badge.svg\" alt=\"Open In Colab\"/></a>"
      ]
    },
    {
      "cell_type": "markdown",
      "metadata": {
        "id": "HXNZXm2xDF72"
      },
      "source": [
        "# This is the clean version of Test_Work.ipynb\n",
        "It contains the same code, but with only the core components of the generator"
      ]
    },
    {
      "cell_type": "markdown",
      "metadata": {
        "id": "i5na3A-yDF75"
      },
      "source": [
        "## Modules Used"
      ]
    },
    {
      "cell_type": "code",
      "execution_count": 97,
      "metadata": {
        "id": "ZulqZJ9jDF76"
      },
      "outputs": [],
      "source": [
        "import pandas as pd\n",
        "import numpy as np\n",
        "from datetime import timedelta\n",
        "import random\n",
        "import duckdb as ddb\n",
        "\n",
        "# Further Analysis\n",
        "import matplotlib.pyplot as plt\n",
        "# import plotly.express as px\n",
        "\n"
      ]
    },
    {
      "cell_type": "markdown",
      "metadata": {
        "id": "TxX0PtDnDF77"
      },
      "source": [
        "## Sales Invoices"
      ]
    },
    {
      "cell_type": "code",
      "execution_count": 98,
      "metadata": {
        "colab": {
          "base_uri": "https://localhost:8080/"
        },
        "id": "VzN-pN0gDF78",
        "outputId": "7ba238ab-f96e-41f9-d709-d52257363427"
      },
      "outputs": [
        {
          "output_type": "stream",
          "name": "stdout",
          "text": [
            "<class 'pandas.core.frame.DataFrame'>\n",
            "RangeIndex: 1000 entries, 0 to 999\n",
            "Data columns (total 11 columns):\n",
            " #   Column         Non-Null Count  Dtype         \n",
            "---  ------         --------------  -----         \n",
            " 0   Order_Date     1000 non-null   datetime64[ns]\n",
            " 1   Shipment_Date  1000 non-null   datetime64[ns]\n",
            " 2   StoreID        1000 non-null   int64         \n",
            " 3   StoreName      1000 non-null   object        \n",
            " 4   Product_Type   1000 non-null   object        \n",
            " 5   Unit_Price     1000 non-null   float64       \n",
            " 6   Unit_Cost      1000 non-null   float64       \n",
            " 7   Quantity       1000 non-null   int64         \n",
            " 8   Revenue        1000 non-null   float64       \n",
            " 9   Total_Cost     1000 non-null   float64       \n",
            " 10  Total Profit   1000 non-null   float64       \n",
            "dtypes: datetime64[ns](2), float64(5), int64(2), object(2)\n",
            "memory usage: 86.1+ KB\n",
            "None\n"
          ]
        }
      ],
      "source": [
        "def generate_sales_data(num_records, start_date, end_date, regions_df, products_df):\n",
        "    # Lists to store generated data\n",
        "    order_dates = []\n",
        "    shipment_dates = []\n",
        "    regions = []\n",
        "    countries = []\n",
        "    product_types = []\n",
        "    unit_prices = []\n",
        "    unit_costs = []\n",
        "    quantities = []\n",
        "\n",
        "    # Generate data for each record\n",
        "    for _ in range(num_records):\n",
        "\n",
        "        region_row = regions_df.sample().iloc[0]\n",
        "        regions.append(region_row['StoreID'])\n",
        "        countries.append(region_row['StoreName'])\n",
        "\n",
        "        # Randomly select product and corresponding unit price and cost\n",
        "        product_row = products_df.sample().iloc[0]\n",
        "        product_types.append(product_row['Product'])\n",
        "        unit_prices.append(product_row['Unit_Price'])\n",
        "        unit_costs.append(product_row['Unit_Cost'])\n",
        "\n",
        "        # Random order date between start and end date\n",
        "        random_date = start_date + timedelta(days=np.random.randint(0, (end_date-start_date).days))\n",
        "        order_dates.append(random_date)\n",
        "        # Ship date between 1 and 50 days after order date\n",
        "        shipment_dates.append(random_date + timedelta(days=np.random.randint(1, 51)))\n",
        "\n",
        "        # Random quantity between 1000 and 10000\n",
        "        quantities.append(np.random.randint(1000, 10001))\n",
        "\n",
        "\n",
        "    sales_df = pd.DataFrame({\n",
        "        'Order_Date': order_dates,\n",
        "        'Shipment_Date': shipment_dates,\n",
        "        'StoreID': regions,\n",
        "        'StoreName': countries,\n",
        "        'Product_Type': product_types,\n",
        "        'Unit_Price': unit_prices,\n",
        "        'Unit_Cost': unit_costs,\n",
        "        'Quantity': quantities,\n",
        "        'Revenue': np.array(unit_prices) * np.array(quantities),\n",
        "        'Total_Cost': np.array(unit_costs) * np.array(quantities)\n",
        "    })\n",
        "\n",
        "    sales_df['Total Profit'] = sales_df['Revenue'] - sales_df['Total_Cost']\n",
        "\n",
        "    return sales_df\n",
        "\n",
        "\n",
        "regions_data = {\n",
        "    'StoreID': [1,2,3,4,5,6,7,8,9,10],\n",
        "    'StoreName': [\"StoreNY\",\"StoreLA\",\"StorePA\",\"StoreKY\",\"StoreWA\",\"StoreDC\",\"StoreFL\",\"StoreAL\",\"StoreTX\",\"StoreMN\",]\n",
        "}\n",
        "regions_df = pd.DataFrame(regions_data)\n",
        "\n",
        "products_data = {\n",
        "    'Product': [\"Office Supplies\",\"Vegetables\",\"Fruits\",\"Cosmetics\",\"Cereal\",\"Baby Food\",\"Beverages\",\"Snacks\",\"Clothes\",\"Household\",\"Personal Care\",\"Meat\"],\n",
        "    'Unit_Price': [651.21,154.06,9.33,437.2,205.7,255.28,47.45,152.58,109.28,668.27,81.73,421.89],\n",
        "    'Unit_Cost': [524.96,90.93,6.92,263.33,117.11,159.42,31.79,97.44,35.84,502.54,56.67,364.69]\n",
        "}\n",
        "\n",
        "products_df = pd.DataFrame(products_data)\n",
        "\n",
        "start_date = pd.Timestamp('2015-01-01')\n",
        "end_date = pd.Timestamp('2021-12-31')\n",
        "num_records = 1000\n",
        "\n",
        "sales_df = generate_sales_data(num_records, start_date, end_date, regions_df, products_df)\n",
        "\n",
        "print(sales_df.info())\n"
      ]
    },
    {
      "cell_type": "markdown",
      "metadata": {
        "id": "-Jco99SUDF79"
      },
      "source": [
        "## Purchase Orders"
      ]
    },
    {
      "cell_type": "code",
      "execution_count": 99,
      "metadata": {
        "colab": {
          "base_uri": "https://localhost:8080/"
        },
        "id": "K_ioHBXkDF7-",
        "outputId": "761f4564-abed-4108-80cd-e58063aa0af0"
      },
      "outputs": [
        {
          "output_type": "stream",
          "name": "stdout",
          "text": [
            "<class 'pandas.core.frame.DataFrame'>\n",
            "Int64Index: 315 entries, 0 to 314\n",
            "Data columns (total 7 columns):\n",
            " #   Column         Non-Null Count  Dtype         \n",
            "---  ------         --------------  -----         \n",
            " 0   Vendor         315 non-null    object        \n",
            " 1   Product        315 non-null    object        \n",
            " 2   Quantity       315 non-null    float64       \n",
            " 3   Year           315 non-null    int64         \n",
            " 4   Quarter        315 non-null    int64         \n",
            " 5   Purchase_Date  315 non-null    datetime64[ns]\n",
            " 6   Unit_Cost      315 non-null    float64       \n",
            "dtypes: datetime64[ns](1), float64(2), int64(2), object(2)\n",
            "memory usage: 19.7+ KB\n",
            "None\n"
          ]
        }
      ],
      "source": [
        "sales_data = sales_df\n",
        "sales_data = sales_data.sort_values(by=['Order_Date'])\n",
        "\n",
        "\n",
        "\n",
        "product_types = ['Cereal', 'Snacks', 'Beverages', 'Baby Food', 'Meat', 'Fruits', 'Vegetables', 'Personal Care', 'Cosmetics', 'Household', 'Office Supplies', 'Clothes']\n",
        "\n",
        "\n",
        "purchase_orders = pd.DataFrame(columns=['OrderID', 'Product', 'Vendor', 'Quantity', 'OrderDate'])\n",
        "Inventory_dict = {'Cereal':0, 'Snacks':0, 'Beverages':0, 'Baby Food':0, 'Meat':0, 'Fruits':0, 'Vegetables':0, 'Personal Care':0, 'Cosmetics':0, 'Household':0, 'Office Supplies':0, 'Clothes':0}\n",
        "Vendor_dict = {'Cereal':'Foodco', 'Snacks':'Foodco', 'Beverages':'Foodco', 'Baby Food':'Foodco', 'Meat':'Farmco', 'Fruits':'Farmco', 'Vegetables':'Farmco', 'Personal Care':'Beautyco', 'Cosmetics':'Beautyco', 'Household':'Homeco', 'Office Supplies':'Homeco', 'Clothes':'Fashionco'}\n",
        "\n",
        "\n",
        "Product_Ordered = []\n",
        "Quantity_Purchased = []\n",
        "Date_Purchased = []\n",
        "InventoryBeg = []\n",
        "InventoryEnd = []\n",
        "Vendor = []\n",
        "Quantity_Sold = []\n",
        "\n",
        "\n",
        "# purchase orders\n",
        "\n",
        "for index, row in sales_data.iterrows():\n",
        "  x = 0\n",
        "  product = row['Product_Type']\n",
        "  quantity_sold = row['Quantity']\n",
        "  order_date = row['Order_Date']\n",
        "  Unit_Cost = row['Unit_Cost']\n",
        "\n",
        "  if product in Inventory_dict.keys():\n",
        "\n",
        "    '''\n",
        "    These aditions take the beginning inventory of a product on the date of sale, decreases\n",
        "    from sold quantities, and increases from POs and then calc COGS\n",
        "\n",
        "    You can also insert here a new table of externalities that effect COGS or price delta logic\n",
        "    '''\n",
        "    InventoryBeg.append(Inventory_dict[product])\n",
        "    Quantity_Sold.append(quantity_sold * -1)\n",
        "\n",
        "    if quantity_sold > Inventory_dict[product]:\n",
        "      purchase_quantity = (quantity_sold - Inventory_dict[product]) * 1.05\n",
        "      Inventory_dict[product] = (purchase_quantity + Inventory_dict[product]) - quantity_sold\n",
        "      Product_Ordered.append(product)\n",
        "      Quantity_Purchased.append(purchase_quantity)\n",
        "      Date_Purchased.append(order_date)\n",
        "      Ven = Vendor_dict[product]\n",
        "      Vendor.append(Ven)\n",
        "    else:\n",
        "      Inventory_dict[product] = Inventory_dict[product] - quantity_sold\n",
        "\n",
        "    InventoryEnd.append(Inventory_dict[product])\n",
        "\n",
        "\n",
        "\n",
        "PoInv_df = pd.DataFrame(\n",
        "    {'Order_Date': Date_Purchased,\n",
        "     'Vendor': Vendor,\n",
        "     'Quantity': Quantity_Purchased,\n",
        "     'Product': Product_Ordered,\n",
        "     'InventoryBeg': InventoryBeg,\n",
        "     'InventoryEnd': InventoryEnd,\n",
        "     'Quantity)Sold': Quantity_Sold,\n",
        "    })\n",
        "\n",
        "Qry_PO ='''\n",
        "    SELECT Vendor,\n",
        "    Product,\n",
        "    SUM(Quantity) AS Quantity,\n",
        "    YEAR(Order_Date) AS Year,\n",
        "    QUARTER(Order_Date) AS Quarter,\n",
        "    CAST(\n",
        "      CASE\n",
        "        WHEN QUARTER(Order_Date) = 1\n",
        "          THEN CONCAT(YEAR(Order_Date), '-01-01')\n",
        "        WHEN QUARTER(Order_Date) = 2\n",
        "          THEN CONCAT(YEAR(Order_Date), '-04-01')\n",
        "        WHEN QUARTER(Order_Date) = 3\n",
        "          THEN CONCAT(YEAR(Order_Date), '-07-01')\n",
        "        WHEN QUARTER(Order_Date) = 4\n",
        "          THEN CONCAT(YEAR(Order_Date), '-10-01')\n",
        "      END AS DATE) AS Purchase_Date\n",
        "    FROM PoInv_df\n",
        "    GROUP BY Vendor, Product, YEAR(Order_Date), QUARTER(Order_Date)\n",
        "    ORDER BY Year, Quarter\n",
        "'''\n",
        "\n",
        "df_PO = ddb.sql(Qry_PO).df()\n",
        "\n",
        "df_PO = df_PO.merge(products_df[['Product','Unit_Cost']], on ='Product', how = 'left')\n",
        "\n",
        "print(df_PO.info())\n",
        "\n"
      ]
    },
    {
      "cell_type": "markdown",
      "metadata": {
        "id": "At2TbeFmDF8C"
      },
      "source": [
        "## Inventory"
      ]
    },
    {
      "cell_type": "code",
      "execution_count": 100,
      "metadata": {
        "colab": {
          "base_uri": "https://localhost:8080/"
        },
        "id": "GXv-eIvcDF8E",
        "outputId": "2f7d05e2-d6b7-421b-d84e-92d593b2b1cc"
      },
      "outputs": [
        {
          "output_type": "stream",
          "name": "stdout",
          "text": [
            "<class 'pandas.core.frame.DataFrame'>\n",
            "RangeIndex: 1315 entries, 0 to 1314\n",
            "Data columns (total 5 columns):\n",
            " #   Column     Non-Null Count  Dtype         \n",
            "---  ------     --------------  -----         \n",
            " 0   Date       1315 non-null   datetime64[ns]\n",
            " 1   Product    1315 non-null   object        \n",
            " 2   Quantity   1315 non-null   float64       \n",
            " 3   Unit_Cost  1315 non-null   float64       \n",
            " 4   Vendor     315 non-null    object        \n",
            "dtypes: datetime64[ns](1), float64(2), object(2)\n",
            "memory usage: 51.5+ KB\n",
            "None\n"
          ]
        },
        {
          "output_type": "stream",
          "name": "stderr",
          "text": [
            "<ipython-input-100-cee86e0060dd>:4: FutureWarning: The frame.append method is deprecated and will be removed from pandas in a future version. Use pandas.concat instead.\n",
            "  df_INV = Inv_DEC.append(Inv_INC,ignore_index=True)\n"
          ]
        }
      ],
      "source": [
        "Inv_DEC = pd.DataFrame({\"Date\" : sales_df['Shipment_Date'],\"Product\":sales_df[\"Product_Type\"],\"Quantity\":sales_df[\"Quantity\"],\"Unit_Cost\":sales_df[\"Unit_Cost\"]*-1})\n",
        "Inv_INC = pd.DataFrame({\"Date\": df_PO['Purchase_Date'],\"Product\":df_PO['Product'],\"Quantity\":df_PO['Quantity'],\"Unit_Cost\":df_PO[\"Unit_Cost\"],\"Vendor\":df_PO['Vendor']})\n",
        "\n",
        "df_INV = Inv_DEC.append(Inv_INC,ignore_index=True)\n",
        "\n",
        "print(df_INV.info())"
      ]
    },
    {
      "cell_type": "markdown",
      "metadata": {
        "id": "wRErTovNDF8H"
      },
      "source": [
        "## Total Revenue Calculations"
      ]
    },
    {
      "cell_type": "code",
      "execution_count": 101,
      "metadata": {
        "id": "cxdLMAI1DF8I"
      },
      "outputs": [],
      "source": [
        "# Total Revenue\n",
        "qry_Trev = '''\n",
        "    SELECT YEAR(Shipment_Date) AS Year, SUM(Revenue) AS Revenue\n",
        "    FROM sales_df\n",
        "    GROUP BY Year\n",
        "    Order By Year\n",
        "'''\n",
        "\n",
        "# Total Revenue Per Product Per year\n",
        "qry_rev = '''\n",
        "    SELECT YEAR(Shipment_Date) AS Year, Product_Type AS Product, SUM(Revenue) AS Revenue, Unit_Cost\n",
        "    FROM sales_df\n",
        "    GROUP BY Year, Product, Unit_Cost\n",
        "    Order By Year\n",
        "'''\n",
        "\n",
        "df_Trev = ddb.sql(qry_Trev).df()\n",
        "df_rev = ddb.sql(qry_rev).df()\n",
        "\n",
        "# Rev_dict = dict(zip(df_Trev['Year'],zip(df_Trev['Revenue'],df_Trev['Unit_Cost']))\n",
        "Rev_dict = dict(zip(df_Trev['Year'],df_Trev['Revenue']))"
      ]
    },
    {
      "cell_type": "markdown",
      "metadata": {
        "id": "Ygg7euajDF8J"
      },
      "source": [
        "## Scenario 1"
      ]
    },
    {
      "cell_type": "markdown",
      "metadata": {
        "id": "g9hHBzaKDF8K"
      },
      "source": [
        "### COGS"
      ]
    },
    {
      "cell_type": "code",
      "execution_count": 102,
      "metadata": {
        "colab": {
          "base_uri": "https://localhost:8080/"
        },
        "id": "eumDrMB5DF8L",
        "outputId": "1c8e3b30-fbab-4591-bb2c-b7185c0c4e9c"
      },
      "outputs": [
        {
          "output_type": "stream",
          "name": "stdout",
          "text": [
            "               PM           REV\n",
            "2015  55634411.10  2.091054e+08\n",
            "2016  48112804.77  2.003130e+08\n",
            "2017  52804065.30  2.002586e+08\n",
            "2018  68486779.25  2.290930e+08\n",
            "2019  59188015.09  1.929139e+08\n",
            "2020  65221120.61  1.949420e+08\n",
            "2021  53745139.79  1.894546e+08\n",
            "2022         0.00  9.803001e+06\n"
          ]
        }
      ],
      "source": [
        "# COGS Quantities = Beg Inventory + Purchases - End Inventory\n",
        "PoInv_df['COGS_Quantity'] =  PoInv_df['InventoryBeg'] + PoInv_df['Quantity'] - PoInv_df['InventoryEnd']\n",
        "\n",
        "# Add the unit costs (This could be where you add more sophisticated logic for price changes)\n",
        "PoInv_df = PoInv_df.merge(products_df[['Product','Unit_Cost']], on ='Product', how = 'left')\n",
        "\n",
        "COGS_df1 = PoInv_df[['Order_Date','Product','COGS_Quantity','Unit_Cost']]\n",
        "\n",
        "COGS_qry1 = '''\n",
        "    SELECT\n",
        "      CAST(\n",
        "        CASE\n",
        "          WHEN Quarter(Order_Date) = 1\n",
        "            THEN CONCAT(YEAR(Order_Date), '-01-30')\n",
        "          WHEN Quarter(Order_Date) = 2\n",
        "            THEN CONCAT(YEAR(Order_Date), '-04-30')\n",
        "          WHEN Quarter(Order_Date) = 3\n",
        "            THEN CONCAT(YEAR(Order_Date), '-07-30')\n",
        "          WHEN Quarter(Order_Date) = 4\n",
        "            THEN CONCAT(YEAR(Order_Date), '-10-30')\n",
        "        END\n",
        "        AS DATE) AS Date,\n",
        "      Product,\n",
        "      SUM((COGS_Quantity * Unit_Cost)) AS Value\n",
        "    FROM COGS_df1\n",
        "    GROUP BY Date, Product\n",
        "  ORDER BY Date\n",
        "'''\n",
        "COGS_df_byProduct = ddb.sql(COGS_qry1).df()\n",
        "\n",
        "COGS_qry2 = '''\n",
        "    SELECT Date, SUM(Value) AS Value\n",
        "    FROM COGS_df_byProduct\n",
        "    GROUP BY Date\n",
        "    ORDER BY Date\n",
        "'''\n",
        "\n",
        "COGS_df = ddb.sql(COGS_qry2).df()\n",
        "\n",
        "# Gross Margin\n",
        "#   Yearly Rev - Yearly COGS\n",
        "# Yearly COGS\n",
        "\n",
        "Yr_COGS_qry = '''\n",
        "    SELECT\n",
        "        YEAR(Date) AS Year,\n",
        "        Sum(Value) AS Value\n",
        "    FROM COGS_df\n",
        "    GROUP BY Year\n",
        "'''\n",
        "COGSyr_df = ddb.sql(Yr_COGS_qry).df()\n",
        "COGS_dict = dict(zip(COGSyr_df['Year'],COGSyr_df['Value']))\n",
        "\n",
        "PRC_dict = {}\n",
        "PM_dict = {}\n",
        "# Substract COGS from Rev each year\n",
        "for Year in Rev_dict.keys():\n",
        "  try:\n",
        "    PRC_dict[Year] = {\"Rev\":Rev_dict[Year],\"COGS\":COGS_dict[Year],\"PM\":Rev_dict[Year]-COGS_dict[Year]}\n",
        "    PM_dict[Year] = Rev_dict[Year]-COGS_dict[Year]\n",
        "  except:\n",
        "    PRC_dict[Year] = {\"Rev\":Rev_dict[Year],\"COGS\":0,\"PM\":0}\n",
        "    PM_dict[Year] = 0\n",
        "PM_Rev_df = pd.DataFrame({'PM':PM_dict,'REV':Rev_dict})\n",
        "\n",
        "print(PM_Rev_df)"
      ]
    },
    {
      "cell_type": "markdown",
      "metadata": {
        "id": "2Hka9s7yDF8M"
      },
      "source": [
        "### Expenses for Scenario 1"
      ]
    },
    {
      "cell_type": "code",
      "execution_count": 103,
      "metadata": {
        "colab": {
          "base_uri": "https://localhost:8080/"
        },
        "id": "wM5_7HEsDF8M",
        "outputId": "107600d8-0960-4e18-8c5f-a5cdcb309365"
      },
      "outputs": [
        {
          "output_type": "stream",
          "name": "stdout",
          "text": [
            "<class 'pandas.core.frame.DataFrame'>\n",
            "RangeIndex: 8 entries, 0 to 7\n",
            "Data columns (total 12 columns):\n",
            " #   Column        Non-Null Count  Dtype  \n",
            "---  ------        --------------  -----  \n",
            " 0   Year          8 non-null      int64  \n",
            " 1   Rev           8 non-null      float64\n",
            " 2   COGS          8 non-null      float64\n",
            " 3   Gross_Profit  8 non-null      float64\n",
            " 4   Rent          8 non-null      float64\n",
            " 5   Insurance     8 non-null      float64\n",
            " 6   Wages         8 non-null      float64\n",
            " 7   Ads           8 non-null      float64\n",
            " 8   Net_Profit    8 non-null      float64\n",
            " 9   EBIT          8 non-null      float64\n",
            " 10  Taxes         8 non-null      float64\n",
            " 11  Net_Income    8 non-null      float64\n",
            "dtypes: float64(11), int64(1)\n",
            "memory usage: 896.0 bytes\n",
            "None\n"
          ]
        }
      ],
      "source": [
        "Expenses = {\n",
        "    'Avg_NetProfit':(3,\"Not used to calc net profit\"),\n",
        "    'Rent': (6,10),\n",
        "    'Insurance': (2,4),\n",
        "    'Wages': (15,20),\n",
        "    'Ads': (6,8),\n",
        "    'Taxes': (13, \"A fixed amount\")\n",
        "}\n",
        "\n",
        "Exp_dict = {}\n",
        "Exp_list = []\n",
        "\n",
        "for i, year in enumerate(PRC_dict.keys()):\n",
        "    gross = PRC_dict[year][\"PM\"]\n",
        "    Rev = PRC_dict[year][\"Rev\"]\n",
        "    COGS = PRC_dict[year][\"COGS\"]\n",
        "    Year = year\n",
        "\n",
        "\n",
        "    Rent = (random.randrange(Expenses['Rent'][0],Expenses['Rent'][1])/100)*gross\n",
        "    Insurance = (random.randrange(Expenses['Insurance'][0],Expenses['Insurance'][1])/100)*gross\n",
        "    Wages = (random.randrange(Expenses['Wages'][0],Expenses['Wages'][1])/100)*gross\n",
        "    Ads = (random.randrange(Expenses['Wages'][0],Expenses['Wages'][1])/100)*gross\n",
        "    Net = gross - (Rent+Insurance+Wages+Ads)\n",
        "    EBIT = (1 - (Expenses['Taxes'][0]/100)) * Net\n",
        "    Tax = (Expenses['Taxes'][0]/100) * Net\n",
        "    Net_In = EBIT - Tax\n",
        "\n",
        "    Exp_dict = {'Year':Year,'Rev':Rev,'COGS':COGS,'Gross_Profit':gross,'Rent':Rent,'Insurance':Insurance,'Wages':Wages,'Ads':Ads,'Net_Profit':Net,'EBIT': EBIT, 'Taxes':Tax, 'Net_Income': Net_In}\n",
        "    Exp_list.append(Exp_dict)\n",
        "\n",
        "\n",
        "Exp_df = pd.DataFrame(Exp_list)\n",
        "\n",
        "print(Exp_df.info())"
      ]
    },
    {
      "cell_type": "code",
      "execution_count": 104,
      "metadata": {
        "colab": {
          "base_uri": "https://localhost:8080/"
        },
        "id": "EBcX23upDF8N",
        "outputId": "163e0a84-1946-4d8e-d6d6-499811f7c358"
      },
      "outputs": [
        {
          "output_type": "stream",
          "name": "stdout",
          "text": [
            "0       2015-1-1\n",
            "1       2015-1-2\n",
            "2       2015-1-3\n",
            "3       2015-1-4\n",
            "4       2015-1-5\n",
            "         ...    \n",
            "283    2021-1-12\n",
            "284     2021-1-5\n",
            "285     2021-1-6\n",
            "286     2021-1-8\n",
            "287     2021-1-9\n",
            "Name: Date, Length: 288, dtype: object\n",
            "<class 'pandas.core.frame.DataFrame'>\n",
            "RangeIndex: 288 entries, 0 to 287\n",
            "Data columns (total 4 columns):\n",
            " #   Column       Non-Null Count  Dtype         \n",
            "---  ------       --------------  -----         \n",
            " 0   Year         288 non-null    int64         \n",
            " 1   Date         288 non-null    datetime64[ns]\n",
            " 2   Amount       288 non-null    float64       \n",
            " 3   Description  288 non-null    object        \n",
            "dtypes: datetime64[ns](1), float64(1), int64(1), object(1)\n",
            "memory usage: 9.1+ KB\n",
            "None\n"
          ]
        }
      ],
      "source": [
        "# Individual Expenses\n",
        "\n",
        "num_years = len(Exp_df['Year'])\n",
        "num_months = num_years*12\n",
        "\n",
        "rent = Exp_df['Rent'].sum() / num_months\n",
        "Insurance = Exp_df['Insurance'].sum() / num_months\n",
        "Wages = Exp_df['Wages'].sum() / num_months\n",
        "\n",
        "end_date = pd.Timestamp('2021-12-31')\n",
        "end_year_str = str(end_date)[:4]\n",
        "\n",
        "# Struct of List - Year, Date, Amount, Description\n",
        "Comp_Exp_List = []\n",
        "\n",
        "\n",
        "for year in Exp_df['Year']:\n",
        "  if int(year) <= int(end_year_str):\n",
        "\n",
        "    # Rent\n",
        "    for month in range(12):\n",
        "      Year = year\n",
        "      Date = f\"{Year}-1-{month+1}\"\n",
        "      Amount = rent\n",
        "      Description = \"Rent\"\n",
        "      sub_dict = {'Year':Year, 'Date':Date, 'Amount':Amount, 'Description':Description}\n",
        "      Comp_Exp_List.append(sub_dict)\n",
        "\n",
        "    # Insurance\n",
        "    for month in range(12):\n",
        "      Year = year\n",
        "      Date = f\"{Year}-1-{month+1}\"\n",
        "      Amount = Insurance\n",
        "      Description = \"Insurance\"\n",
        "      sub_dict = {'Year':Year, 'Date':Date, 'Amount':Amount, 'Description':Description}\n",
        "      Comp_Exp_List.append(sub_dict)\n",
        "\n",
        "    # Wages\n",
        "    for month in range(12):\n",
        "      Year = year\n",
        "      Date = f\"{Year}-1-{month+1}\" # in the future it can be twice a month for 2 week pay\n",
        "      Amount = Wages\n",
        "      Description = \"Wages\"\n",
        "      sub_dict = {'Year':Year, 'Date':Date, 'Amount':Amount, 'Description':Description}\n",
        "      Comp_Exp_List.append(sub_dict)\n",
        "\n",
        "    # Ads\n",
        "    # Determine how many expenses per year\n",
        "    No_Ads = random.randrange(3,12)\n",
        "    Ad_yrly = Exp_df[Exp_df['Year'] == year]['Ads'].iloc[0]\n",
        "    amounts = []\n",
        "    adj_amounts = []\n",
        "    days = []\n",
        "    months = []\n",
        "\n",
        "    for ad in range(No_Ads):\n",
        "      Day = random.randrange(1,28)\n",
        "      month = random.randrange(1,12)\n",
        "      amount = random.randint(1,100)\n",
        "      amounts.append(amount)\n",
        "      days.append(Day)\n",
        "      months.append(month)\n",
        "\n",
        "    amount_total = sum(amounts)\n",
        "\n",
        "    for amount in amounts:\n",
        "      amount = (amount/amount_total)*Ad_yrly\n",
        "      adj_amounts.append(amount)\n",
        "\n",
        "    for month, day, amount in zip(months,days,adj_amounts):\n",
        "      Year = year\n",
        "      Date =f\"{Year}-1-{month}\"\n",
        "      Amount = amount\n",
        "      Description = \"Ads\"\n",
        "      sub_dict = {'Year':Year, 'Date':Date, 'Amount':Amount, 'Description':Description}\n",
        "      Comp_Exp_List.append(sub_dict)\n",
        "  else:\n",
        "    pass\n",
        "\n",
        "Comp_Exp_df = pd.DataFrame(Comp_Exp_List)\n",
        "print(Comp_Exp_df['Date'])\n",
        "Comp_Exp_df['Date'] = pd.to_datetime(Comp_Exp_df['Date'],format='%Y-%m-%d')\n",
        "print(Comp_Exp_df.info())"
      ]
    },
    {
      "cell_type": "markdown",
      "metadata": {
        "id": "4Noc1k-aDF8O"
      },
      "source": [
        "# Financial Reporting"
      ]
    },
    {
      "cell_type": "markdown",
      "metadata": {
        "id": "YcwKypM0DF8O"
      },
      "source": [
        "## Journal Entries"
      ]
    },
    {
      "cell_type": "code",
      "execution_count": 105,
      "metadata": {
        "id": "LnD0UsfkDF8P"
      },
      "outputs": [],
      "source": [
        "# Create the Journal Entries Dataframe\n",
        "\n",
        "Account = []\n",
        "Date = []\n",
        "Description = []\n",
        "Amount = []\n",
        "Dr_Cr = []\n",
        "\n",
        "Gen_Journal_df = pd.DataFrame({\n",
        "    'Account':Account,\n",
        "    'Date':Date,\n",
        "    'Description': Description,\n",
        "    'Amount':Amount,\n",
        "    'Dr_Cr':Dr_Cr})"
      ]
    },
    {
      "cell_type": "code",
      "execution_count": 106,
      "metadata": {
        "id": "m4gYxO3tDF8Q"
      },
      "outputs": [],
      "source": [
        "# Sales Journal\n",
        "\n",
        "Sales_data = sales_df.copy()\n",
        "\n",
        "Accounts = []\n",
        "Dates = []\n",
        "Descriptions = []\n",
        "Amounts = []\n",
        "Dr_Crs = []\n",
        "ID = 0\n",
        "\n",
        "\n",
        "for index, row in Sales_data.iterrows():\n",
        "  ID = ID + 1\n",
        "  date = row['Shipment_Date']\n",
        "  amount = row['Revenue']\n",
        "  desc = f\"{ID}_Sale of Inventory \"\n",
        "  COGS = row['Total_Cost']\n",
        "  Cash_acc = 1000\n",
        "  AR_acc = 1010\n",
        "  Rev_acc = 4000\n",
        "  COGS_acc = 5000\n",
        "  INV_acc = 1100\n",
        "\n",
        "  rand_acc = random.randint(1,100)\n",
        "  if rand_acc < 70:\n",
        "    Sale_acc = AR_acc\n",
        "  else:\n",
        "    Sale_acc = Cash_acc\n",
        "\n",
        "  # Sale\n",
        "  Accounts.append(Sale_acc)\n",
        "  Dates.append(date)\n",
        "  Descriptions.append(desc)\n",
        "  Amounts.append(amount)\n",
        "  Dr_Cr = \"Debit\"\n",
        "  Dr_Crs.append(Dr_Cr)\n",
        "\n",
        "  Accounts.append(Rev_acc)\n",
        "  Dates.append(date)\n",
        "  Descriptions.append(desc)\n",
        "  Amounts.append(amount)\n",
        "  Dr_Cr = \"Credit\"\n",
        "  Dr_Crs.append(Dr_Cr)\n",
        "\n",
        "\n",
        "Sales_Journal_df = pd.DataFrame({\n",
        "    'Account':Accounts,\n",
        "    'Date':Dates,\n",
        "    'Description': Descriptions,\n",
        "    'Amount':Amounts,\n",
        "    'Dr_Cr':Dr_Crs})\n",
        "\n",
        "Gen_Journal_df = pd.concat([Gen_Journal_df,Sales_Journal_df], ignore_index=True)"
      ]
    },
    {
      "cell_type": "code",
      "execution_count": 107,
      "metadata": {
        "colab": {
          "base_uri": "https://localhost:8080/"
        },
        "id": "utDn9R1UAZye",
        "outputId": "f39556be-a431-4916-aaaf-219cc1f782d8"
      },
      "outputs": [
        {
          "output_type": "stream",
          "name": "stdout",
          "text": [
            "<class 'pandas.core.frame.DataFrame'>\n",
            "RangeIndex: 2000 entries, 0 to 1999\n",
            "Data columns (total 5 columns):\n",
            " #   Column       Non-Null Count  Dtype         \n",
            "---  ------       --------------  -----         \n",
            " 0   Account      2000 non-null   int64         \n",
            " 1   Date         2000 non-null   datetime64[ns]\n",
            " 2   Description  2000 non-null   object        \n",
            " 3   Amount       2000 non-null   float64       \n",
            " 4   Dr_Cr        2000 non-null   object        \n",
            "dtypes: datetime64[ns](1), float64(1), int64(1), object(2)\n",
            "memory usage: 78.2+ KB\n",
            "None\n",
            "<class 'pandas.core.frame.DataFrame'>\n",
            "RangeIndex: 2000 entries, 0 to 1999\n",
            "Data columns (total 5 columns):\n",
            " #   Column       Non-Null Count  Dtype         \n",
            "---  ------       --------------  -----         \n",
            " 0   Account      2000 non-null   float64       \n",
            " 1   Date         2000 non-null   datetime64[ns]\n",
            " 2   Description  2000 non-null   object        \n",
            " 3   Amount       2000 non-null   float64       \n",
            " 4   Dr_Cr        2000 non-null   object        \n",
            "dtypes: datetime64[ns](1), float64(2), object(2)\n",
            "memory usage: 78.2+ KB\n",
            "None\n"
          ]
        }
      ],
      "source": [
        "print(Sales_Journal_df.info())\n",
        "print(Gen_Journal_df.info())"
      ]
    },
    {
      "cell_type": "code",
      "execution_count": 108,
      "metadata": {
        "id": "TCxQpr7IDF8R"
      },
      "outputs": [],
      "source": [
        "# Purchase Order\n",
        "\n",
        "PO_data = df_PO.copy()\n",
        "\n",
        "Accounts = []\n",
        "Dates = []\n",
        "Descriptions = []\n",
        "Amounts = []\n",
        "Dr_Crs = []\n",
        "ID = 0\n",
        "\n",
        "\n",
        "for index, row in PO_data.iterrows():\n",
        "  ID = ID + 1\n",
        "  date = row['Purchase_Date']\n",
        "  amount = row['Unit_Cost']*row['Quantity']\n",
        "  desc = f\"{ID}_Purchase of Inventory \"\n",
        "  AP_acc = 2000\n",
        "  INV_acc = 1100\n",
        "\n",
        "  Accounts.append(INV_acc)\n",
        "  Dates.append(date)\n",
        "  Descriptions.append(desc)\n",
        "  Amounts.append(amount)\n",
        "  Dr_Cr = \"Debit\"\n",
        "  Dr_Crs.append(Dr_Cr)\n",
        "\n",
        "  Accounts.append(AP_acc)\n",
        "  Dates.append(date)\n",
        "  Descriptions.append(desc)\n",
        "  Amounts.append(amount)\n",
        "  Dr_Cr = \"Credit\"\n",
        "  Dr_Crs.append(Dr_Cr)\n",
        "\n",
        "\n",
        "Inventory_Journal_df = pd.DataFrame({\n",
        "    'Account':Accounts,\n",
        "    'Date':Dates,\n",
        "    'Description': Descriptions,\n",
        "    'Amount':Amounts,\n",
        "    'Dr_Cr':Dr_Crs})\n",
        "\n",
        "Gen_Journal_df = pd.concat([Gen_Journal_df,Inventory_Journal_df,], ignore_index=True)"
      ]
    },
    {
      "cell_type": "code",
      "execution_count": 109,
      "metadata": {
        "colab": {
          "base_uri": "https://localhost:8080/"
        },
        "id": "VD-nQMJCAobm",
        "outputId": "21c17ea2-eaf8-4f25-8862-3fc4d7336291"
      },
      "outputs": [
        {
          "output_type": "stream",
          "name": "stdout",
          "text": [
            "<class 'pandas.core.frame.DataFrame'>\n",
            "RangeIndex: 630 entries, 0 to 629\n",
            "Data columns (total 5 columns):\n",
            " #   Column       Non-Null Count  Dtype         \n",
            "---  ------       --------------  -----         \n",
            " 0   Account      630 non-null    int64         \n",
            " 1   Date         630 non-null    datetime64[ns]\n",
            " 2   Description  630 non-null    object        \n",
            " 3   Amount       630 non-null    float64       \n",
            " 4   Dr_Cr        630 non-null    object        \n",
            "dtypes: datetime64[ns](1), float64(1), int64(1), object(2)\n",
            "memory usage: 24.7+ KB\n",
            "None\n",
            "<class 'pandas.core.frame.DataFrame'>\n",
            "RangeIndex: 2630 entries, 0 to 2629\n",
            "Data columns (total 5 columns):\n",
            " #   Column       Non-Null Count  Dtype         \n",
            "---  ------       --------------  -----         \n",
            " 0   Account      2630 non-null   float64       \n",
            " 1   Date         2630 non-null   datetime64[ns]\n",
            " 2   Description  2630 non-null   object        \n",
            " 3   Amount       2630 non-null   float64       \n",
            " 4   Dr_Cr        2630 non-null   object        \n",
            "dtypes: datetime64[ns](1), float64(2), object(2)\n",
            "memory usage: 102.9+ KB\n",
            "None\n"
          ]
        }
      ],
      "source": [
        "print(Inventory_Journal_df.info())\n",
        "print(Gen_Journal_df.info())"
      ]
    },
    {
      "cell_type": "code",
      "execution_count": 110,
      "metadata": {
        "id": "-_0Xm620wHbH"
      },
      "outputs": [],
      "source": [
        "# COGS\n",
        "\n",
        "COGS_data = COGS_df.copy()\n",
        "\n",
        "Accounts = []\n",
        "Dates = []\n",
        "Descriptions = []\n",
        "Amounts = []\n",
        "Dr_Crs = []\n",
        "ID = 0\n",
        "\n",
        "for index, row in COGS_data.iterrows():\n",
        "  ID = ID + 1\n",
        "\n",
        "  date = row['Date']\n",
        "  amount = row['Value']\n",
        "  desc = f\"{ID}_Quarterly COGS\"\n",
        "  COGS = 5000\n",
        "  INV_acc = 1100\n",
        "\n",
        "  Accounts.append(COGS)\n",
        "  Dates.append(date)\n",
        "  Descriptions.append(desc)\n",
        "  Amounts.append(amount)\n",
        "  Dr_Cr = \"Debit\"\n",
        "  Dr_Crs.append(Dr_Cr)\n",
        "\n",
        "  Accounts.append(INV_acc)\n",
        "  Dates.append(date)\n",
        "  Descriptions.append(desc)\n",
        "  Amounts.append(amount)\n",
        "  Dr_Cr = \"Credit\"\n",
        "  Dr_Crs.append(Dr_Cr)\n",
        "\n",
        "\n",
        "COGS_Journal_df = pd.DataFrame({\n",
        "    'Account':Accounts,\n",
        "    'Date':Dates,\n",
        "    'Description': Descriptions,\n",
        "    'Amount':Amounts,\n",
        "    'Dr_Cr':Dr_Crs})\n",
        "\n",
        "Gen_Journal_df = pd.concat([Gen_Journal_df,COGS_Journal_df,], ignore_index=True)"
      ]
    },
    {
      "cell_type": "code",
      "execution_count": 111,
      "metadata": {
        "id": "C_SLP36PDF8S"
      },
      "outputs": [],
      "source": [
        "# Expenses\n",
        "\n",
        "exp_data = Comp_Exp_df.copy()\n",
        "\n",
        "Accounts = []\n",
        "Dates = []\n",
        "Descriptions = []\n",
        "Amounts = []\n",
        "Dr_Crs = []\n",
        "ID = 0\n",
        "\n",
        "for index, row in exp_data.iterrows():\n",
        "  ID = ID + 1\n",
        "  date = row['Date']\n",
        "  amount = row['Amount']\n",
        "  exp = row['Description']\n",
        "  desc = f\"{ID}_{exp} Expense\"\n",
        "  AP_acc = 2000\n",
        "  Cash_acc = 1000\n",
        "\n",
        "  match exp:\n",
        "    # Fixed Cost Prepaid Exps are being accrued\n",
        "    case 'Rent':\n",
        "      account = 5110\n",
        "      pay_acc = Cash_acc\n",
        "\n",
        "    case 'Wages':\n",
        "      account = 5010\n",
        "      pay_acc = Cash_acc\n",
        "\n",
        "    case 'Insurance':\n",
        "      account = 5050\n",
        "      pay_acc = Cash_acc\n",
        "\n",
        "    case 'Ads':\n",
        "      account = 5020\n",
        "      rand_acc = random.randint(1,100)\n",
        "      if rand_acc < 70:\n",
        "        pay_acc = AP_acc\n",
        "      else:\n",
        "        pay_acc = Cash_acc\n",
        "\n",
        "  Accounts.append(account)\n",
        "  Dates.append(date)\n",
        "  Descriptions.append(desc)\n",
        "  Amounts.append(amount)\n",
        "  Dr_Cr = \"Debit\"\n",
        "  Dr_Crs.append(Dr_Cr)\n",
        "\n",
        "  Accounts.append(pay_acc)\n",
        "  Dates.append(date)\n",
        "  Descriptions.append(desc)\n",
        "  Amounts.append(amount)\n",
        "  Dr_Cr = \"Credit\"\n",
        "  Dr_Crs.append(Dr_Cr)\n",
        "\n",
        "Exp_Journal_df = pd.DataFrame({\n",
        "  'Account':Accounts,\n",
        "  'Date':Dates,\n",
        "  'Description': Descriptions,\n",
        "  'Amount':Amounts,\n",
        "  'Dr_Cr':Dr_Crs})\n",
        "\n",
        "Gen_Journal_df = pd.concat([Gen_Journal_df,Exp_Journal_df,], ignore_index=True)\n"
      ]
    },
    {
      "cell_type": "code",
      "execution_count": 112,
      "metadata": {
        "colab": {
          "base_uri": "https://localhost:8080/"
        },
        "id": "zAyTBdDjBFIO",
        "outputId": "ea5c73ca-1d0a-4e67-cdb3-3e599888a7eb"
      },
      "outputs": [
        {
          "output_type": "stream",
          "name": "stdout",
          "text": [
            "<class 'pandas.core.frame.DataFrame'>\n",
            "RangeIndex: 576 entries, 0 to 575\n",
            "Data columns (total 5 columns):\n",
            " #   Column       Non-Null Count  Dtype         \n",
            "---  ------       --------------  -----         \n",
            " 0   Account      576 non-null    int64         \n",
            " 1   Date         576 non-null    datetime64[ns]\n",
            " 2   Description  576 non-null    object        \n",
            " 3   Amount       576 non-null    float64       \n",
            " 4   Dr_Cr        576 non-null    object        \n",
            "dtypes: datetime64[ns](1), float64(1), int64(1), object(2)\n",
            "memory usage: 22.6+ KB\n",
            "None\n",
            "<class 'pandas.core.frame.DataFrame'>\n",
            "RangeIndex: 3262 entries, 0 to 3261\n",
            "Data columns (total 5 columns):\n",
            " #   Column       Non-Null Count  Dtype         \n",
            "---  ------       --------------  -----         \n",
            " 0   Account      3262 non-null   float64       \n",
            " 1   Date         3262 non-null   datetime64[ns]\n",
            " 2   Description  3262 non-null   object        \n",
            " 3   Amount       3262 non-null   float64       \n",
            " 4   Dr_Cr        3262 non-null   object        \n",
            "dtypes: datetime64[ns](1), float64(2), object(2)\n",
            "memory usage: 127.5+ KB\n",
            "None\n"
          ]
        }
      ],
      "source": [
        "print(Exp_Journal_df.info())\n",
        "print(Gen_Journal_df.info())"
      ]
    },
    {
      "cell_type": "code",
      "execution_count": 113,
      "metadata": {
        "id": "uebrxXbQxHGJ"
      },
      "outputs": [],
      "source": [
        "Gen_Journal_df['Date'] = pd.to_datetime(Gen_Journal_df['Date'],format='%d-%m-%Y')"
      ]
    },
    {
      "cell_type": "code",
      "execution_count": 114,
      "metadata": {
        "id": "ZFm_P9E6DF8T"
      },
      "outputs": [],
      "source": [
        "# Pay off AP and Recieve Recievables\n",
        "\n",
        "Accounts = []\n",
        "Dates = []\n",
        "Descriptions = []\n",
        "Amounts = []\n",
        "Dr_Crs = []\n",
        "\n",
        "for index, row in Gen_Journal_df.iterrows():\n",
        "    # AP = 2000\n",
        "    if row['Account'] == 2000:\n",
        "        Purchase_date = row['Date']\n",
        "        # All AP is Net 30 terms and we way in 30 days\n",
        "        Cash_Paid_Date = row['Date'] + timedelta(days=30)\n",
        "        Cash_Acc = 1000\n",
        "        AP_Acc = 2000\n",
        "        desc = \"Paided down AP liability\"\n",
        "        amount = row[\"Amount\"]\n",
        "\n",
        "        Accounts.append(AP_Acc)\n",
        "        Dates.append(Cash_Paid_Date)\n",
        "        Descriptions.append(desc)\n",
        "        Amounts.append(amount)\n",
        "        Dr_Cr = \"Debit\"\n",
        "        Dr_Crs.append(Dr_Cr)\n",
        "\n",
        "        Accounts.append(Cash_Acc)\n",
        "        Dates.append(Cash_Paid_Date)\n",
        "        Descriptions.append(desc)\n",
        "        Amounts.append(amount)\n",
        "        Dr_Cr = \"Credit\"\n",
        "        Dr_Crs.append(Dr_Cr)\n",
        "\n",
        "    # AR = 1010\n",
        "    elif row['Account'] == 1010:\n",
        "        Purchase_date = row['Date']\n",
        "        # All AP is Net 30 terms and we way in 30 days\n",
        "        Days_Since_Paid = random.randint(5,100)\n",
        "        Cash_Paid_Date = row['Date'] + timedelta(days=Days_Since_Paid)\n",
        "        Cash_Acc = 1000\n",
        "        AR_Acc = 1010\n",
        "        desc = f\"Recieved Recievables after {Days_Since_Paid} late\"\n",
        "        amount = row[\"Amount\"]\n",
        "\n",
        "        Accounts.append(Cash_Acc)\n",
        "        Dates.append(Cash_Paid_Date)\n",
        "        Descriptions.append(desc)\n",
        "        Amounts.append(amount)\n",
        "        Dr_Cr = \"Debit\"\n",
        "        Dr_Crs.append(Dr_Cr)\n",
        "\n",
        "        Accounts.append(AR_Acc)\n",
        "        Dates.append(Cash_Paid_Date)\n",
        "        Descriptions.append(desc)\n",
        "        Amounts.append(amount)\n",
        "        Dr_Cr = \"Credit\"\n",
        "        Dr_Crs.append(Dr_Cr)\n",
        "\n",
        "    else:\n",
        "        pass\n",
        "\n",
        "AP_AR_Journal_df = pd.DataFrame({\n",
        "'Account':Accounts,\n",
        "'Date':Dates,\n",
        "'Description': Descriptions,\n",
        "'Amount':Amounts,\n",
        "'Dr_Cr':Dr_Crs})\n",
        "\n",
        "Gen_Journal_df = pd.concat([Gen_Journal_df,AP_AR_Journal_df,], ignore_index=True)\n"
      ]
    },
    {
      "cell_type": "code",
      "execution_count": 115,
      "metadata": {
        "colab": {
          "base_uri": "https://localhost:8080/"
        },
        "id": "8wfUGFlcAIX1",
        "outputId": "c55584ab-16cf-4fcb-ef16-41589fc78a29"
      },
      "outputs": [
        {
          "output_type": "stream",
          "name": "stdout",
          "text": [
            "<class 'pandas.core.frame.DataFrame'>\n",
            "RangeIndex: 2032 entries, 0 to 2031\n",
            "Data columns (total 5 columns):\n",
            " #   Column       Non-Null Count  Dtype         \n",
            "---  ------       --------------  -----         \n",
            " 0   Account      2032 non-null   int64         \n",
            " 1   Date         2032 non-null   datetime64[ns]\n",
            " 2   Description  2032 non-null   object        \n",
            " 3   Amount       2032 non-null   float64       \n",
            " 4   Dr_Cr        2032 non-null   object        \n",
            "dtypes: datetime64[ns](1), float64(1), int64(1), object(2)\n",
            "memory usage: 79.5+ KB\n",
            "None\n",
            "<class 'pandas.core.frame.DataFrame'>\n",
            "RangeIndex: 5294 entries, 0 to 5293\n",
            "Data columns (total 5 columns):\n",
            " #   Column       Non-Null Count  Dtype         \n",
            "---  ------       --------------  -----         \n",
            " 0   Account      5294 non-null   float64       \n",
            " 1   Date         5294 non-null   datetime64[ns]\n",
            " 2   Description  5294 non-null   object        \n",
            " 3   Amount       5294 non-null   float64       \n",
            " 4   Dr_Cr        5294 non-null   object        \n",
            "dtypes: datetime64[ns](1), float64(2), object(2)\n",
            "memory usage: 206.9+ KB\n",
            "None\n"
          ]
        }
      ],
      "source": [
        "print(AP_AR_Journal_df.info())\n",
        "print(Gen_Journal_df.info())"
      ]
    },
    {
      "cell_type": "markdown",
      "metadata": {
        "id": "B5EvkRuRu36B"
      },
      "source": [
        "# Calculating T-balances for Each account and then by month\n",
        "### Multi-Step Query\n",
        "1. Select * but if Debit then Amount and if Credit then Amount(-1)\n",
        "2. Select * group by account title which will give you the balance of each account totals\n",
        "3. Make a new adjusted T-balance for each of the years seperated by month"
      ]
    },
    {
      "cell_type": "code",
      "execution_count": 116,
      "metadata": {
        "colab": {
          "base_uri": "https://localhost:8080/"
        },
        "id": "VD-OtW374t8l",
        "outputId": "e3e1e9b6-fad1-4874-c3e4-7b286804656e"
      },
      "outputs": [
        {
          "output_type": "stream",
          "name": "stdout",
          "text": [
            "<class 'pandas.core.frame.DataFrame'>\n",
            "RangeIndex: 73 entries, 0 to 72\n",
            "Data columns (total 3 columns):\n",
            " #   Column   Non-Null Count  Dtype  \n",
            "---  ------   --------------  -----  \n",
            " 0   Account  73 non-null     float64\n",
            " 1   Year     73 non-null     int64  \n",
            " 2   Amount   73 non-null     float64\n",
            "dtypes: float64(2), int64(1)\n",
            "memory usage: 1.8 KB\n",
            "None\n"
          ]
        }
      ],
      "source": [
        "# Step 1\n",
        "qry_Tacc1 = '''\n",
        "  SELECT\n",
        "    Account,\n",
        "    Date,\n",
        "    CASE\n",
        "        WHEN Dr_Cr = 'Credit'\n",
        "          THEN Amount * -1\n",
        "        WHEN Dr_Cr = 'Debit'\n",
        "          THEN Amount\n",
        "    END AS Amount\n",
        "  FROM Gen_Journal_df\n",
        "'''\n",
        "Tacc1 = ddb.sql(qry_Tacc1).df()\n",
        "\n",
        "\n",
        "# Step 2\n",
        "qry_Tacc2 = '''\n",
        "  SELECT\n",
        "    Account,\n",
        "    YEAR(Date) AS Year,\n",
        "    ROUND(SUM(Amount),2) AS Amount\n",
        "  FROM Tacc1\n",
        "  GROUP BY Account, Year\n",
        "  ORDER BY Year, Account\n",
        "'''\n",
        "Tacc2 = ddb.sql(qry_Tacc2).df()\n",
        "\n",
        "# Seperate into DF per year\n",
        "\n",
        "Account_Dataframes = []\n",
        "Year_Account_List = []\n",
        "\n",
        "for year in Tacc2['Year'].unique():\n",
        "    filtered_df = Tacc2[Tacc2['Year'] == year]\n",
        "    Year_Account_List.append(year)\n",
        "    Account_Dataframes.append(filtered_df)\n",
        "\n",
        "Yearly_Account_zipped = zip(Year_Account_List, Account_Dataframes)\n",
        "zipped_Yearly_Account_dict = dict(Yearly_Account_zipped)\n",
        "\n",
        "print(Tacc2.info())\n",
        "\n"
      ]
    },
    {
      "cell_type": "markdown",
      "metadata": {
        "id": "ay0cRYOgT4vQ"
      },
      "source": [
        "# What is Left\n",
        "## Create Financial Statments for Each Year\n",
        "### Income Statment\n",
        "### Balance Sheet\n",
        "- With Retained Earnings created from Previous Years\n",
        "###\n",
        "\n",
        "# First I need to make correction to the following accounts\n",
        "### The following accounts are based on the year, but I need to carry fowards all of the balance sheet accounts each year. All of the balance sheet accounts"
      ]
    },
    {
      "cell_type": "code",
      "execution_count": 117,
      "metadata": {
        "id": "nAYfw_lkuJoq"
      },
      "outputs": [],
      "source": [
        "\n",
        "with pd.ExcelWriter('tacc2.xlsx') as writer:\n",
        "   Tacc2.to_excel(writer, sheet_name='Sheet1', index=False)\n"
      ]
    },
    {
      "cell_type": "code",
      "source": [
        "print(Tacc2.info())"
      ],
      "metadata": {
        "id": "JWWd7DclLqp2",
        "outputId": "7a1e3db4-1384-40a5-e3fa-c5208123d89f",
        "colab": {
          "base_uri": "https://localhost:8080/"
        }
      },
      "execution_count": 118,
      "outputs": [
        {
          "output_type": "stream",
          "name": "stdout",
          "text": [
            "<class 'pandas.core.frame.DataFrame'>\n",
            "RangeIndex: 73 entries, 0 to 72\n",
            "Data columns (total 3 columns):\n",
            " #   Column   Non-Null Count  Dtype  \n",
            "---  ------   --------------  -----  \n",
            " 0   Account  73 non-null     float64\n",
            " 1   Year     73 non-null     int64  \n",
            " 2   Amount   73 non-null     float64\n",
            "dtypes: float64(2), int64(1)\n",
            "memory usage: 1.8 KB\n",
            "None\n"
          ]
        }
      ]
    },
    {
      "cell_type": "markdown",
      "metadata": {
        "id": "AUEJg2fgeg3V"
      },
      "source": [
        "## Income Statments\n",
        "\n",
        "|Code|**Income Statment**||Amount|\n",
        "|---|---|---|---|\n",
        "|4000|Sales Rev||xxx|\n",
        "|5000|COGS||(xxx)|\n",
        "|0007|Gross Profit||xxx|\n",
        "|5110|Rent Exp||xxx|\n",
        "|5050|Insurance Exp||xxx|\n",
        "|5010|Salaries Exp||xxx|\n",
        "|0008||Total Operating Exp|xxx|\n",
        "|0010||EBITA|xxx|\n",
        "|6000|Interest Income||(xxx)|\n",
        "|0013||Income Before Tax|xxx|\n",
        "|0014|Income Tax|||\n",
        "|0015|***Net Income***||xxx|"
      ]
    },
    {
      "cell_type": "code",
      "execution_count": 119,
      "metadata": {
        "id": "des-9WHmfDKK"
      },
      "outputs": [],
      "source": [
        "Year = []\n",
        "Sales_Rev = []\n",
        "COGS = []\n",
        "Gross_Profit = []\n",
        "Rent_exp = []\n",
        "Insurance_exp = []\n",
        "Salaries_exp = []\n",
        "Ad_exp = []\n",
        "Total_Operating_exp = []\n",
        "EBITA = []\n",
        "Interest_Income = []\n",
        "Income_Before_Tax = []\n",
        "Income_Tax = []\n",
        "Net_Income = []\n",
        "\n",
        "5020\n",
        "\n",
        "for year in Tacc2['Year'].unique():\n",
        "  if year < 2022:\n",
        "    Tacc2.loc[(Tacc2['Account']==5000) & (Tacc2['Year']==year),'Amount'].iloc[0]\n",
        "    Year.append(year)\n",
        "    sales_rev = Tacc2.loc[(Tacc2['Account']==4000) & (Tacc2['Year']==year),'Amount'].iloc[0] * -1\n",
        "    Sales_Rev.append(sales_rev)\n",
        "    cogs = Tacc2.loc[(Tacc2['Account']==5000) & (Tacc2['Year']==year),'Amount'].iloc[0]\n",
        "    COGS.append(cogs)\n",
        "    gross_profit = sales_rev - cogs\n",
        "    Gross_Profit.append(gross_profit)\n",
        "    rent_exp = Tacc2.loc[(Tacc2['Account']==5110) & (Tacc2['Year']==year),'Amount'].iloc[0]\n",
        "    Rent_exp.append(rent_exp)\n",
        "    insurance_exp = Tacc2.loc[(Tacc2['Account']==5050) & (Tacc2['Year']==year),'Amount'].iloc[0]\n",
        "    Insurance_exp.append(insurance_exp)\n",
        "    salaries_exp = Tacc2.loc[(Tacc2['Account']==5010) & (Tacc2['Year']==year),'Amount'].iloc[0]\n",
        "    Salaries_exp.append(salaries_exp)\n",
        "    ad_exp = Tacc2.loc[(Tacc2['Account']==5020) & (Tacc2['Year']==year),'Amount'].iloc[0]\n",
        "    Ad_exp.append(ad_exp)\n",
        "    total_op_exp = salaries_exp + insurance_exp + rent_exp + ad_exp\n",
        "    Total_Operating_exp.append(total_op_exp)\n",
        "    EBITA.append(gross_profit - total_op_exp)\n",
        "\n",
        "Income_Statments = pd.DataFrame({\n",
        "'Year':Year,\n",
        "'Sales_Rev':Sales_Rev,\n",
        "'COGS':COGS,\n",
        "'Gross_Profit':Gross_Profit,\n",
        "'Rent_exp':Rent_exp,\n",
        "'Insurance_exp':Insurance_exp,\n",
        "'Salaries_exp':Salaries_exp,\n",
        "'Ad_exp':Ad_exp,\n",
        "'Total_Operating_exp':Total_Operating_exp,\n",
        "'EBITA':EBITA})\n",
        "\n"
      ]
    },
    {
      "cell_type": "markdown",
      "metadata": {
        "id": "pg9aqEnJerbB"
      },
      "source": [
        "### Balance Sheet\n",
        "|Code|**Balance Sheet**|Account|Amount|\n",
        "|---|---|---|---|\n",
        "|1000|Cash||xxx|\n",
        "|1010|Accounts Recievable||xxx|\n",
        "|1100|Inventory||xxx|\n",
        "|0001||Total Current Assets|xxx|\n",
        "|1250|Land||xxx|\n",
        "|1230|Equipment||xxx|\n",
        "|1231|Accumulated Depreciation||(xxx)|\n",
        "|0002||Total Asset|xxx|\n",
        "|2000|Accounts Payable||xxx|\n",
        "|2020|Notes Payable||xxx|\n",
        "|0004||Total Liability|xxx|\n",
        "|3010|Retained Earnings||xxx|\n",
        "|0005||Total Equity|xxx|\n",
        "|0006|***Total Liabilities and Equity***||xxx|"
      ]
    },
    {
      "cell_type": "code",
      "execution_count": 120,
      "metadata": {
        "id": "QsjiPChQfDrk"
      },
      "outputs": [],
      "source": [
        "Cash = []\n",
        "ARec = []\n",
        "Inventory = []\n",
        "Total_Current_Assets = []\n",
        "Land = []\n",
        "Equpiment = []\n",
        "Buildings = []\n",
        "Net_Accum_Depreciation = []\n",
        "Total_Assets = []\n",
        "Accounts_Payable = []\n",
        "Notes_Payable = []\n",
        "Total_Liability = []\n",
        "Retained_Earnings = []\n",
        "Total_Equity = []\n",
        "Total_Liabilities_Equity = []\n",
        "Year = []\n",
        "Balanced = []\n",
        "\n",
        "for year in Tacc2['Year'].unique():\n",
        "    Year.append(year)\n",
        "    cash = Tacc2.loc[(Tacc2['Account']==1000) & (Tacc2['Year']==year),'Amount'].sum()\n",
        "    Cash.append(cash)\n",
        "    arec = Tacc2.loc[(Tacc2['Account']==1010) & (Tacc2['Year']==year),'Amount'].sum()\n",
        "    ARec.append(arec)\n",
        "    inventory = Tacc2.loc[(Tacc2['Account']==1100) & (Tacc2['Year']==year),'Amount'].sum()\n",
        "    Inventory.append(inventory)\n",
        "    tca = cash + arec + inventory\n",
        "    Total_Current_Assets.append(tca)\n",
        "    total_asset = (cash + arec + inventory).astype(float)\n",
        "    Total_Assets.append(total_asset)\n",
        "    ap = Tacc2.loc[(Tacc2['Account']==2000) & (Tacc2['Year']==year),'Amount'].sum()\n",
        "    Accounts_Payable.append(ap)\n",
        "    total_liability = ap\n",
        "    Total_Liability.append(total_liability)\n",
        "    total_liability_equity = ap.astype(float)\n",
        "    Total_Liabilities_Equity.append(total_liability_equity)\n",
        "    if total_liability_equity == total_asset:\n",
        "        Balanced.append(True)\n",
        "    else:\n",
        "        Balanced.append(False)\n",
        "\n",
        "Balance_Sheets_unadjusted = pd.DataFrame({\n",
        "'Year':Year,\n",
        "'Cash':Cash,\n",
        "'Arec':ARec,\n",
        "'Inventory':Inventory,\n",
        "'Total_Current_Assets':Total_Current_Assets,\n",
        "'Total_Assets':Total_Assets,\n",
        "'Accounts_Payable':Accounts_Payable,\n",
        "'Total_Liability': Total_Liability,\n",
        "'Total_Liabilities_Equity':Total_Liabilities_Equity,\n",
        "})\n",
        "\n",
        "Balance_Sheets = Balance_Sheets_unadjusted.cumsum().shift(1, fill_value=0) + Balance_Sheets_unadjusted\n",
        "Balance_Sheets['Year'] = Year"
      ]
    },
    {
      "cell_type": "code",
      "source": [
        "print(Balance_Sheets)"
      ],
      "metadata": {
        "id": "TZfVnZVPnWIY",
        "outputId": "7db7122d-05f6-4eed-b8cf-516febb6d3b6",
        "colab": {
          "base_uri": "https://localhost:8080/"
        }
      },
      "execution_count": 121,
      "outputs": [
        {
          "output_type": "stream",
          "name": "stdout",
          "text": [
            "   Year          Cash          Arec  Inventory  Total_Current_Assets  \\\n",
            "0  2015  2.126745e+07  9.877625e+06  751157.97          3.189623e+07   \n",
            "1  2016  4.660819e+07  1.105510e+07  442591.41          5.810588e+07   \n",
            "2  2017  6.398840e+07  2.424433e+07  504573.05          8.873731e+07   \n",
            "3  2018  1.196814e+08  1.298663e+07  559049.65          1.332271e+08   \n",
            "4  2019  1.544548e+08  1.477128e+07  586808.49          1.698129e+08   \n",
            "5  2020  1.889426e+08  2.131923e+07  612842.96          2.108747e+08   \n",
            "6  2021  2.255279e+08  1.523926e+07  454575.82          2.412217e+08   \n",
            "7  2022  2.505701e+08 -1.862645e-09  454575.82          2.510247e+08   \n",
            "\n",
            "   Total_Assets  Accounts_Payable  Total_Liability  Total_Liabilities_Equity  \n",
            "0  3.189623e+07               0.0              0.0                       0.0  \n",
            "1  5.810588e+07               0.0              0.0                       0.0  \n",
            "2  8.873731e+07               0.0              0.0                       0.0  \n",
            "3  1.332271e+08               0.0              0.0                       0.0  \n",
            "4  1.698129e+08               0.0              0.0                       0.0  \n",
            "5  2.108747e+08               0.0              0.0                       0.0  \n",
            "6  2.412217e+08               0.0              0.0                       0.0  \n",
            "7  2.510247e+08               0.0              0.0                       0.0  \n"
          ]
        }
      ]
    },
    {
      "cell_type": "code",
      "source": [
        "# Print Pre Balance Sheets\n",
        "with pd.ExcelWriter('genjourn.xlsx') as writer:\n",
        "    Gen_Journal_df.to_excel(writer, sheet_name='Sheet1', index=False)\n",
        "\n",
        "with pd.ExcelWriter('income.xlsx') as writer:\n",
        "    Income_Statments.to_excel(writer, sheet_name='Sheet1', index=False)\n",
        "\n",
        "with pd.ExcelWriter('balance_udaj.xlsx') as writer:\n",
        "    Balance_Sheets_unadjusted.to_excel(writer, sheet_name='Sheet1', index=False)\n",
        "\n",
        "with pd.ExcelWriter('balance.xlsx') as writer:\n",
        "    Balance_Sheets.to_excel(writer, sheet_name='Sheet1', index=False)\n"
      ],
      "metadata": {
        "id": "yzwxQS_T5dIn"
      },
      "execution_count": 122,
      "outputs": []
    },
    {
      "cell_type": "markdown",
      "source": [
        "\n",
        "# Other Balance Sheet Transactions\n",
        "## Increase in Assets will also increase:\n",
        "1. Loans (Notes Payable)\n",
        "2. Common Shares\n",
        "    - Useful for injecting cash if needed\n",
        "    - may need to pay dividends\n",
        "3. Retained Earnings\n",
        "\n",
        "## Adding Assets:\n",
        "1. Land (Not in this scenario they rent)\n",
        "2. Equipment\n",
        "3. Buildings\n",
        "    - Depreciation for Equipment and Buildings\n",
        "\n",
        "## Implementation\n",
        "Either the user can define everything, user define equipment amount and computer will determine depreciation, or the program will decided what to do based on retained earnings and the following criteria\n",
        "1. Equipment will depreciate at 5% of retained earnings over 20 years for scenario one, Equipment value will be that number * 20 years (straight line deprecation) but because EBITA will be different every year I will take the average of all the years for that calc.\n",
        "2. Buildings will depreciate at 10% of retained earnings over 30 years, same calculations\n",
        "3. The amount of depr before the start of the recorded period will have to be recorded."
      ],
      "metadata": {
        "id": "PnPEBgyzO4zK"
      }
    },
    {
      "cell_type": "code",
      "execution_count": 123,
      "metadata": {
        "id": "BEMD5cMLDF8T"
      },
      "outputs": [],
      "source": [
        "# Calculating Depreciation\n",
        "Equipment_depr = []\n",
        "Building_depr = []\n",
        "Years_list = []\n",
        "Unadjusted_RetainedEarnings = []\n",
        "\n",
        "for year in Income_Statments['Year']:\n",
        "  # Unadjusted Retained Earnings = EBITA || Retained Earnings = Net Income calced now\n",
        "  EBITA = Income_Statments.loc[(Income_Statments['Year'] == year), 'EBITA'].sum()\n",
        "  equipment_depr = EBITA * .05\n",
        "  Equipment_depr.append(equipment_depr)\n",
        "  building_depr = EBITA *.1\n",
        "  Building_depr.append(building_depr)\n",
        "  Years_list.append(year)\n",
        "  Unadjusted_RetainedEarnings.append(EBITA)\n",
        "\n",
        "Yearly_Equipment_depr = sum(Equipment_depr) / len(Equipment_depr)\n",
        "Yearly_Building_depr = sum(Building_depr) / len(Building_depr)\n",
        "\n",
        "Value_Equipment_New = Yearly_Equipment_depr * 20\n",
        "Value_Building_New = Yearly_Building_depr * 30\n",
        "\n",
        "# Adding Unadjusted Retained Earnings to Balance Sheet to then adjust as I go\n",
        "# Append a year for 2022 because I don't have a better solution yet\n",
        "Unadjusted_RetainedEarnings.append(0)\n",
        "Balance_Sheets['Retained_Earnings'] = Unadjusted_RetainedEarnings\n",
        "\n",
        "\n",
        "# Adding the rest of the accounts to the balance sheet and income statment\n",
        "Income_Statments['Interst_Exp'] = None\n",
        "Balance_Sheets['Buildings'] = None\n",
        "Balance_Sheets['Equipment'] = None\n",
        "Balance_Sheets['Accum_Depr-Buildings'] = None\n",
        "Balance_Sheets['Accum_Depr-Equipment'] = None\n",
        "Balance_Sheets['Notes_Payable'] = None\n",
        "\n",
        "\n"
      ]
    },
    {
      "cell_type": "code",
      "source": [
        "# Creating an additional assets journal\n",
        "Accounts = []\n",
        "Dates = []\n",
        "Descriptions = []\n",
        "Amounts = []\n",
        "Dr_Crs = []\n",
        "RetainedEarnings = []\n",
        "\n",
        "# Scenario 1 - All assets will be 10 years into their book values\n",
        "# This variables will be the counters for depreciation\n",
        "Value_Equipment = Value_Equipment_New*.5 # Half useful life\n",
        "Value_Equipment_depr = Value_Equipment_New*(10/20) # Half Depreciated\n",
        "\n",
        "Value_Building = Value_Building_New*(20/30)\n",
        "Value_Building_depr = Value_Building_New*(10/30)\n",
        "\n",
        "# Apply the Value of assets to balance sheet\n",
        "# Balance_Sheets['Buildings'].iloc[0] = Value_Building\n",
        "Balance_Sheets['Equipment'].iloc[0] = Value_Equipment\n",
        "\n",
        "\n",
        "\n",
        "for year in Income_Statments['Year']:\n",
        "  Retained_Earnings_sub = 0\n",
        "  if Value_Equipment != 0:\n",
        "      Date = f\"12/31/{year}\"\n",
        "\n",
        "      # Debit Retained Earnings\n",
        "      Accounts.append(3010)\n",
        "      Dates.append(Date)\n",
        "      Descriptions.append(\"Deprecation of Equipment\")\n",
        "      Amounts.append(Yearly_Equipment_depr)\n",
        "      Dr_Cr = \"Debit\"\n",
        "      Dr_Crs.append(Dr_Cr)\n",
        "\n",
        "      # Credit depr - Equipment\n",
        "      Accounts.append(1231)\n",
        "      Dates.append(Date)\n",
        "      Descriptions.append(\"Deprecation of Equipment\")\n",
        "      Amounts.append(Yearly_Equipment_depr)\n",
        "      Dr_Cr = \"Credit\"\n",
        "      Dr_Crs.append(Dr_Cr)\n",
        "\n",
        "      Value_Equipment = Value_Equipment - Yearly_Equipment_depr\n",
        "      Retained_Earnings_sub = Retained_Earnings_sub - Yearly_Equipment_depr\n",
        "\n",
        "      RetainedEarnings.append(Retained_Earnings_sub) # Goes after commented section if you use it.\n",
        "\n",
        "      # Adjusting the Balance Sheet\n",
        "\n",
        "      Balance_Sheets.loc[Balance_Sheets['Year'] == year, 'Accum_Depr-Equipment'] += Yearly_Equipment_depr\n",
        "      Balance_Sheets.loc[Balance_Sheets['Year'] == year, 'Retained_Earnings'] -= Yearly_Equipment_depr\n",
        "\n",
        "      previous_year_index = Balance_Sheets[Balance_Sheets['Year'] == year - 1].index\n",
        "      if not previous_year_index.empty:\n",
        "        previous_year_value = Balance_Sheets.loc[previous_year_index, 'Equipment'].values[0]\n",
        "        Balance_Sheets.loc[Balance_Sheets['Year'] == year, 'Equipment'] = previous_year_value - Yearly_Equipment_depr\n",
        "\n",
        "'''\n",
        "This can be used in another scenario I forgto they rent and therefore wouldn't have land or buildings\n",
        "  if Value_Building != 0:\n",
        "      # Debit Retained Earnings\n",
        "      Accounts.append(3010)\n",
        "      Dates.append(Date)\n",
        "      Descriptions.append(\"Deprecation of Building\")\n",
        "      Amounts.append(Yearly_Building_depr)\n",
        "      Dr_Cr = \"Debit\"\n",
        "      Dr_Crs.append(Dr_Cr)\n",
        "\n",
        "      # Credit depr - Building\n",
        "      Accounts.append(1241)\n",
        "      Dates.append(Date)\n",
        "      Descriptions.append(\"Deprecation of Building\")\n",
        "      Amounts.append(Yearly_Building_depr)\n",
        "      Dr_Cr = \"Credit\"\n",
        "      Dr_Crs.append(Dr_Cr)\n",
        "\n",
        "      Value_Building = Value_Building - Yearly_Building_depr\n",
        "      Retained_Earnings_sub = Retained_Earnings_sub - Yearly_Building_depr\n",
        "'''\n",
        "\n",
        "\n",
        "Depr_Journal_df = pd.DataFrame({\n",
        "'Account':Accounts,\n",
        "'Date':Dates,\n",
        "'Description': Descriptions,\n",
        "'Amount':Amounts,\n",
        "'Dr_Cr':Dr_Crs})\n",
        "\n",
        "print(Depr_Journal_df.info())\n",
        "Gen_Journal_df = pd.concat([Gen_Journal_df,Depr_Journal_df], ignore_index=True)\n",
        "\n",
        "\n",
        "\n"
      ],
      "metadata": {
        "id": "h70xcSk3XehG",
        "outputId": "59f6390a-e970-4586-c459-b400d2b7ade0",
        "colab": {
          "base_uri": "https://localhost:8080/"
        }
      },
      "execution_count": 124,
      "outputs": [
        {
          "output_type": "stream",
          "name": "stdout",
          "text": [
            "<class 'pandas.core.frame.DataFrame'>\n",
            "RangeIndex: 14 entries, 0 to 13\n",
            "Data columns (total 5 columns):\n",
            " #   Column       Non-Null Count  Dtype  \n",
            "---  ------       --------------  -----  \n",
            " 0   Account      14 non-null     int64  \n",
            " 1   Date         14 non-null     object \n",
            " 2   Description  14 non-null     object \n",
            " 3   Amount       14 non-null     float64\n",
            " 4   Dr_Cr        14 non-null     object \n",
            "dtypes: float64(1), int64(1), object(3)\n",
            "memory usage: 688.0+ bytes\n",
            "None\n"
          ]
        },
        {
          "output_type": "stream",
          "name": "stderr",
          "text": [
            "<ipython-input-124-0314942f3809>:19: SettingWithCopyWarning: \n",
            "A value is trying to be set on a copy of a slice from a DataFrame\n",
            "\n",
            "See the caveats in the documentation: https://pandas.pydata.org/pandas-docs/stable/user_guide/indexing.html#returning-a-view-versus-a-copy\n",
            "  Balance_Sheets['Equipment'].iloc[0] = Value_Equipment\n"
          ]
        }
      ]
    },
    {
      "cell_type": "markdown",
      "source": [
        "# Next Step - Add notes payable for the full value of the asset, reduce it by ten years in line with depreciation. add payments for interest and principle\n",
        "1. We need to Dr Notes Payable Dr Interest Exp Cr Cash\n",
        "  - The Cash might be negative, which means we will have to determine by how much as apply retained Earnings to the year to bring it back up to positive\n",
        "2. For simplicity it is a 20 year fixed 5% loan"
      ],
      "metadata": {
        "id": "W1HIUMSEkNlD"
      }
    },
    {
      "cell_type": "code",
      "source": [
        "Original_Notes = Value_Equipment_New\n",
        "# I can seperate them into monthly payments another day\n",
        "Note_Payments_Yearly = Original_Notes / 20 # Years of notes\n",
        "Interest_Payments_Yearly = Original_Notes * .05\n",
        "\n",
        "Notes_Remaining = Original_Notes - (Note_Payments_Yearly*10)\n",
        "Notes_Counter = Notes_Remaining\n",
        "\n",
        "\n",
        "# Apply Notes To Balance Sheet at remaining Price for year 1\n",
        "Balance_Sheets['Notes_Payable'].iloc[0] = Notes_Remaining\n",
        "\n",
        "\n",
        "Accounts = []\n",
        "Dates = []\n",
        "Descriptions = []\n",
        "Amounts = []\n",
        "Dr_Crs = []\n",
        "RetainedEarnings = []\n",
        "\n",
        "for year in Balance_Sheets['Year']:\n",
        "  if Note_Counter != 0:\n",
        "      Date = f\"12/31/{year}\"\n",
        "\n",
        "    # Debit Notes Payable\n",
        "      Accounts.append(2020)\n",
        "      Dates.append(Date)\n",
        "      Descriptions.append(\"Notes Payment\")\n",
        "      Amounts.append(Note_Payments_Yearly)\n",
        "      Dr_Cr = \"Debit\"\n",
        "      Dr_Crs.append(Dr_Cr)\n",
        "\n",
        "    # Debit Interest Exp\n",
        "      Accounts.append(5080)\n",
        "      Dates.append(Date)\n",
        "      Descriptions.append(\"Interest on Notes\")\n",
        "      Amounts.append(Interest_Payments_Yearly)\n",
        "      Dr_Cr = \"Debit\"\n",
        "      Dr_Crs.append(Dr_Cr)\n",
        "\n",
        "    # Credit Cash\n",
        "      Accounts.append(1000)\n",
        "      Dates.append(Date)\n",
        "      Descriptions.append(\"Notes/Interest Payment\")\n",
        "      Amounts.append(Interest_Payments_Yearly+Note_Payments_Yearly)\n",
        "      Dr_Cr = \"Credit\"\n",
        "      Dr_Crs.append(Dr_Cr)\n",
        "\n",
        "      Notes_Counter = Notes_Counter - Note_Payments_Yearly\n",
        "\n",
        "      # Adjust Financial Statments\n",
        "      Income_Statments.loc[Income_Statments['Year'] == year, 'Interst_Exp'] += Interest_Payments_Yearly\n",
        "      Balance_Sheets.loc[Balance_Sheets['Year'] == year, 'Cash'] -= (Interest_Payments_Yearly + Note_Payments_Yearly)\n",
        "      previous_year_index = Balance_Sheets[Balance_Sheets['Year'] == year - 1].index\n",
        "      if not previous_year_index.empty:\n",
        "        previous_year_value = Balance_Sheets.loc[previous_year_index, 'Notes_Payable'].values[0]\n",
        "        Balance_Sheets.loc[Balance_Sheets['Year'] == year, 'Notes_Payable'] = previous_year_value - Note_Payments_Yearly\n",
        "\n",
        "Notes_Journal_df = pd.DataFrame({\n",
        "'Account':Accounts,\n",
        "'Date':Dates,\n",
        "'Description': Descriptions,\n",
        "'Amount':Amounts,\n",
        "'Dr_Cr':Dr_Crs})\n",
        "\n",
        "print(Depr_Journal_df.info())\n",
        "Gen_Journal_df = pd.concat([Gen_Journal_df,Notes_Journal_df], ignore_index=True)\n"
      ],
      "metadata": {
        "id": "_mk9gx7Ej7Eb",
        "outputId": "5ef8a6de-ab22-42a0-96d4-60abb37bb8e8",
        "colab": {
          "base_uri": "https://localhost:8080/"
        }
      },
      "execution_count": 125,
      "outputs": [
        {
          "output_type": "stream",
          "name": "stdout",
          "text": [
            "<class 'pandas.core.frame.DataFrame'>\n",
            "RangeIndex: 14 entries, 0 to 13\n",
            "Data columns (total 5 columns):\n",
            " #   Column       Non-Null Count  Dtype  \n",
            "---  ------       --------------  -----  \n",
            " 0   Account      14 non-null     int64  \n",
            " 1   Date         14 non-null     object \n",
            " 2   Description  14 non-null     object \n",
            " 3   Amount       14 non-null     float64\n",
            " 4   Dr_Cr        14 non-null     object \n",
            "dtypes: float64(1), int64(1), object(3)\n",
            "memory usage: 688.0+ bytes\n",
            "None\n"
          ]
        },
        {
          "output_type": "stream",
          "name": "stderr",
          "text": [
            "<ipython-input-125-58e5169f423d>:11: SettingWithCopyWarning: \n",
            "A value is trying to be set on a copy of a slice from a DataFrame\n",
            "\n",
            "See the caveats in the documentation: https://pandas.pydata.org/pandas-docs/stable/user_guide/indexing.html#returning-a-view-versus-a-copy\n",
            "  Balance_Sheets['Notes_Payable'].iloc[0] = Notes_Remaining\n"
          ]
        }
      ]
    },
    {
      "cell_type": "code",
      "source": [
        "# REadjust Balance Sheet\n"
      ],
      "metadata": {
        "id": "5AUFMnlc4kr5"
      },
      "execution_count": 126,
      "outputs": []
    },
    {
      "cell_type": "markdown",
      "metadata": {
        "id": "x2twl_rfe4P0"
      },
      "source": [
        "### Cash Flow (After Adding other Balance Sheet Transactions)\n",
        "|Code|**Cash Flow**|||\n",
        "|---|---|---|---|\n",
        "|0000|I. Operating Activities|||\n",
        "|0015|Net Income||xxx|\n",
        "|5030|Depreciation||xxx|\n",
        "|1010|(+)/- Accounts Recivable||xxx|\n",
        "|2000|+/(-) Accounts Payable||xxx|\n",
        "|1100|(+)/- Inventory||xxx|\n",
        "|0012|+/(-) Interest Income||xxx|\n",
        "|0016||Net Cash From Operations|xxx|\n",
        "|0000|II. Investing Activities|||\n",
        "|0000|None For this Scenario|||\n",
        "|0000|III. Financing Activities|||\n",
        "|2020|(-)/+ Notes Payable||(xxx)|\n",
        "|0018||Net Cash From Financing|xxx|\n",
        "|0019|Begining Cash Balance||xxx|\n",
        "|0020|End Cash Balance||xxx|\n",
        "|0021|***Net Cash Flow***||xxx|"
      ]
    },
    {
      "cell_type": "code",
      "execution_count": 127,
      "metadata": {
        "colab": {
          "base_uri": "https://localhost:8080/",
          "height": 35
        },
        "id": "Mp_Jf3YZDF8T",
        "outputId": "667d5af3-b429-4b7f-b394-49e0fcea9fcb"
      },
      "outputs": [
        {
          "output_type": "execute_result",
          "data": {
            "text/plain": [
              "'\\n%%shell\\njupyter nbconvert --to html /content/Copy_of_Test_Work.ipynb\\n'"
            ],
            "application/vnd.google.colaboratory.intrinsic+json": {
              "type": "string"
            }
          },
          "metadata": {},
          "execution_count": 127
        }
      ],
      "source": [
        "'''\n",
        "%%shell\n",
        "jupyter nbconvert --to html /content/Copy_of_Test_Work.ipynb\n",
        "'''"
      ]
    },
    {
      "cell_type": "code",
      "execution_count": 128,
      "metadata": {
        "id": "-NP57IjkDF8T"
      },
      "outputs": [],
      "source": [
        "\n",
        "with pd.ExcelWriter('genjourn_adjusted.xlsx') as writer:\n",
        "    Gen_Journal_df.to_excel(writer, sheet_name='Sheet1', index=False)\n",
        "\n",
        "with pd.ExcelWriter('income_adjusted.xlsx') as writer:\n",
        "    Income_Statments.to_excel(writer, sheet_name='Sheet1', index=False)\n",
        "\n",
        "with pd.ExcelWriter('balance_adjusted.xlsx') as writer:\n",
        "    Balance_Sheets.to_excel(writer, sheet_name='Sheet1', index=False)\n"
      ]
    }
  ],
  "metadata": {
    "colab": {
      "provenance": [],
      "include_colab_link": true
    },
    "kernelspec": {
      "display_name": "base",
      "language": "python",
      "name": "python3"
    },
    "language_info": {
      "codemirror_mode": {
        "name": "ipython",
        "version": 3
      },
      "file_extension": ".py",
      "mimetype": "text/x-python",
      "name": "python",
      "nbconvert_exporter": "python",
      "pygments_lexer": "ipython3",
      "version": "3.11.3"
    },
    "orig_nbformat": 4
  },
  "nbformat": 4,
  "nbformat_minor": 0
}