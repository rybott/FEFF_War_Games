{
  "cells": [
    {
      "cell_type": "markdown",
      "metadata": {
        "colab_type": "text",
        "id": "view-in-github"
      },
      "source": [
        "<a href=\"https://colab.research.google.com/github/rybott/FEFF_War_Games/blob/main/Company_Generator.ipynb\" target=\"_parent\"><img src=\"https://colab.research.google.com/assets/colab-badge.svg\" alt=\"Open In Colab\"/></a>"
      ]
    },
    {
      "cell_type": "markdown",
      "metadata": {
        "id": "0Un8qShSIT7a"
      },
      "source": [
        "### Modules Used"
      ]
    },
    {
      "cell_type": "code",
      "execution_count": 2,
      "metadata": {
        "id": "_1KURd6cISgI"
      },
      "outputs": [],
      "source": [
        "import pandas as pd\n",
        "import numpy as np\n",
        "from datetime import timedelta\n",
        "import random\n",
        "import duckdb as ddb\n",
        "\n",
        "# Further Analysis\n",
        "import matplotlib.pyplot as plt\n",
        "# import plotly.express as px"
      ]
    },
    {
      "cell_type": "markdown",
      "metadata": {
        "id": "PnvAaD0xIJdz"
      },
      "source": [
        "# Generating the Sales Data for the Company"
      ]
    },
    {
      "cell_type": "code",
      "execution_count": 3,
      "metadata": {
        "colab": {
          "base_uri": "https://localhost:8080/"
        },
        "id": "MdGInyQIH7WP",
        "outputId": "e6f100a5-d487-44f0-9b74-e6e2f137ed51"
      },
      "outputs": [
        {
          "name": "stdout",
          "output_type": "stream",
          "text": [
            "<class 'pandas.core.frame.DataFrame'>\n",
            "RangeIndex: 1000 entries, 0 to 999\n",
            "Data columns (total 11 columns):\n",
            " #   Column         Non-Null Count  Dtype         \n",
            "---  ------         --------------  -----         \n",
            " 0   Order_Date     1000 non-null   datetime64[ns]\n",
            " 1   Shipment_Date  1000 non-null   datetime64[ns]\n",
            " 2   StoreID        1000 non-null   int64         \n",
            " 3   StoreName      1000 non-null   object        \n",
            " 4   Product_Type   1000 non-null   object        \n",
            " 5   Unit_Price     1000 non-null   float64       \n",
            " 6   Unit_Cost      1000 non-null   float64       \n",
            " 7   Quantity       1000 non-null   int64         \n",
            " 8   Revenue        1000 non-null   float64       \n",
            " 9   Total_Cost     1000 non-null   float64       \n",
            " 10  Total Profit   1000 non-null   float64       \n",
            "dtypes: datetime64[ns](2), float64(5), int64(2), object(2)\n",
            "memory usage: 86.1+ KB\n",
            "None\n"
          ]
        }
      ],
      "source": [
        "def generate_sales_data(num_records, start_date, end_date, regions_df, products_df):\n",
        "    # Lists to store generated data\n",
        "    order_dates = []\n",
        "    shipment_dates = []\n",
        "    regions = []\n",
        "    countries = []\n",
        "    product_types = []\n",
        "    unit_prices = []\n",
        "    unit_costs = []\n",
        "    quantities = []\n",
        "\n",
        "    # Generate data for each record\n",
        "    for _ in range(num_records):\n",
        "        # Randomly select region and corresponding country\n",
        "        region_row = regions_df.sample().iloc[0]\n",
        "        regions.append(region_row['StoreID'])\n",
        "        countries.append(region_row['StoreName'])\n",
        "\n",
        "        # Randomly select product and corresponding unit price and cost\n",
        "        product_row = products_df.sample().iloc[0]\n",
        "        product_types.append(product_row['Product'])\n",
        "        unit_prices.append(product_row['Unit Price'])\n",
        "        unit_costs.append(product_row['Unit Cost'])\n",
        "\n",
        "        # Random order date between start and end date\n",
        "        random_date = start_date + timedelta(days=np.random.randint(0, (end_date-start_date).days))\n",
        "        order_dates.append(random_date)\n",
        "        # Ship date between 1 and 50 days after order date\n",
        "        shipment_dates.append(random_date + timedelta(days=np.random.randint(1, 51)))\n",
        "\n",
        "        # Random quantity between 1000 and 10000\n",
        "        quantities.append(np.random.randint(1000, 10001))\n",
        "\n",
        "    # Create dataframe\n",
        "    sales_df = pd.DataFrame({\n",
        "        'Order_Date': order_dates,\n",
        "        'Shipment_Date': shipment_dates,\n",
        "        'StoreID': regions,\n",
        "        'StoreName': countries,\n",
        "        'Product_Type': product_types,\n",
        "        'Unit_Price': unit_prices,\n",
        "        'Unit_Cost': unit_costs,\n",
        "        'Quantity': quantities,\n",
        "        'Revenue': np.array(unit_prices) * np.array(quantities),\n",
        "        'Total_Cost': np.array(unit_costs) * np.array(quantities)\n",
        "    })\n",
        "\n",
        "    sales_df['Total Profit'] = sales_df['Revenue'] - sales_df['Total_Cost']\n",
        "\n",
        "    return sales_df\n",
        "\n",
        "# Example usage:\n",
        "regions_data = {\n",
        "    'StoreID': [1,2,3,4,5,6,7,8,9,10],\n",
        "    'StoreName': [\"StoreNY\",\"StoreLA\",\"StorePA\",\"StoreKY\",\"StoreWA\",\"StoreDC\",\"StoreFL\",\"StoreAL\",\"StoreTX\",\"StoreMN\",]\n",
        "}\n",
        "regions_df = pd.DataFrame(regions_data)\n",
        "\n",
        "products_data = {\n",
        "    'Product': [\"Office Supplies\",\"Vegetables\",\"Fruits\",\"Cosmetics\",\"Cereal\",\"Baby Food\",\"Beverages\",\"Snacks\",\"Clothes\",\"Household\",\"Personal Care\",\"Meat\"],\n",
        "    'Unit Price': [651.21,154.06,9.33,437.2,205.7,255.28,47.45,152.58,109.28,668.27,81.73,421.89],\n",
        "    'Unit Cost': [524.96,90.93,6.92,263.33,117.11,159.42,31.79,97.44,35.84,502.54,56.67,364.69]\n",
        "}\n",
        "\n",
        "products_df = pd.DataFrame(products_data)\n",
        "\n",
        "start_date = pd.Timestamp('2020-01-01')\n",
        "end_date = pd.Timestamp('2022-01-01')\n",
        "num_records = 1000\n",
        "\n",
        "sales_df = generate_sales_data(num_records, start_date, end_date, regions_df, products_df)\n",
        "print(sales_df.info())"
      ]
    },
    {
      "cell_type": "markdown",
      "metadata": {
        "id": "E1nl3FHNJ22f"
      },
      "source": [
        "# Create Purchase Order Data"
      ]
    },
    {
      "cell_type": "code",
      "execution_count": 4,
      "metadata": {
        "colab": {
          "base_uri": "https://localhost:8080/"
        },
        "id": "87O3xycCICh0",
        "outputId": "2da3b9ae-a6e4-4ea0-fb60-5a9e298c3bed"
      },
      "outputs": [
        {
          "name": "stdout",
          "output_type": "stream",
          "text": [
            "<class 'pandas.core.frame.DataFrame'>\n",
            "RangeIndex: 1000 entries, 0 to 999\n",
            "Data columns (total 11 columns):\n",
            " #   Column         Non-Null Count  Dtype         \n",
            "---  ------         --------------  -----         \n",
            " 0   Order_Date     1000 non-null   datetime64[ns]\n",
            " 1   Shipment_Date  1000 non-null   datetime64[ns]\n",
            " 2   StoreID        1000 non-null   int64         \n",
            " 3   StoreName      1000 non-null   object        \n",
            " 4   Product_Type   1000 non-null   object        \n",
            " 5   Unit_Price     1000 non-null   float64       \n",
            " 6   Unit_Cost      1000 non-null   float64       \n",
            " 7   Quantity       1000 non-null   int64         \n",
            " 8   Revenue        1000 non-null   float64       \n",
            " 9   Total_Cost     1000 non-null   float64       \n",
            " 10  Total Profit   1000 non-null   float64       \n",
            "dtypes: datetime64[ns](2), float64(5), int64(2), object(2)\n",
            "memory usage: 86.1+ KB\n",
            "None\n"
          ]
        }
      ],
      "source": [
        "# df = pd.read_excel('Sales_Data_500k.xlsx')\n",
        "data = sales_df.copy()\n",
        "\n",
        "df = data.copy()\n",
        "print(df.info())\n"
      ]
    },
    {
      "cell_type": "markdown",
      "metadata": {
        "id": "elAQgL0wKj3T"
      },
      "source": [
        "### Data Analysis #1\n",
        "Checking for any errors or irregulairities\n",
        "I am also Learning SQL Currently"
      ]
    },
    {
      "cell_type": "code",
      "execution_count": null,
      "metadata": {
        "id": "f7Ihgrrf7XL6"
      },
      "outputs": [],
      "source": [
        "qry1 = '''\n",
        "SELECT DISTINCT Product_Name\n",
        "FROM df\n",
        "'''\n",
        "\n",
        "qry2='''\n",
        "SELECT MAX(Order_Date),MIN(Order_Date)\n",
        "FROM df\n",
        "'''\n",
        "\n",
        "qry4 = '''\n",
        "SELECT Quantity, Count(Quantity) as sold\n",
        "FROM df\n",
        "GROUP BY Quantity\n",
        "ORDER BY Quantity\n",
        "'''\n",
        "\n",
        "qry3 = '''\n",
        "SELECT Revenue, Count(Revenue) as Rev\n",
        "FROM df\n",
        "GROUP BY Revenue\n",
        "ORDER BY Revenue\n",
        "'''\n",
        "\n",
        "df3 = ddb.sql(qry4).df()\n",
        "print(df3)"
      ]
    },
    {
      "cell_type": "code",
      "execution_count": null,
      "metadata": {
        "id": "4jzfFn4OLiMF"
      },
      "outputs": [],
      "source": [
        "plt.plot(df3.index, df3[\"sold\"])\n",
        "plt.show()"
      ]
    },
    {
      "cell_type": "markdown",
      "metadata": {
        "id": "x18B8AieMRvr"
      },
      "source": [
        "## Creating the Purchase Order"
      ]
    },
    {
      "cell_type": "code",
      "execution_count": 5,
      "metadata": {
        "colab": {
          "base_uri": "https://localhost:8080/"
        },
        "id": "xw0UgLgZMf03",
        "outputId": "39fd7222-1e41-470e-eec8-5e23432692f9"
      },
      "outputs": [
        {
          "name": "stdout",
          "output_type": "stream",
          "text": [
            "<class 'pandas.core.frame.DataFrame'>\n",
            "Int64Index: 96 entries, 0 to 95\n",
            "Data columns (total 7 columns):\n",
            " #   Column         Non-Null Count  Dtype         \n",
            "---  ------         --------------  -----         \n",
            " 0   Vendor         96 non-null     object        \n",
            " 1   Product        96 non-null     object        \n",
            " 2   sum(Quantity)  96 non-null     float64       \n",
            " 3   Year           96 non-null     int64         \n",
            " 4   Quarter        96 non-null     int64         \n",
            " 5   Purchase_Date  96 non-null     datetime64[ns]\n",
            " 6   Unit Cost      96 non-null     float64       \n",
            "dtypes: datetime64[ns](1), float64(2), int64(2), object(2)\n",
            "memory usage: 6.0+ KB\n",
            "None\n"
          ]
        }
      ],
      "source": [
        "# Load your sales data (assuming it's in a CSV file)\n",
        "sales_data = df\n",
        "sales_data = sales_data.sort_values(by=['Order_Date'])\n",
        "\n",
        "\n",
        "# Define product types\n",
        "product_types = ['Cereal', 'Snacks', 'Beverages', 'Baby Food', 'Meat', 'Fruits', 'Vegetables', 'Personal Care', 'Cosmetics', 'Household', 'Office Supplies', 'Clothes']\n",
        "\n",
        "# Initialize empty dataframes for purchase orders and inventory\n",
        "purchase_orders = pd.DataFrame(columns=['OrderID', 'Product', 'Vendor', 'Quantity', 'OrderDate'])\n",
        "Inventory_dict = {'Cereal':0, 'Snacks':0, 'Beverages':0, 'Baby Food':0, 'Meat':0, 'Fruits':0, 'Vegetables':0, 'Personal Care':0, 'Cosmetics':0, 'Household':0, 'Office Supplies':0, 'Clothes':0}\n",
        "Vendor_dict = {'Cereal':'Foodco', 'Snacks':'Foodco', 'Beverages':'Foodco', 'Baby Food':'Foodco', 'Meat':'Farmco', 'Fruits':'Farmco', 'Vegetables':'Farmco', 'Personal Care':'Beautyco', 'Cosmetics':'Beautyco', 'Household':'Homeco', 'Office Supplies':'Homeco', 'Clothes':'Fashionco'}\n",
        "\n",
        "# Purchase Order lists\n",
        "Product_Ordered = []\n",
        "Quantity_Purchased = []\n",
        "Date_Purchased = []\n",
        "Vendor = []\n",
        "\n",
        "\n",
        "# Define a function to generate purchase orders\n",
        "\n",
        "for index, row in sales_data.iterrows():\n",
        "  x = 0\n",
        "  product = row['Product_Type']\n",
        "  quantity_sold = row['Quantity']\n",
        "  order_date = row['Order_Date']\n",
        "  Unit_Cost = row['Unit_Cost']\n",
        "\n",
        "  if product in Inventory_dict.keys():\n",
        "   if quantity_sold > Inventory_dict[product]:\n",
        "    purchase_quantity = (quantity_sold - Inventory_dict[product]) * 1.05\n",
        "    Inventory_dict[product] = (purchase_quantity + Inventory_dict[product]) - quantity_sold\n",
        "    Product_Ordered.append(product)\n",
        "    Quantity_Purchased.append(purchase_quantity)\n",
        "    Date_Purchased.append(order_date)\n",
        "    Ven = Vendor_dict[product]\n",
        "    Vendor.append(Ven)\n",
        "  else:\n",
        "    Inventory_dict[product] = Inventory_dict[product] - quantity_sold\n",
        "\n",
        "PO_df = pd.DataFrame(\n",
        "    {'Vendor': Vendor,\n",
        "     'Quantity': Quantity_Purchased,\n",
        "     'Product': Product_Ordered,\n",
        "     'Order_Date': Date_Purchased,\n",
        "     'Unit_Cost': Unit_Cost\n",
        "    })\n",
        "\n",
        "Qry_PO ='''\n",
        "    SELECT Vendor,\n",
        "    Product,\n",
        "    SUM(Quantity),\n",
        "    YEAR(Order_Date) AS Year,\n",
        "    QUARTER(Order_Date) AS Quarter,\n",
        "    CAST(\n",
        "      CASE\n",
        "        WHEN QUARTER(Order_Date) = 1\n",
        "          THEN CONCAT(YEAR(Order_Date), '-01-01')\n",
        "        WHEN QUARTER(Order_Date) = 2\n",
        "          THEN CONCAT(YEAR(Order_Date), '-04-01')\n",
        "        WHEN QUARTER(Order_Date) = 3\n",
        "          THEN CONCAT(YEAR(Order_Date), '-07-01')\n",
        "        WHEN QUARTER(Order_Date) = 4\n",
        "          THEN CONCAT(YEAR(Order_Date), '-10-01')\n",
        "      END AS DATE) AS Purchase_Date\n",
        "    FROM PO_df\n",
        "    GROUP BY Vendor, Product, YEAR(Order_Date), QUARTER(Order_Date)\n",
        "    ORDER BY Year, Quarter\n",
        "'''\n",
        "\n",
        "df_PO = ddb.sql(Qry_PO).df()\n",
        "\n",
        "df_PO = df_PO.merge(products_df[['Product','Unit Cost']], on ='Product', how = 'left')\n",
        "\n",
        "print(df_PO.info())"
      ]
    },
    {
      "cell_type": "code",
      "execution_count": null,
      "metadata": {
        "id": "O9zgXWtXLx8y"
      },
      "outputs": [],
      "source": [
        "with pd.ExcelWriter('POs.xlsx') as writer:\n",
        "    df_PO.to_excel(writer)"
      ]
    },
    {
      "cell_type": "markdown",
      "metadata": {
        "id": "ISnVkzW-NXFh"
      },
      "source": [
        "# Creating Inventory\n",
        "Inventory Tbl\n",
        "- InventoryID (Added after)\n",
        "- Product\n",
        "- Date \n",
        "    - Date Purchased or Date Sold\n",
        "    - For POs this is the first of the month every quarter\n",
        "- Quantity\n",
        "- Unit Cost\n",
        "    - Cost to obtain \n",
        "    - For POs this is a bulk purchase price\n",
        "- Unit Price\n",
        "    - Price sold at\n"
      ]
    },
    {
      "cell_type": "code",
      "execution_count": 6,
      "metadata": {
        "id": "ocYIbx1SNrSE"
      },
      "outputs": [
        {
          "name": "stdout",
          "output_type": "stream",
          "text": [
            "<class 'pandas.core.frame.DataFrame'>\n",
            "RangeIndex: 1096 entries, 0 to 1095\n",
            "Data columns (total 5 columns):\n",
            " #   Column     Non-Null Count  Dtype         \n",
            "---  ------     --------------  -----         \n",
            " 0   Date       1096 non-null   datetime64[ns]\n",
            " 1   Product    1096 non-null   object        \n",
            " 2   Quantity   1096 non-null   float64       \n",
            " 3   Unit_Cost  1096 non-null   float64       \n",
            " 4   Vendor     96 non-null     object        \n",
            "dtypes: datetime64[ns](1), float64(2), object(2)\n",
            "memory usage: 42.9+ KB\n",
            "None\n",
            "        Date          Product  Quantity  Unit_Cost Vendor\n",
            "0 2020-10-18             Meat    2354.0     364.69    NaN\n",
            "1 2020-01-10             Meat    4477.0     364.69    NaN\n",
            "2 2021-01-02        Cosmetics    4151.0     263.33    NaN\n",
            "3 2020-02-27        Cosmetics    9114.0     263.33    NaN\n",
            "4 2021-04-07  Office Supplies    4355.0     524.96    NaN\n",
            "5 2021-11-29           Fruits    9841.0       6.92    NaN\n",
            "6 2020-01-11             Meat    1805.0     364.69    NaN\n",
            "7 2021-11-01        Household    6386.0     502.54    NaN\n",
            "8 2021-11-01           Fruits    3561.0       6.92    NaN\n",
            "9 2021-06-06          Clothes    1496.0      35.84    NaN\n"
          ]
        },
        {
          "name": "stderr",
          "output_type": "stream",
          "text": [
            "C:\\Users\\rybot\\AppData\\Local\\Temp\\ipykernel_7032\\2622029047.py:4: FutureWarning: The frame.append method is deprecated and will be removed from pandas in a future version. Use pandas.concat instead.\n",
            "  df_INV = Inv_DEC.append(Inv_INC,ignore_index=True)\n"
          ]
        }
      ],
      "source": [
        "Inv_DEC = pd.DataFrame({\"Date\" : df['Order_Date'],\"Product\":df[\"Product_Type\"],\"Quantity\":df[\"Quantity\"],\"Unit_Cost\":df[\"Unit_Cost\"]})\n",
        "Inv_INC = pd.DataFrame({\"Date\": df_PO['Purchase_Date'],\"Product\":df_PO['Product'],\"Quantity\":df_PO['sum(Quantity)'],\"Unit_Cost\":df_PO[\"Unit Cost\"],\"Vendor\":df_PO['Vendor']})\n",
        "\n",
        "df_INV = Inv_DEC.append(Inv_INC,ignore_index=True)\n",
        "\n",
        "print(df_INV.info())\n",
        "print(df_INV.head(10))\n",
        "\n"
      ]
    },
    {
      "cell_type": "markdown",
      "metadata": {},
      "source": [
        "# Exporting to HTML"
      ]
    },
    {
      "cell_type": "code",
      "execution_count": null,
      "metadata": {
        "colab": {
          "base_uri": "https://localhost:8080/"
        },
        "id": "lrQlT44wWjeI",
        "outputId": "83dd2d15-7af2-4adb-ea1d-d38cefa066bf"
      },
      "outputs": [
        {
          "name": "stdout",
          "output_type": "stream",
          "text": [
            "[NbConvertApp] Converting notebook /content/Company_Generator.ipynb to html\n",
            "[NbConvertApp] Writing 614871 bytes to /content/Company_Generator.html\n"
          ]
        },
        {
          "data": {
            "text/plain": []
          },
          "execution_count": 41,
          "metadata": {},
          "output_type": "execute_result"
        }
      ],
      "source": [
        "%%shell\n",
        "jupyter nbconvert --to html /content/Company_Generator.ipynb"
      ]
    },
    {
      "cell_type": "markdown",
      "metadata": {},
      "source": [
        "## Fraud in this Cycle\n",
        "\n",
        "### For Sales\n",
        "- Missing Inventory (Inventory less than sales because of larceny)\n",
        "- Excessive Inventory (Inventory greater becasue of fictious sales)\n",
        "### For POs / Inventory\n",
        "- Missing Inventory (Inventory less than POs amount due to theft)\n",
        "### Other \n",
        "- Errors in Expected Margin calculations\n",
        "    - I have set the expected margin of excess inventory to 1.05x sales. So an ML model will be able to monitor quartely levels and determine if that ratio is within an acceptable range\n",
        "\n",
        "## *Further Considerations*\n",
        "- LIFO and FIFO Inventory by varying the Unit Cost\n",
        "- Cost Accounting by varying Unit Price, determining what new price shoudl be based on market factors\n",
        "     - Add things like market flucuation, maybe natural disasters, continuity\n",
        "     - Continuity = This is lacking in my current generator because each order is indidepent, which is realistic, as trends in the quantity and frequency of sales are present within product groups as well as YOY"
      ]
    },
    {
      "cell_type": "markdown",
      "metadata": {},
      "source": [
        "# Trying Expenses"
      ]
    },
    {
      "cell_type": "markdown",
      "metadata": {},
      "source": [
        "### Finding Expenses as a % of revenue\n",
        "***Percentages obtained from ChatGPT*** \\\n",
        "For Numbers I make up this is a good benchmark\n",
        "- COGS (55.2%-38.7%)\n",
        "- Rent & Utilities (5.5%-5.2%)\n",
        "- Salaries & Wages (11%-15.5%)\n",
        "- Marketing & Advertising (5.5%-7.8%)\n",
        "- Depreciation & Amortization (2.2%-2.6%)\n",
        "- Shipping & Freight (3.3%-5.2%)\n",
        "- Packaging (1.1%-2.6%)\n",
        "- Taxes (5.5%-7.8%)\n",
        "- Licenses & Fees (1.1%-1.5%)\n",
        "- Maintenance & Repairs (1.1%-2.6%)\n",
        "- R&D (2.2%-5.2%)\n",
        "- Insurance (1.1%-2.6%)\n",
        "- Interest Expense (1.1%-2.6%)\n",
        "- Miscellaneous Expenses (1.1%-1.5%)\n",
        "\n",
        "Profit Margin: 4% (Average for other Retail Stores)"
      ]
    },
    {
      "cell_type": "code",
      "execution_count": null,
      "metadata": {},
      "outputs": [],
      "source": [
        "# Total Revenue Per year\n",
        "qry_Trev = '''\n",
        "    SELECT YEAR(Shipment_Date) AS Year, SUM(Revenue) AS Revenue\n",
        "    FROM sales_df\n",
        "    GROUP BY Year\n",
        "    Order By Year\n",
        "'''\n",
        "\n",
        "# Total Revenue Per Product Per year\n",
        "qry_rev = '''\n",
        "    SELECT YEAR(Shipment_Date) AS Year, Product_Type AS Product, SUM(Revenue) AS Revenue\n",
        "    FROM sales_df\n",
        "    GROUP BY Year, Product\n",
        "    Order By Year\n",
        "'''\n",
        "\n",
        "df_Trev = ddb.sql(qry_Trev).df()\n",
        "df_rev = ddb.sql(qry_rev).df()\n",
        "\n",
        "Rev_dict = dict(zip(df_Trev['Year'],df_Trev['Revenue']))"
      ]
    },
    {
      "cell_type": "markdown",
      "metadata": {},
      "source": [
        "# Expenses from total Revenue\n",
        "- Each Expense category will be assigned a % of total revenue that is <= 100% of Revenue LESS random profit margin (0-6% skewed towards 4%)\n",
        "- Then a random number of transaction equaling the dollar ammount allocated to that expense category will be created\n",
        "- Some expenses will be have to have continuality, where one year impacts the value of the next and some epenses such as COGS have to be dependent on the sales quanitity as well.\n",
        "\n",
        "### steps\n",
        "1. First Take your Total Revenue\n",
        "2. Then you can decide what expenses you want to use, this will be decided by the scenario that the user chooses.  \n",
        "3. Each scenario will also include a profit margin, and you'll subtract Total Rev and Profit Margin to get *Exp_Budget*\n",
        "3. Then you can take *Exp_Budget* and for each category\n",
        "  *Exp_Total_Year* = Exp_Budget * % allcated\n",
        "4. Finally, create all of the corresponding expenses for each year within their exp category.\n"
      ]
    },
    {
      "cell_type": "markdown",
      "metadata": {},
      "source": [
        "# Scenario 1"
      ]
    },
    {
      "cell_type": "code",
      "execution_count": null,
      "metadata": {},
      "outputs": [],
      "source": [
        "Expenses = {\n",
        "    'COGS': (45,55),\n",
        "    'Rent': (6,10),\n",
        "    'Insurance': (2,4),\n",
        "    'Wages': (15,20),\n",
        "    'Ads': (6,8)\n",
        "}\n",
        "\n",
        "Exp_dict = {}\n",
        "Exp_list = []\n",
        "\n",
        "\n",
        "for year in Rev_dict.keys():\n",
        "  Rev = Rev_dict[year]\n",
        "  Year = year\n",
        "  COGS = (random.randrange(Expenses['COGS'][0],Expenses['COGS'][1])/100)*Rev\n",
        "  Rent = (random.randrange(Expenses['Rent'][0],Expenses['Rent'][1])/100)*Rev\n",
        "  Insurance = (random.randrange(Expenses['Insurance'][0],Expenses['Insurance'][1])/100)*Rev\n",
        "  Wages = (random.randrange(Expenses['Wages'][0],Expenses['Wages'][1])/100)*Rev\n",
        "  Ads = (random.randrange(Expenses['Wages'][0],Expenses['Wages'][1])/100)*Rev\n",
        "  PM = Rev - (COGS+Rent+Insurance+Wages+Ads)\n",
        "  Exp_dict = {'Year':Year,'Rev':Rev,'COGS':COGS,'Rent':Rent,'Insurance':Insurance,'Wages':Wages,'Ads':Ads,'Profit_Margin':PM}\n",
        "  Exp_list.append(Exp_dict)\n",
        "\n",
        "Exp_df = pd.DataFrame(Exp_list)\n",
        "\n",
        "print(Exp_df.info())"
      ]
    },
    {
      "cell_type": "markdown",
      "metadata": {},
      "source": [
        "# Main Dataframes in one place"
      ]
    },
    {
      "cell_type": "code",
      "execution_count": null,
      "metadata": {},
      "outputs": [],
      "source": [
        "# Sales Data\n",
        "sales_df\n",
        "# Purchase Order Data\n",
        "df_PO\n",
        "# Inventory Data\n",
        "df_INV"
      ]
    }
  ],
  "metadata": {
    "colab": {
      "authorship_tag": "ABX9TyMvUSaJ6LYLdni8fdNn9kBm",
      "include_colab_link": true,
      "provenance": []
    },
    "kernelspec": {
      "display_name": "Python 3",
      "name": "python3"
    },
    "language_info": {
      "codemirror_mode": {
        "name": "ipython",
        "version": 3
      },
      "file_extension": ".py",
      "mimetype": "text/x-python",
      "name": "python",
      "nbconvert_exporter": "python",
      "pygments_lexer": "ipython3",
      "version": "3.11.3"
    }
  },
  "nbformat": 4,
  "nbformat_minor": 0
}
