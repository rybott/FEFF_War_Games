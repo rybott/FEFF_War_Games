{
 "cells": [
  {
   "cell_type": "markdown",
   "metadata": {},
   "source": [
    "# This is the clean version of Test_Work.ipynb\n",
    "It contains the same code, but with only the core components of the generator "
   ]
  },
  {
   "cell_type": "markdown",
   "metadata": {},
   "source": [
    "## Modules Used"
   ]
  },
  {
   "cell_type": "code",
   "execution_count": 11,
   "metadata": {},
   "outputs": [],
   "source": [
    "import pandas as pd\n",
    "import numpy as np\n",
    "from datetime import timedelta\n",
    "import random\n",
    "import duckdb as ddb\n",
    "\n",
    "# Further Analysis\n",
    "import matplotlib.pyplot as plt\n",
    "# import plotly.express as px\n",
    "\n"
   ]
  },
  {
   "cell_type": "markdown",
   "metadata": {},
   "source": [
    "## Sales Invoices"
   ]
  },
  {
   "cell_type": "code",
   "execution_count": 29,
   "metadata": {},
   "outputs": [
    {
     "name": "stdout",
     "output_type": "stream",
     "text": [
      "<class 'pandas.core.frame.DataFrame'>\n",
      "RangeIndex: 1000 entries, 0 to 999\n",
      "Data columns (total 11 columns):\n",
      " #   Column         Non-Null Count  Dtype         \n",
      "---  ------         --------------  -----         \n",
      " 0   Order_Date     1000 non-null   datetime64[ns]\n",
      " 1   Shipment_Date  1000 non-null   datetime64[ns]\n",
      " 2   StoreID        1000 non-null   int64         \n",
      " 3   StoreName      1000 non-null   object        \n",
      " 4   Product_Type   1000 non-null   object        \n",
      " 5   Unit_Price     1000 non-null   float64       \n",
      " 6   Unit_Cost      1000 non-null   float64       \n",
      " 7   Quantity       1000 non-null   int64         \n",
      " 8   Revenue        1000 non-null   float64       \n",
      " 9   Total_Cost     1000 non-null   float64       \n",
      " 10  Total Profit   1000 non-null   float64       \n",
      "dtypes: datetime64[ns](2), float64(5), int64(2), object(2)\n",
      "memory usage: 86.1+ KB\n",
      "None\n"
     ]
    }
   ],
   "source": [
    "def generate_sales_data(num_records, start_date, end_date, regions_df, products_df):\n",
    "    # Lists to store generated data\n",
    "    order_dates = []\n",
    "    shipment_dates = []\n",
    "    regions = []\n",
    "    countries = []\n",
    "    product_types = []\n",
    "    unit_prices = []\n",
    "    unit_costs = []\n",
    "    quantities = []\n",
    "\n",
    "    # Generate data for each record\n",
    "    for _ in range(num_records):\n",
    " \n",
    "        region_row = regions_df.sample().iloc[0]\n",
    "        regions.append(region_row['StoreID'])\n",
    "        countries.append(region_row['StoreName'])\n",
    "\n",
    "        # Randomly select product and corresponding unit price and cost\n",
    "        product_row = products_df.sample().iloc[0]\n",
    "        product_types.append(product_row['Product'])\n",
    "        unit_prices.append(product_row['Unit Price'])\n",
    "        unit_costs.append(product_row['Unit Cost'])\n",
    "\n",
    "        # Random order date between start and end date\n",
    "        random_date = start_date + timedelta(days=np.random.randint(0, (end_date-start_date).days))\n",
    "        order_dates.append(random_date)\n",
    "        # Ship date between 1 and 50 days after order date\n",
    "        shipment_dates.append(random_date + timedelta(days=np.random.randint(1, 51)))\n",
    "\n",
    "        # Random quantity between 1000 and 10000\n",
    "        quantities.append(np.random.randint(1000, 10001))\n",
    "\n",
    "\n",
    "    sales_df = pd.DataFrame({\n",
    "        'Order_Date': order_dates,\n",
    "        'Shipment_Date': shipment_dates,\n",
    "        'StoreID': regions,\n",
    "        'StoreName': countries,\n",
    "        'Product_Type': product_types,\n",
    "        'Unit_Price': unit_prices,\n",
    "        'Unit_Cost': unit_costs,\n",
    "        'Quantity': quantities,\n",
    "        'Revenue': np.array(unit_prices) * np.array(quantities),\n",
    "        'Total_Cost': np.array(unit_costs) * np.array(quantities)\n",
    "    })\n",
    "\n",
    "    sales_df['Total Profit'] = sales_df['Revenue'] - sales_df['Total_Cost']\n",
    "\n",
    "    return sales_df\n",
    "\n",
    "\n",
    "regions_data = {\n",
    "    'StoreID': [1,2,3,4,5,6,7,8,9,10],\n",
    "    'StoreName': [\"StoreNY\",\"StoreLA\",\"StorePA\",\"StoreKY\",\"StoreWA\",\"StoreDC\",\"StoreFL\",\"StoreAL\",\"StoreTX\",\"StoreMN\",]\n",
    "}\n",
    "regions_df = pd.DataFrame(regions_data)\n",
    "\n",
    "products_data = {\n",
    "    'Product': [\"Office Supplies\",\"Vegetables\",\"Fruits\",\"Cosmetics\",\"Cereal\",\"Baby Food\",\"Beverages\",\"Snacks\",\"Clothes\",\"Household\",\"Personal Care\",\"Meat\"],\n",
    "    'Unit Price': [651.21,154.06,9.33,437.2,205.7,255.28,47.45,152.58,109.28,668.27,81.73,421.89],\n",
    "    'Unit Cost': [524.96,90.93,6.92,263.33,117.11,159.42,31.79,97.44,35.84,502.54,56.67,364.69]\n",
    "}\n",
    "\n",
    "products_df = pd.DataFrame(products_data)\n",
    "\n",
    "start_date = pd.Timestamp('2015-01-01')\n",
    "end_date = pd.Timestamp('2021-12-31')\n",
    "num_records = 1000\n",
    "\n",
    "sales_df = generate_sales_data(num_records, start_date, end_date, regions_df, products_df)\n",
    "\n",
    "print(sales_df.info())\n"
   ]
  },
  {
   "cell_type": "markdown",
   "metadata": {},
   "source": [
    "## Purchase Orders"
   ]
  },
  {
   "cell_type": "code",
   "execution_count": 30,
   "metadata": {},
   "outputs": [
    {
     "name": "stdout",
     "output_type": "stream",
     "text": [
      "<class 'pandas.core.frame.DataFrame'>\n",
      "Int64Index: 320 entries, 0 to 319\n",
      "Data columns (total 7 columns):\n",
      " #   Column         Non-Null Count  Dtype         \n",
      "---  ------         --------------  -----         \n",
      " 0   Vendor         320 non-null    object        \n",
      " 1   Product        320 non-null    object        \n",
      " 2   sum(Quantity)  320 non-null    float64       \n",
      " 3   Year           320 non-null    int64         \n",
      " 4   Quarter        320 non-null    int64         \n",
      " 5   Purchase_Date  320 non-null    datetime64[ns]\n",
      " 6   Unit Cost      320 non-null    float64       \n",
      "dtypes: datetime64[ns](1), float64(2), int64(2), object(2)\n",
      "memory usage: 20.0+ KB\n",
      "None\n"
     ]
    }
   ],
   "source": [
    "sales_data = sales_df\n",
    "sales_data = sales_data.sort_values(by=['Order_Date'])\n",
    "\n",
    "\n",
    "\n",
    "product_types = ['Cereal', 'Snacks', 'Beverages', 'Baby Food', 'Meat', 'Fruits', 'Vegetables', 'Personal Care', 'Cosmetics', 'Household', 'Office Supplies', 'Clothes']\n",
    "\n",
    "\n",
    "purchase_orders = pd.DataFrame(columns=['OrderID', 'Product', 'Vendor', 'Quantity', 'OrderDate'])\n",
    "Inventory_dict = {'Cereal':0, 'Snacks':0, 'Beverages':0, 'Baby Food':0, 'Meat':0, 'Fruits':0, 'Vegetables':0, 'Personal Care':0, 'Cosmetics':0, 'Household':0, 'Office Supplies':0, 'Clothes':0}\n",
    "Vendor_dict = {'Cereal':'Foodco', 'Snacks':'Foodco', 'Beverages':'Foodco', 'Baby Food':'Foodco', 'Meat':'Farmco', 'Fruits':'Farmco', 'Vegetables':'Farmco', 'Personal Care':'Beautyco', 'Cosmetics':'Beautyco', 'Household':'Homeco', 'Office Supplies':'Homeco', 'Clothes':'Fashionco'}\n",
    "\n",
    "\n",
    "Product_Ordered = []\n",
    "Quantity_Purchased = []\n",
    "Date_Purchased = []\n",
    "Vendor = []\n",
    "\n",
    "\n",
    "# purchase orders\n",
    "\n",
    "for index, row in sales_data.iterrows():\n",
    "  x = 0\n",
    "  product = row['Product_Type']\n",
    "  quantity_sold = row['Quantity']\n",
    "  order_date = row['Order_Date']\n",
    "  Unit_Cost = row['Unit_Cost']\n",
    "\n",
    "  if product in Inventory_dict.keys():\n",
    "   if quantity_sold > Inventory_dict[product]:\n",
    "    purchase_quantity = (quantity_sold - Inventory_dict[product]) * 1.05\n",
    "    Inventory_dict[product] = (purchase_quantity + Inventory_dict[product]) - quantity_sold\n",
    "    Product_Ordered.append(product)\n",
    "    Quantity_Purchased.append(purchase_quantity)\n",
    "    Date_Purchased.append(order_date)\n",
    "    Ven = Vendor_dict[product]\n",
    "    Vendor.append(Ven)\n",
    "   else:\n",
    "    Inventory_dict[product] = Inventory_dict[product] - quantity_sold\n",
    "\n",
    "PO_df = pd.DataFrame(\n",
    "    {'Vendor': Vendor,\n",
    "     'Quantity': Quantity_Purchased,\n",
    "     'Product': Product_Ordered,\n",
    "     'Order_Date': Date_Purchased,\n",
    "    })\n",
    "\n",
    "Qry_PO ='''\n",
    "    SELECT Vendor,\n",
    "    Product,\n",
    "    SUM(Quantity),\n",
    "    YEAR(Order_Date) AS Year,\n",
    "    QUARTER(Order_Date) AS Quarter,\n",
    "    CAST(\n",
    "      CASE\n",
    "        WHEN QUARTER(Order_Date) = 1\n",
    "          THEN CONCAT(YEAR(Order_Date), '-01-01')\n",
    "        WHEN QUARTER(Order_Date) = 2\n",
    "          THEN CONCAT(YEAR(Order_Date), '-04-01')\n",
    "        WHEN QUARTER(Order_Date) = 3\n",
    "          THEN CONCAT(YEAR(Order_Date), '-07-01')\n",
    "        WHEN QUARTER(Order_Date) = 4\n",
    "          THEN CONCAT(YEAR(Order_Date), '-10-01')\n",
    "      END AS DATE) AS Purchase_Date\n",
    "    FROM PO_df\n",
    "    GROUP BY Vendor, Product, YEAR(Order_Date), QUARTER(Order_Date)\n",
    "    ORDER BY Year, Quarter\n",
    "'''\n",
    "\n",
    "df_PO = ddb.sql(Qry_PO).df()\n",
    "\n",
    "df_PO = df_PO.merge(products_df[['Product','Unit Cost']], on ='Product', how = 'left')\n",
    "\n",
    "print(df_PO.info())"
   ]
  },
  {
   "cell_type": "markdown",
   "metadata": {},
   "source": [
    "## Inventory"
   ]
  },
  {
   "cell_type": "code",
   "execution_count": 31,
   "metadata": {},
   "outputs": [
    {
     "name": "stdout",
     "output_type": "stream",
     "text": [
      "<class 'pandas.core.frame.DataFrame'>\n",
      "RangeIndex: 1320 entries, 0 to 1319\n",
      "Data columns (total 5 columns):\n",
      " #   Column     Non-Null Count  Dtype         \n",
      "---  ------     --------------  -----         \n",
      " 0   Date       1320 non-null   datetime64[ns]\n",
      " 1   Product    1320 non-null   object        \n",
      " 2   Quantity   1320 non-null   float64       \n",
      " 3   Unit_Cost  1320 non-null   float64       \n",
      " 4   Vendor     320 non-null    object        \n",
      "dtypes: datetime64[ns](1), float64(2), object(2)\n",
      "memory usage: 51.7+ KB\n",
      "None\n"
     ]
    },
    {
     "name": "stderr",
     "output_type": "stream",
     "text": [
      "C:\\Users\\rybot\\AppData\\Local\\Temp\\ipykernel_22172\\353369801.py:4: FutureWarning: The frame.append method is deprecated and will be removed from pandas in a future version. Use pandas.concat instead.\n",
      "  df_INV = Inv_DEC.append(Inv_INC,ignore_index=True)\n"
     ]
    }
   ],
   "source": [
    "Inv_DEC = pd.DataFrame({\"Date\" : sales_df['Shipment_Date'],\"Product\":sales_df[\"Product_Type\"],\"Quantity\":sales_df[\"Quantity\"],\"Unit_Cost\":sales_df[\"Unit_Cost\"]})\n",
    "Inv_INC = pd.DataFrame({\"Date\": df_PO['Purchase_Date'],\"Product\":df_PO['Product'],\"Quantity\":df_PO['sum(Quantity)'],\"Unit_Cost\":df_PO[\"Unit Cost\"],\"Vendor\":df_PO['Vendor']})\n",
    "\n",
    "df_INV = Inv_DEC.append(Inv_INC,ignore_index=True)\n",
    "\n",
    "print(df_INV.info())"
   ]
  },
  {
   "cell_type": "markdown",
   "metadata": {},
   "source": [
    "## Total Revenue Calculations"
   ]
  },
  {
   "cell_type": "code",
   "execution_count": 32,
   "metadata": {},
   "outputs": [],
   "source": [
    "# Total Revenue\n",
    "qry_Trev = '''\n",
    "    SELECT YEAR(Shipment_Date) AS Year, SUM(Revenue) AS Revenue\n",
    "    FROM sales_df\n",
    "    GROUP BY Year\n",
    "    Order By Year\n",
    "'''\n",
    "\n",
    "# Total Revenue Per Product Per year\n",
    "qry_rev = '''\n",
    "    SELECT YEAR(Shipment_Date) AS Year, Product_Type AS Product, SUM(Revenue) AS Revenue, Unit_Cost\n",
    "    FROM sales_df\n",
    "    GROUP BY Year, Product, Unit_Cost\n",
    "    Order By Year\n",
    "'''\n",
    "\n",
    "df_Trev = ddb.sql(qry_Trev).df()\n",
    "df_rev = ddb.sql(qry_rev).df()\n",
    "\n",
    "# Rev_dict = dict(zip(df_Trev['Year'],zip(df_Trev['Revenue'],df_Trev['Unit_Cost']))\n",
    "Rev_dict = dict(zip(df_Trev['Year'],df_Trev['Revenue']))"
   ]
  },
  {
   "cell_type": "markdown",
   "metadata": {},
   "source": [
    "## Scenario 1"
   ]
  },
  {
   "cell_type": "markdown",
   "metadata": {},
   "source": [
    "### COGS"
   ]
  },
  {
   "cell_type": "code",
   "execution_count": 33,
   "metadata": {},
   "outputs": [],
   "source": [
    "COGS = '''\n",
    "  SELECT\n",
    "    YEAR(Date) as Year,\n",
    "    CONCAT(YEAR(Date),'_',Quarter(Date)) AS Yr_Q,\n",
    "    Product,\n",
    "    SUM((Quantity * Unit_Cost)) AS Value\n",
    "  FROM df_INV\n",
    "  WHERE Vendor IS NULL\n",
    "  GROUP BY Product, Yr_Q, Year\n",
    "  ORDER BY Yr_Q\n",
    "'''\n",
    "\n",
    "COGS_df = ddb.sql(COGS).df()\n",
    "\n",
    "# Gross Margin\n",
    "#   Yearly Rev - Yearly COGS\n",
    "# Yearly COGS\n",
    "\n",
    "Yr_COGS_qry = '''\n",
    "    SELECT \n",
    "        Year,\n",
    "        Sum(Value) AS Value\n",
    "    FROM COGS_df\n",
    "    GROUP BY Year\n",
    "'''\n",
    "COGSyr_df = ddb.sql(Yr_COGS_qry).df()\n",
    "COGS_dict = dict(zip(COGSyr_df['Year'],COGSyr_df['Value']))\n",
    "\n",
    "PRC_dict = {}\n",
    "PM_dict = {}\n",
    "# Substract COGS from Rev each year \n",
    "for Year in Rev_dict.keys():\n",
    "    PRC_dict[Year] = {\"Rev\":Rev_dict[Year],\"COGS\":COGS_dict[Year],\"PM\":Rev_dict[Year]-COGS_dict[Year]}\n",
    "    PM_dict[Year] = Rev_dict[Year]-COGS_dict[Year]\n",
    "PM_Rev_df = pd.DataFrame({'PM':PM_dict,'REV':Rev_dict})\n"
   ]
  },
  {
   "cell_type": "code",
   "execution_count": 34,
   "metadata": {},
   "outputs": [
    {
     "name": "stderr",
     "output_type": "stream",
     "text": [
      "C:\\Users\\rybot\\AppData\\Local\\Temp\\ipykernel_22172\\495030685.py:4: SettingWithCopyWarning: \n",
      "A value is trying to be set on a copy of a slice from a DataFrame.\n",
      "Try using .loc[row_indexer,col_indexer] = value instead\n",
      "\n",
      "See the caveats in the documentation: https://pandas.pydata.org/pandas-docs/stable/user_guide/indexing.html#returning-a-view-versus-a-copy\n",
      "  PR_df2['dif'] = PR_df2['REV'] - PR_df2['PM']\n"
     ]
    },
    {
     "data": {
      "image/png": "[encoded data removed]",
      "text/plain": [
       "<Figure size 640x480 with 2 Axes>"
      ]
     },
     "metadata": {},
     "output_type": "display_data"
    }
   ],
   "source": [
    "# Important Graph showing the relationship between the Rev, PM, and COGS\n",
    "\n",
    "PR_df2 = PM_Rev_df[PM_Rev_df.index != 2022]\n",
    "PR_df2['dif'] = PR_df2['REV'] - PR_df2['PM']\n",
    "\n",
    "x = PR_df2.index\n",
    "y1 = PR_df2['PM']\n",
    "y2 = PR_df2['REV']\n",
    "y3 = PR_df2['dif']\n",
    "\n",
    "plt.plot(x, y1, label='PM')\n",
    "plt.plot(x, y2, label='Rev')\n",
    "plt.legend(loc='upper left')\n",
    "ax2 = plt.gca().twinx()\n",
    "ax2.plot(x, y3, label='Dif', color='r')\n",
    "ax2.legend(loc='upper right')\n",
    "plt.show()\n"
   ]
  },
  {
   "cell_type": "markdown",
   "metadata": {},
   "source": [
    "### Expenses for Scenario 1"
   ]
  },
  {
   "cell_type": "code",
   "execution_count": 35,
   "metadata": {},
   "outputs": [
    {
     "name": "stdout",
     "output_type": "stream",
     "text": [
      "<class 'pandas.core.frame.DataFrame'>\n",
      "RangeIndex: 8 entries, 0 to 7\n",
      "Data columns (total 12 columns):\n",
      " #   Column        Non-Null Count  Dtype  \n",
      "---  ------        --------------  -----  \n",
      " 0   Year          8 non-null      int64  \n",
      " 1   Rev           8 non-null      float64\n",
      " 2   COGS          8 non-null      float64\n",
      " 3   Gross_Profit  8 non-null      float64\n",
      " 4   Rent          8 non-null      float64\n",
      " 5   Insurance     8 non-null      float64\n",
      " 6   Wages         8 non-null      float64\n",
      " 7   Ads           8 non-null      float64\n",
      " 8   Net_Profit    8 non-null      float64\n",
      " 9   EBIT          8 non-null      float64\n",
      " 10  Taxes         8 non-null      float64\n",
      " 11  Net_Income    8 non-null      float64\n",
      "dtypes: float64(11), int64(1)\n",
      "memory usage: 900.0 bytes\n",
      "None\n"
     ]
    }
   ],
   "source": [
    "Expenses = {\n",
    "    'Avg_NetProfit':(3,\"Not used to calc net profit\"),\n",
    "    'Rent': (6,10),\n",
    "    'Insurance': (2,4),\n",
    "    'Wages': (15,20),\n",
    "    'Ads': (6,8),\n",
    "    'Taxes': (13, \"A fixed amount\")\n",
    "}\n",
    "\n",
    "Exp_dict = {}\n",
    "Exp_list = []\n",
    "\n",
    "for i, year in enumerate(PRC_dict.keys()):\n",
    "    gross = PRC_dict[year][\"PM\"]\n",
    "    Rev = PRC_dict[year][\"Rev\"]\n",
    "    COGS = PRC_dict[year][\"COGS\"]\n",
    "    Year = year\n",
    "\n",
    "    \n",
    "    Rent = (random.randrange(Expenses['Rent'][0],Expenses['Rent'][1])/100)*gross\n",
    "    Insurance = (random.randrange(Expenses['Insurance'][0],Expenses['Insurance'][1])/100)*gross\n",
    "    Wages = (random.randrange(Expenses['Wages'][0],Expenses['Wages'][1])/100)*gross\n",
    "    Ads = (random.randrange(Expenses['Wages'][0],Expenses['Wages'][1])/100)*gross\n",
    "    Net = gross - (Rent+Insurance+Wages+Ads)\n",
    "    EBIT = (1 - (Expenses['Taxes'][0]/100)) * Net\n",
    "    Tax = (Expenses['Taxes'][0]/100) * Net\n",
    "    Net_In = EBIT - Tax\n",
    "\n",
    "    Exp_dict = {'Year':Year,'Rev':Rev,'COGS':COGS,'Gross_Profit':gross,'Rent':Rent,'Insurance':Insurance,'Wages':Wages,'Ads':Ads,'Net_Profit':Net,'EBIT': EBIT, 'Taxes':Tax, 'Net_Income': Net_In}\n",
    "    Exp_list.append(Exp_dict)\n",
    "\n",
    "\n",
    "Exp_df = pd.DataFrame(Exp_list)\n",
    "\n",
    "print(Exp_df.info())"
   ]
  },
  {
   "cell_type": "code",
   "execution_count": 36,
   "metadata": {},
   "outputs": [
    {
     "name": "stdout",
     "output_type": "stream",
     "text": [
      "<class 'pandas.core.frame.DataFrame'>\n",
      "RangeIndex: 296 entries, 0 to 295\n",
      "Data columns (total 4 columns):\n",
      " #   Column       Non-Null Count  Dtype  \n",
      "---  ------       --------------  -----  \n",
      " 0   Year         296 non-null    int64  \n",
      " 1   Date         296 non-null    object \n",
      " 2   Amount       296 non-null    float64\n",
      " 3   Description  296 non-null    object \n",
      "dtypes: float64(1), int64(1), object(2)\n",
      "memory usage: 9.4+ KB\n",
      "None\n"
     ]
    }
   ],
   "source": [
    "# Individual Expenses\n",
    "\n",
    "num_years = len(Exp_df['Year'])\n",
    "num_months = num_years*12\n",
    "\n",
    "rent = Exp_df['Rent'].sum() / num_months\n",
    "Insurance = Exp_df['Insurance'].sum() / num_months\n",
    "Wages = Exp_df['Wages'].sum() / num_months\n",
    "\n",
    "end_date = pd.Timestamp('2021-12-31')\n",
    "end_year_str = str(end_date)[:4]\n",
    "\n",
    "# Struct of List - Year, Date, Amount, Description\n",
    "Comp_Exp_List = []\n",
    "\n",
    "\n",
    "for year in Exp_df['Year']:\n",
    "  if int(year) <= int(end_year_str):\n",
    "\n",
    "    # Rent\n",
    "    for month in range(12):\n",
    "      Year = year\n",
    "      Date = f\"{month+1}/1/{Year}\"\n",
    "      Amount = rent\n",
    "      Description = \"Rent\"\n",
    "      sub_dict = {'Year':Year, 'Date':Date, 'Amount':Amount, 'Description':Description}\n",
    "      Comp_Exp_List.append(sub_dict)\n",
    "\n",
    "    # Insurance\n",
    "    for month in range(12):\n",
    "      Year = year\n",
    "      Date = f\"{month+1}/1/{Year}\"\n",
    "      Amount = Insurance\n",
    "      Description = \"Prepaid Insurance Exp\"\n",
    "      sub_dict = {'Year':Year, 'Date':Date, 'Amount':Amount, 'Description':Description}\n",
    "      Comp_Exp_List.append(sub_dict)\n",
    "\n",
    "    # Wages\n",
    "    for month in range(12):\n",
    "      Year = year\n",
    "      Date = f\"{month+1}/30/{Year}\" # in the future it can be twice a month for 2 week pay\n",
    "      Amount = Wages\n",
    "      Description = \"Wages payable Exp\"\n",
    "      sub_dict = {'Year':Year, 'Date':Date, 'Amount':Amount, 'Description':Description}\n",
    "      Comp_Exp_List.append(sub_dict)\n",
    "\n",
    "    # Ads\n",
    "    # Determine how many expenses per year\n",
    "    No_Ads = random.randrange(3,12)\n",
    "    Ad_yrly = Exp_df[Exp_df['Year'] == year]['Ads'].iloc[0]\n",
    "    amounts = []\n",
    "    adj_amounts = []\n",
    "    days = []\n",
    "    months = []\n",
    "\n",
    "    for ad in range(No_Ads):\n",
    "      Day = random.randrange(1,28)\n",
    "      month = random.randrange(1,12)\n",
    "      amount = random.randint(1,100)\n",
    "      amounts.append(amount)\n",
    "      days.append(Day)\n",
    "      months.append(month)\n",
    "\n",
    "    amount_total = sum(amounts)\n",
    "\n",
    "    for amount in amounts:\n",
    "      amount = (amount/amount_total)*Ad_yrly\n",
    "      adj_amounts.append(amount)\n",
    "\n",
    "    for month, day, amount in zip(months,days,adj_amounts):\n",
    "      Year = year\n",
    "      Date = f\"{month}/{Day}/{Year}\"\n",
    "      Amount = amount\n",
    "      Description = \"Ad Expense\"\n",
    "      sub_dict = {'Year':Year, 'Date':Date, 'Amount':Amount, 'Description':Description}\n",
    "      Comp_Exp_List.append(sub_dict)\n",
    "  else:\n",
    "    pass\n",
    "\n",
    "Comp_Exp_df = pd.DataFrame(Comp_Exp_List)\n",
    "print(Comp_Exp_df.info())"
   ]
  },
  {
   "cell_type": "markdown",
   "metadata": {},
   "source": [
    "# Financial Reporting"
   ]
  },
  {
   "cell_type": "markdown",
   "metadata": {},
   "source": [
    "## Journal Entries"
   ]
  },
  {
   "cell_type": "code",
   "execution_count": null,
   "metadata": {},
   "outputs": [],
   "source": []
  }
 ],
 "metadata": {
  "kernelspec": {
   "display_name": "base",
   "language": "python",
   "name": "python3"
  },
  "language_info": {
   "codemirror_mode": {
    "name": "ipython",
    "version": 3
   },
   "file_extension": ".py",
   "mimetype": "text/x-python",
   "name": "python",
   "nbconvert_exporter": "python",
   "pygments_lexer": "ipython3",
   "version": "3.11.3"
  },
  "orig_nbformat": 4
 },
 "nbformat": 4,
 "nbformat_minor": 2
}
