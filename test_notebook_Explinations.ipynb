{
 "cells": [
  {
   "cell_type": "markdown",
   "metadata": {},
   "source": [
    "# Sales Invoices\n",
    "\n",
    "Creates Orders for different products and puts them into a datafame"
   ]
  },
  {
   "cell_type": "markdown",
   "metadata": {},
   "source": [
    "# Purchase Orders\n",
    "\n",
    "For Each product sold the products need to have already been in inventory so you need Purchase Orders\n",
    "\n",
    "This program iterates through each sale, and checks to see if when the sale happens, if there is enough inventory of the product. Then the program will generate a corresponding PO for that product. Otherwise it will just deduct the quantity of the sale from the inventory quantity\n",
    "\n",
    "Finally because we are not doing JIT accounting, the purchases happen once every quarter through grouping purchases into the quarter they occur in and giving the PO the date of the first of each quarter. There is also a 1.05 buffer to simulate having more project. \n",
    "\n",
    "> Correction: \n",
    "> - I am adding the Inventory levels to each so that I can then pull them into COGS calculations"
   ]
  },
  {
   "cell_type": "markdown",
   "metadata": {},
   "source": [
    "# Inventory\n",
    "\n",
    "This just adds the Sales (Decreases to Inventory) and the POs (Increase to Inventory). \n",
    "\n",
    "\n",
    "\n",
    "# Total Revenue Calculations\n",
    "\n",
    "This just takes the Revenue from the Sales dataframe and sums it up yearly because all of the expenses are calculated as % of revenue per year."
   ]
  },
  {
   "cell_type": "markdown",
   "metadata": {},
   "source": [
    "# COGS \n",
    "## COGS = Beg Inventory + Purchases + (+/-) Externalities - Decreases in Inventory\n",
    "Externalities: Write-offs, discounts/allowance, theft, returns, currency fluxuations, etc.\n",
    "\n",
    "Currently this is wrong\n",
    "\n",
    "We will be calculating COGS Quarterly.\n",
    "\n",
    "I need to figure out how to get the beginning inventory for each quarter based on the previous quarter, and then\n",
    "**Answer:**\n",
    "- I base all my PO's on an inventory dictionary. I can rollup up the inventory levels into the PO dataframe in an easily queriable date field that I can pull out and use as the begining and end Inventory Levels. Then you can also purchases straight from the same database, and then compare them to INV_Dec, youll have a COGS on a quarterly basis.\n",
    "- This will allow me to more easily add more sophisticated aspects such as LIFO FIFO, price changes, and allowances.  "
   ]
  }
 ],
 "metadata": {
  "kernelspec": {
   "display_name": "base",
   "language": "python",
   "name": "python3"
  },
  "language_info": {
   "codemirror_mode": {
    "name": "ipython",
    "version": 3
   },
   "file_extension": ".py",
   "mimetype": "text/x-python",
   "name": "python",
   "nbconvert_exporter": "python",
   "pygments_lexer": "ipython3",
   "version": "3.11.3"
  },
  "orig_nbformat": 4
 },
 "nbformat": 4,
 "nbformat_minor": 2
}
