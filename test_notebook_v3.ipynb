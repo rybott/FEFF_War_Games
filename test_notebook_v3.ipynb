{
  "cells": [
    {
      "cell_type": "markdown",
      "metadata": {
        "colab_type": "text",
        "id": "view-in-github"
      },
      "source": [
        "<a href=\"https://colab.research.google.com/github/rybott/FEFF_War_Games/blob/main/test_notebook_v2.ipynb\" target=\"_parent\"><img src=\"https://colab.research.google.com/assets/colab-badge.svg\" alt=\"Open In Colab\"/></a>"
      ]
    },
    {
      "cell_type": "markdown",
      "metadata": {
        "id": "HXNZXm2xDF72"
      },
      "source": [
        "# This is the clean version of Test_Work.ipynb\n",
        "It contains the same code, but with only the core components of the generator"
      ]
    },
    {
      "cell_type": "markdown",
      "metadata": {
        "id": "i5na3A-yDF75"
      },
      "source": [
        "## Modules Used"
      ]
    },
    {
      "cell_type": "code",
      "execution_count": 1,
      "metadata": {
        "id": "ZulqZJ9jDF76"
      },
      "outputs": [],
      "source": [
        "import pandas as pd\n",
        "import numpy as np\n",
        "from datetime import timedelta\n",
        "import random\n",
        "import duckdb as ddb\n",
        "\n",
        "# Further Analysis\n",
        "import matplotlib.pyplot as plt\n",
        "# import plotly.express as px\n",
        "\n"
      ]
    },
    {
      "cell_type": "markdown",
      "metadata": {
        "id": "TxX0PtDnDF77"
      },
      "source": [
        "## Sales Invoices"
      ]
    },
    {
      "cell_type": "code",
      "execution_count": 2,
      "metadata": {
        "colab": {
          "base_uri": "https://localhost:8080/"
        },
        "id": "VzN-pN0gDF78",
        "outputId": "aabe05a2-562a-4395-8b60-a4c4f6e162c9"
      },
      "outputs": [
        {
          "name": "stdout",
          "output_type": "stream",
          "text": [
            "<class 'pandas.core.frame.DataFrame'>\n",
            "RangeIndex: 1000 entries, 0 to 999\n",
            "Data columns (total 11 columns):\n",
            " #   Column         Non-Null Count  Dtype         \n",
            "---  ------         --------------  -----         \n",
            " 0   Order_Date     1000 non-null   datetime64[ns]\n",
            " 1   Shipment_Date  1000 non-null   datetime64[ns]\n",
            " 2   StoreID        1000 non-null   int64         \n",
            " 3   StoreName      1000 non-null   object        \n",
            " 4   Product_Type   1000 non-null   object        \n",
            " 5   Unit_Price     1000 non-null   float64       \n",
            " 6   Unit_Cost      1000 non-null   float64       \n",
            " 7   Quantity       1000 non-null   int64         \n",
            " 8   Revenue        1000 non-null   float64       \n",
            " 9   Total_Cost     1000 non-null   float64       \n",
            " 10  Total Profit   1000 non-null   float64       \n",
            "dtypes: datetime64[ns](2), float64(5), int64(2), object(2)\n",
            "memory usage: 86.1+ KB\n",
            "None\n"
          ]
        }
      ],
      "source": [
        "def generate_sales_data(num_records, start_date, end_date, regions_df, products_df):\n",
        "    # Lists to store generated data\n",
        "    order_dates = []\n",
        "    shipment_dates = []\n",
        "    regions = []\n",
        "    countries = []\n",
        "    product_types = []\n",
        "    unit_prices = []\n",
        "    unit_costs = []\n",
        "    quantities = []\n",
        "\n",
        "    # Generate data for each record\n",
        "    for _ in range(num_records):\n",
        "\n",
        "        region_row = regions_df.sample().iloc[0]\n",
        "        regions.append(region_row['StoreID'])\n",
        "        countries.append(region_row['StoreName'])\n",
        "\n",
        "        # Randomly select product and corresponding unit price and cost\n",
        "        product_row = products_df.sample().iloc[0]\n",
        "        product_types.append(product_row['Product'])\n",
        "        unit_prices.append(product_row['Unit Price'])\n",
        "        unit_costs.append(product_row['Unit Cost'])\n",
        "\n",
        "        # Random order date between start and end date\n",
        "        random_date = start_date + timedelta(days=np.random.randint(0, (end_date-start_date).days))\n",
        "        order_dates.append(random_date)\n",
        "        # Ship date between 1 and 50 days after order date\n",
        "        shipment_dates.append(random_date + timedelta(days=np.random.randint(1, 51)))\n",
        "\n",
        "        # Random quantity between 1000 and 10000\n",
        "        quantities.append(np.random.randint(1000, 10001))\n",
        "\n",
        "\n",
        "    sales_df = pd.DataFrame({\n",
        "        'Order_Date': order_dates,\n",
        "        'Shipment_Date': shipment_dates,\n",
        "        'StoreID': regions,\n",
        "        'StoreName': countries,\n",
        "        'Product_Type': product_types,\n",
        "        'Unit_Price': unit_prices,\n",
        "        'Unit_Cost': unit_costs,\n",
        "        'Quantity': quantities,\n",
        "        'Revenue': np.array(unit_prices) * np.array(quantities),\n",
        "        'Total_Cost': np.array(unit_costs) * np.array(quantities)\n",
        "    })\n",
        "\n",
        "    sales_df['Total Profit'] = sales_df['Revenue'] - sales_df['Total_Cost']\n",
        "\n",
        "    return sales_df\n",
        "\n",
        "\n",
        "regions_data = {\n",
        "    'StoreID': [1,2,3,4,5,6,7,8,9,10],\n",
        "    'StoreName': [\"StoreNY\",\"StoreLA\",\"StorePA\",\"StoreKY\",\"StoreWA\",\"StoreDC\",\"StoreFL\",\"StoreAL\",\"StoreTX\",\"StoreMN\",]\n",
        "}\n",
        "regions_df = pd.DataFrame(regions_data)\n",
        "\n",
        "products_data = {\n",
        "    'Product': [\"Office Supplies\",\"Vegetables\",\"Fruits\",\"Cosmetics\",\"Cereal\",\"Baby Food\",\"Beverages\",\"Snacks\",\"Clothes\",\"Household\",\"Personal Care\",\"Meat\"],\n",
        "    'Unit Price': [651.21,154.06,9.33,437.2,205.7,255.28,47.45,152.58,109.28,668.27,81.73,421.89],\n",
        "    'Unit Cost': [524.96,90.93,6.92,263.33,117.11,159.42,31.79,97.44,35.84,502.54,56.67,364.69]\n",
        "}\n",
        "\n",
        "products_df = pd.DataFrame(products_data)\n",
        "\n",
        "start_date = pd.Timestamp('2015-01-01')\n",
        "end_date = pd.Timestamp('2021-12-31')\n",
        "num_records = 1000\n",
        "\n",
        "sales_df = generate_sales_data(num_records, start_date, end_date, regions_df, products_df)\n",
        "\n",
        "print(sales_df.info())\n"
      ]
    },
    {
      "cell_type": "markdown",
      "metadata": {
        "id": "-Jco99SUDF79"
      },
      "source": [
        "## Purchase Orders"
      ]
    },
    {
      "cell_type": "code",
      "execution_count": 3,
      "metadata": {
        "colab": {
          "base_uri": "https://localhost:8080/"
        },
        "id": "K_ioHBXkDF7-",
        "outputId": "dab44b68-6152-4a3e-e384-55adc45e27f9"
      },
      "outputs": [
        {
          "name": "stdout",
          "output_type": "stream",
          "text": [
            "<class 'pandas.core.frame.DataFrame'>\n",
            "Int64Index: 324 entries, 0 to 323\n",
            "Data columns (total 7 columns):\n",
            " #   Column         Non-Null Count  Dtype         \n",
            "---  ------         --------------  -----         \n",
            " 0   Vendor         324 non-null    object        \n",
            " 1   Product        324 non-null    object        \n",
            " 2   sum(Quantity)  324 non-null    float64       \n",
            " 3   Year           324 non-null    int64         \n",
            " 4   Quarter        324 non-null    int64         \n",
            " 5   Purchase_Date  324 non-null    datetime64[ns]\n",
            " 6   Unit Cost      324 non-null    float64       \n",
            "dtypes: datetime64[ns](1), float64(2), int64(2), object(2)\n",
            "memory usage: 20.2+ KB\n",
            "None\n"
          ]
        }
      ],
      "source": [
        "sales_data = sales_df\n",
        "sales_data = sales_data.sort_values(by=['Order_Date'])\n",
        "\n",
        "\n",
        "\n",
        "product_types = ['Cereal', 'Snacks', 'Beverages', 'Baby Food', 'Meat', 'Fruits', 'Vegetables', 'Personal Care', 'Cosmetics', 'Household', 'Office Supplies', 'Clothes']\n",
        "\n",
        "\n",
        "purchase_orders = pd.DataFrame(columns=['OrderID', 'Product', 'Vendor', 'Quantity', 'OrderDate'])\n",
        "Inventory_dict = {'Cereal':0, 'Snacks':0, 'Beverages':0, 'Baby Food':0, 'Meat':0, 'Fruits':0, 'Vegetables':0, 'Personal Care':0, 'Cosmetics':0, 'Household':0, 'Office Supplies':0, 'Clothes':0}\n",
        "Vendor_dict = {'Cereal':'Foodco', 'Snacks':'Foodco', 'Beverages':'Foodco', 'Baby Food':'Foodco', 'Meat':'Farmco', 'Fruits':'Farmco', 'Vegetables':'Farmco', 'Personal Care':'Beautyco', 'Cosmetics':'Beautyco', 'Household':'Homeco', 'Office Supplies':'Homeco', 'Clothes':'Fashionco'}\n",
        "\n",
        "\n",
        "Product_Ordered = []\n",
        "Quantity_Purchased = []\n",
        "Date_Purchased = []\n",
        "Vendor = []\n",
        "\n",
        "\n",
        "# purchase orders\n",
        "\n",
        "for index, row in sales_data.iterrows():\n",
        "  x = 0\n",
        "  product = row['Product_Type']\n",
        "  quantity_sold = row['Quantity']\n",
        "  order_date = row['Order_Date']\n",
        "  Unit_Cost = row['Unit_Cost']\n",
        "\n",
        "  if product in Inventory_dict.keys():\n",
        "   if quantity_sold > Inventory_dict[product]:\n",
        "    purchase_quantity = (quantity_sold - Inventory_dict[product]) * 1.05\n",
        "    Inventory_dict[product] = (purchase_quantity + Inventory_dict[product]) - quantity_sold\n",
        "    Product_Ordered.append(product)\n",
        "    Quantity_Purchased.append(purchase_quantity)\n",
        "    Date_Purchased.append(order_date)\n",
        "    Ven = Vendor_dict[product]\n",
        "    Vendor.append(Ven)\n",
        "   else:\n",
        "    Inventory_dict[product] = Inventory_dict[product] - quantity_sold\n",
        "\n",
        "PO_df = pd.DataFrame(\n",
        "    {'Vendor': Vendor,\n",
        "     'Quantity': Quantity_Purchased,\n",
        "     'Product': Product_Ordered,\n",
        "     'Order_Date': Date_Purchased,\n",
        "    })\n",
        "\n",
        "Qry_PO ='''\n",
        "    SELECT Vendor,\n",
        "    Product,\n",
        "    SUM(Quantity),\n",
        "    YEAR(Order_Date) AS Year,\n",
        "    QUARTER(Order_Date) AS Quarter,\n",
        "    CAST(\n",
        "      CASE\n",
        "        WHEN QUARTER(Order_Date) = 1\n",
        "          THEN CONCAT(YEAR(Order_Date), '-01-01')\n",
        "        WHEN QUARTER(Order_Date) = 2\n",
        "          THEN CONCAT(YEAR(Order_Date), '-04-01')\n",
        "        WHEN QUARTER(Order_Date) = 3\n",
        "          THEN CONCAT(YEAR(Order_Date), '-07-01')\n",
        "        WHEN QUARTER(Order_Date) = 4\n",
        "          THEN CONCAT(YEAR(Order_Date), '-10-01')\n",
        "      END AS DATE) AS Purchase_Date\n",
        "    FROM PO_df\n",
        "    GROUP BY Vendor, Product, YEAR(Order_Date), QUARTER(Order_Date)\n",
        "    ORDER BY Year, Quarter\n",
        "'''\n",
        "\n",
        "df_PO = ddb.sql(Qry_PO).df()\n",
        "\n",
        "df_PO = df_PO.merge(products_df[['Product','Unit Cost']], on ='Product', how = 'left')\n",
        "\n",
        "print(df_PO.info())"
      ]
    },
    {
      "cell_type": "markdown",
      "metadata": {
        "id": "At2TbeFmDF8C"
      },
      "source": [
        "## Inventory"
      ]
    },
    {
      "cell_type": "code",
      "execution_count": 4,
      "metadata": {
        "colab": {
          "base_uri": "https://localhost:8080/"
        },
        "id": "GXv-eIvcDF8E",
        "outputId": "2643cba0-517a-4207-827f-79f8dd33e881"
      },
      "outputs": [
        {
          "name": "stdout",
          "output_type": "stream",
          "text": [
            "<class 'pandas.core.frame.DataFrame'>\n",
            "RangeIndex: 1324 entries, 0 to 1323\n",
            "Data columns (total 5 columns):\n",
            " #   Column     Non-Null Count  Dtype         \n",
            "---  ------     --------------  -----         \n",
            " 0   Date       1324 non-null   datetime64[ns]\n",
            " 1   Product    1324 non-null   object        \n",
            " 2   Quantity   1324 non-null   float64       \n",
            " 3   Unit_Cost  1324 non-null   float64       \n",
            " 4   Vendor     324 non-null    object        \n",
            "dtypes: datetime64[ns](1), float64(2), object(2)\n",
            "memory usage: 51.8+ KB\n",
            "None\n"
          ]
        },
        {
          "name": "stderr",
          "output_type": "stream",
          "text": [
            "C:\\Users\\rybot\\AppData\\Local\\Temp\\ipykernel_3468\\353369801.py:4: FutureWarning: The frame.append method is deprecated and will be removed from pandas in a future version. Use pandas.concat instead.\n",
            "  df_INV = Inv_DEC.append(Inv_INC,ignore_index=True)\n"
          ]
        }
      ],
      "source": [
        "Inv_DEC = pd.DataFrame({\"Date\" : sales_df['Shipment_Date'],\"Product\":sales_df[\"Product_Type\"],\"Quantity\":sales_df[\"Quantity\"],\"Unit_Cost\":sales_df[\"Unit_Cost\"]})\n",
        "Inv_INC = pd.DataFrame({\"Date\": df_PO['Purchase_Date'],\"Product\":df_PO['Product'],\"Quantity\":df_PO['sum(Quantity)'],\"Unit_Cost\":df_PO[\"Unit Cost\"],\"Vendor\":df_PO['Vendor']})\n",
        "\n",
        "df_INV = Inv_DEC.append(Inv_INC,ignore_index=True)\n",
        "\n",
        "print(df_INV.info())"
      ]
    },
    {
      "cell_type": "markdown",
      "metadata": {
        "id": "wRErTovNDF8H"
      },
      "source": [
        "## Total Revenue Calculations"
      ]
    },
    {
      "cell_type": "code",
      "execution_count": 5,
      "metadata": {
        "id": "cxdLMAI1DF8I"
      },
      "outputs": [],
      "source": [
        "# Total Revenue\n",
        "qry_Trev = '''\n",
        "    SELECT YEAR(Shipment_Date) AS Year, SUM(Revenue) AS Revenue\n",
        "    FROM sales_df\n",
        "    GROUP BY Year\n",
        "    Order By Year\n",
        "'''\n",
        "\n",
        "# Total Revenue Per Product Per year\n",
        "qry_rev = '''\n",
        "    SELECT YEAR(Shipment_Date) AS Year, Product_Type AS Product, SUM(Revenue) AS Revenue, Unit_Cost\n",
        "    FROM sales_df\n",
        "    GROUP BY Year, Product, Unit_Cost\n",
        "    Order By Year\n",
        "'''\n",
        "\n",
        "df_Trev = ddb.sql(qry_Trev).df()\n",
        "df_rev = ddb.sql(qry_rev).df()\n",
        "\n",
        "# Rev_dict = dict(zip(df_Trev['Year'],zip(df_Trev['Revenue'],df_Trev['Unit_Cost']))\n",
        "Rev_dict = dict(zip(df_Trev['Year'],df_Trev['Revenue']))"
      ]
    },
    {
      "cell_type": "markdown",
      "metadata": {
        "id": "Ygg7euajDF8J"
      },
      "source": [
        "## Scenario 1"
      ]
    },
    {
      "cell_type": "markdown",
      "metadata": {
        "id": "g9hHBzaKDF8K"
      },
      "source": [
        "### COGS"
      ]
    },
    {
      "cell_type": "code",
      "execution_count": 6,
      "metadata": {
        "id": "eumDrMB5DF8L"
      },
      "outputs": [],
      "source": [
        "COGS = '''\n",
        "  SELECT\n",
        "    YEAR(Date) as Year,\n",
        "    CONCAT(YEAR(Date),'_',Quarter(Date)) AS Yr_Q,\n",
        "    Product,\n",
        "    SUM((Quantity * Unit_Cost)) AS Value\n",
        "  FROM df_INV\n",
        "  WHERE Vendor IS NULL\n",
        "  GROUP BY Product, Yr_Q, Year\n",
        "  ORDER BY Yr_Q\n",
        "'''\n",
        "\n",
        "COGS_df = ddb.sql(COGS).df()\n",
        "\n",
        "# Gross Margin\n",
        "#   Yearly Rev - Yearly COGS\n",
        "# Yearly COGS\n",
        "\n",
        "Yr_COGS_qry = '''\n",
        "    SELECT\n",
        "        Year,\n",
        "        Sum(Value) AS Value\n",
        "    FROM COGS_df\n",
        "    GROUP BY Year\n",
        "'''\n",
        "COGSyr_df = ddb.sql(Yr_COGS_qry).df()\n",
        "COGS_dict = dict(zip(COGSyr_df['Year'],COGSyr_df['Value']))\n",
        "\n",
        "PRC_dict = {}\n",
        "PM_dict = {}\n",
        "# Substract COGS from Rev each year\n",
        "for Year in Rev_dict.keys():\n",
        "    PRC_dict[Year] = {\"Rev\":Rev_dict[Year],\"COGS\":COGS_dict[Year],\"PM\":Rev_dict[Year]-COGS_dict[Year]}\n",
        "    PM_dict[Year] = Rev_dict[Year]-COGS_dict[Year]\n",
        "PM_Rev_df = pd.DataFrame({'PM':PM_dict,'REV':Rev_dict})\n"
      ]
    },
    {
      "cell_type": "code",
      "execution_count": 7,
      "metadata": {
        "colab": {
          "base_uri": "https://localhost:8080/",
          "height": 556
        },
        "id": "HdkGnNGlDF8L",
        "outputId": "b5b53f3d-ef5d-49aa-8255-cff5d9b72cf9"
      },
      "outputs": [
        {
          "name": "stderr",
          "output_type": "stream",
          "text": [
            "C:\\Users\\rybot\\AppData\\Local\\Temp\\ipykernel_3468\\495030685.py:4: SettingWithCopyWarning: \n",
            "A value is trying to be set on a copy of a slice from a DataFrame.\n",
            "Try using .loc[row_indexer,col_indexer] = value instead\n",
            "\n",
            "See the caveats in the documentation: https://pandas.pydata.org/pandas-docs/stable/user_guide/indexing.html#returning-a-view-versus-a-copy\n",
            "  PR_df2['dif'] = PR_df2['REV'] - PR_df2['PM']\n"
          ]
        },
        {
          "data": {
            "image/png": "[encoded data removed]",
            "text/plain": [
              "<Figure size 640x480 with 2 Axes>"
            ]
          },
          "metadata": {},
          "output_type": "display_data"
        }
      ],
      "source": [
        "# Important Graph showing the relationship between the Rev, PM, and COGS\n",
        "\n",
        "PR_df2 = PM_Rev_df[PM_Rev_df.index != 2022]\n",
        "PR_df2['dif'] = PR_df2['REV'] - PR_df2['PM']\n",
        "\n",
        "x = PR_df2.index\n",
        "y1 = PR_df2['PM']\n",
        "y2 = PR_df2['REV']\n",
        "y3 = PR_df2['dif']\n",
        "\n",
        "plt.plot(x, y1, label='PM')\n",
        "plt.plot(x, y2, label='Rev')\n",
        "plt.legend(loc='upper left')\n",
        "ax2 = plt.gca().twinx()\n",
        "ax2.plot(x, y3, label='Dif', color='r')\n",
        "ax2.legend(loc='upper right')\n",
        "plt.show()\n"
      ]
    },
    {
      "cell_type": "markdown",
      "metadata": {
        "id": "2Hka9s7yDF8M"
      },
      "source": [
        "### Expenses for Scenario 1"
      ]
    },
    {
      "cell_type": "code",
      "execution_count": 8,
      "metadata": {
        "colab": {
          "base_uri": "https://localhost:8080/"
        },
        "id": "wM5_7HEsDF8M",
        "outputId": "df9fe2f1-279e-4e3f-cd8f-20d649fe330d"
      },
      "outputs": [
        {
          "name": "stdout",
          "output_type": "stream",
          "text": [
            "<class 'pandas.core.frame.DataFrame'>\n",
            "RangeIndex: 8 entries, 0 to 7\n",
            "Data columns (total 12 columns):\n",
            " #   Column        Non-Null Count  Dtype  \n",
            "---  ------        --------------  -----  \n",
            " 0   Year          8 non-null      int64  \n",
            " 1   Rev           8 non-null      float64\n",
            " 2   COGS          8 non-null      float64\n",
            " 3   Gross_Profit  8 non-null      float64\n",
            " 4   Rent          8 non-null      float64\n",
            " 5   Insurance     8 non-null      float64\n",
            " 6   Wages         8 non-null      float64\n",
            " 7   Ads           8 non-null      float64\n",
            " 8   Net_Profit    8 non-null      float64\n",
            " 9   EBIT          8 non-null      float64\n",
            " 10  Taxes         8 non-null      float64\n",
            " 11  Net_Income    8 non-null      float64\n",
            "dtypes: float64(11), int64(1)\n",
            "memory usage: 900.0 bytes\n",
            "None\n"
          ]
        }
      ],
      "source": [
        "Expenses = {\n",
        "    'Avg_NetProfit':(3,\"Not used to calc net profit\"),\n",
        "    'Rent': (6,10),\n",
        "    'Insurance': (2,4),\n",
        "    'Wages': (15,20),\n",
        "    'Ads': (6,8),\n",
        "    'Taxes': (13, \"A fixed amount\")\n",
        "}\n",
        "\n",
        "Exp_dict = {}\n",
        "Exp_list = []\n",
        "\n",
        "for i, year in enumerate(PRC_dict.keys()):\n",
        "    gross = PRC_dict[year][\"PM\"]\n",
        "    Rev = PRC_dict[year][\"Rev\"]\n",
        "    COGS = PRC_dict[year][\"COGS\"]\n",
        "    Year = year\n",
        "\n",
        "\n",
        "    Rent = (random.randrange(Expenses['Rent'][0],Expenses['Rent'][1])/100)*gross\n",
        "    Insurance = (random.randrange(Expenses['Insurance'][0],Expenses['Insurance'][1])/100)*gross\n",
        "    Wages = (random.randrange(Expenses['Wages'][0],Expenses['Wages'][1])/100)*gross\n",
        "    Ads = (random.randrange(Expenses['Wages'][0],Expenses['Wages'][1])/100)*gross\n",
        "    Net = gross - (Rent+Insurance+Wages+Ads)\n",
        "    EBIT = (1 - (Expenses['Taxes'][0]/100)) * Net\n",
        "    Tax = (Expenses['Taxes'][0]/100) * Net\n",
        "    Net_In = EBIT - Tax\n",
        "\n",
        "    Exp_dict = {'Year':Year,'Rev':Rev,'COGS':COGS,'Gross_Profit':gross,'Rent':Rent,'Insurance':Insurance,'Wages':Wages,'Ads':Ads,'Net_Profit':Net,'EBIT': EBIT, 'Taxes':Tax, 'Net_Income': Net_In}\n",
        "    Exp_list.append(Exp_dict)\n",
        "\n",
        "\n",
        "Exp_df = pd.DataFrame(Exp_list)\n",
        "\n",
        "print(Exp_df.info())"
      ]
    },
    {
      "cell_type": "code",
      "execution_count": 9,
      "metadata": {
        "colab": {
          "base_uri": "https://localhost:8080/"
        },
        "id": "EBcX23upDF8N",
        "outputId": "bb50db28-4d3a-42df-8a7c-7ba305819aab"
      },
      "outputs": [
        {
          "name": "stdout",
          "output_type": "stream",
          "text": [
            "0       2015-1-1\n",
            "1       2015-1-2\n",
            "2       2015-1-3\n",
            "3       2015-1-4\n",
            "4       2015-1-5\n",
            "         ...    \n",
            "299    2021-1-10\n",
            "300     2021-1-4\n",
            "301     2021-1-4\n",
            "302     2021-1-4\n",
            "303     2021-1-4\n",
            "Name: Date, Length: 304, dtype: object\n",
            "<class 'pandas.core.frame.DataFrame'>\n",
            "RangeIndex: 304 entries, 0 to 303\n",
            "Data columns (total 4 columns):\n",
            " #   Column       Non-Null Count  Dtype         \n",
            "---  ------       --------------  -----         \n",
            " 0   Year         304 non-null    int64         \n",
            " 1   Date         304 non-null    datetime64[ns]\n",
            " 2   Amount       304 non-null    float64       \n",
            " 3   Description  304 non-null    object        \n",
            "dtypes: datetime64[ns](1), float64(1), int64(1), object(1)\n",
            "memory usage: 9.6+ KB\n",
            "None\n"
          ]
        }
      ],
      "source": [
        "# Individual Expenses\n",
        "\n",
        "num_years = len(Exp_df['Year'])\n",
        "num_months = num_years*12\n",
        "\n",
        "rent = Exp_df['Rent'].sum() / num_months\n",
        "Insurance = Exp_df['Insurance'].sum() / num_months\n",
        "Wages = Exp_df['Wages'].sum() / num_months\n",
        "\n",
        "end_date = pd.Timestamp('2021-12-31')\n",
        "end_year_str = str(end_date)[:4]\n",
        "\n",
        "# Struct of List - Year, Date, Amount, Description\n",
        "Comp_Exp_List = []\n",
        "\n",
        "\n",
        "for year in Exp_df['Year']:\n",
        "  if int(year) <= int(end_year_str):\n",
        "\n",
        "    # Rent\n",
        "    for month in range(12):\n",
        "      Year = year\n",
        "      Date = f\"{Year}-1-{month+1}\"\n",
        "      Amount = rent\n",
        "      Description = \"Rent\"\n",
        "      sub_dict = {'Year':Year, 'Date':Date, 'Amount':Amount, 'Description':Description}\n",
        "      Comp_Exp_List.append(sub_dict)\n",
        "\n",
        "    # Insurance\n",
        "    for month in range(12):\n",
        "      Year = year\n",
        "      Date = f\"{Year}-1-{month+1}\"\n",
        "      Amount = Insurance\n",
        "      Description = \"Insurance\"\n",
        "      sub_dict = {'Year':Year, 'Date':Date, 'Amount':Amount, 'Description':Description}\n",
        "      Comp_Exp_List.append(sub_dict)\n",
        "\n",
        "    # Wages\n",
        "    for month in range(12):\n",
        "      Year = year\n",
        "      Date = f\"{Year}-1-{month+1}\" # in the future it can be twice a month for 2 week pay\n",
        "      Amount = Wages\n",
        "      Description = \"Wages\"\n",
        "      sub_dict = {'Year':Year, 'Date':Date, 'Amount':Amount, 'Description':Description}\n",
        "      Comp_Exp_List.append(sub_dict)\n",
        "\n",
        "    # Ads\n",
        "    # Determine how many expenses per year\n",
        "    No_Ads = random.randrange(3,12)\n",
        "    Ad_yrly = Exp_df[Exp_df['Year'] == year]['Ads'].iloc[0]\n",
        "    amounts = []\n",
        "    adj_amounts = []\n",
        "    days = []\n",
        "    months = []\n",
        "\n",
        "    for ad in range(No_Ads):\n",
        "      Day = random.randrange(1,28)\n",
        "      month = random.randrange(1,12)\n",
        "      amount = random.randint(1,100)\n",
        "      amounts.append(amount)\n",
        "      days.append(Day)\n",
        "      months.append(month)\n",
        "\n",
        "    amount_total = sum(amounts)\n",
        "\n",
        "    for amount in amounts:\n",
        "      amount = (amount/amount_total)*Ad_yrly\n",
        "      adj_amounts.append(amount)\n",
        "\n",
        "    for month, day, amount in zip(months,days,adj_amounts):\n",
        "      Year = year\n",
        "      Date =f\"{Year}-1-{month}\"\n",
        "      Amount = amount\n",
        "      Description = \"Ads\"\n",
        "      sub_dict = {'Year':Year, 'Date':Date, 'Amount':Amount, 'Description':Description}\n",
        "      Comp_Exp_List.append(sub_dict)\n",
        "  else:\n",
        "    pass\n",
        "\n",
        "Comp_Exp_df = pd.DataFrame(Comp_Exp_List)\n",
        "print(Comp_Exp_df['Date'])\n",
        "Comp_Exp_df['Date'] = pd.to_datetime(Comp_Exp_df['Date'],format='%Y-%m-%d')\n",
        "print(Comp_Exp_df.info())"
      ]
    },
    {
      "cell_type": "markdown",
      "metadata": {
        "id": "4Noc1k-aDF8O"
      },
      "source": [
        "# Financial Reporting"
      ]
    },
    {
      "cell_type": "markdown",
      "metadata": {
        "id": "YcwKypM0DF8O"
      },
      "source": [
        "## Journal Entries"
      ]
    },
    {
      "cell_type": "code",
      "execution_count": 10,
      "metadata": {
        "id": "LnD0UsfkDF8P"
      },
      "outputs": [],
      "source": [
        "# Create the Journal Entries Dataframe\n",
        "\n",
        "Account = []\n",
        "Date = []\n",
        "Description = []\n",
        "Amount = []\n",
        "Dr_Cr = []\n",
        "\n",
        "Gen_Journal_df = pd.DataFrame({\n",
        "    'Account':Account,\n",
        "    'Date':Date,\n",
        "    'Description': Description,\n",
        "    'Amount':Amount,\n",
        "    'Dr_Cr':Dr_Cr})"
      ]
    },
    {
      "cell_type": "code",
      "execution_count": 11,
      "metadata": {
        "id": "m4gYxO3tDF8Q"
      },
      "outputs": [],
      "source": [
        "# Sales Journal\n",
        "\n",
        "Sales_data = sales_df.copy()\n",
        "\n",
        "Accounts = []\n",
        "Dates = []\n",
        "Descriptions = []\n",
        "Amounts = []\n",
        "Dr_Crs = []\n",
        "ID = 0\n",
        "\n",
        "\n",
        "for index, row in Sales_data.iterrows():\n",
        "  ID = ID + 1\n",
        "  date = row['Shipment_Date']\n",
        "  amount = row['Revenue']\n",
        "  desc = f\"{ID}_Sale of Inventory \"\n",
        "  COGS = row['Total_Cost']*row['Quantity']\n",
        "  Cash_acc = 1000\n",
        "  AR_acc = 1010\n",
        "  Rev_acc = 4000\n",
        "  COGS_acc = 5000\n",
        "  INV_acc = 1100\n",
        "\n",
        "  rand_acc = random.randint(1,100)\n",
        "  if rand_acc < 70:\n",
        "    Sale_acc = AR_acc\n",
        "  else:\n",
        "    Sale_acc = Cash_acc\n",
        "\n",
        "  # Sale\n",
        "  Accounts.append(Sale_acc)\n",
        "  Dates.append(date)\n",
        "  Descriptions.append(desc)\n",
        "  Amounts.append(amount)\n",
        "  Dr_Cr = \"Debit\"\n",
        "  Dr_Crs.append(Dr_Cr)\n",
        "\n",
        "  Accounts.append(Rev_acc)\n",
        "  Dates.append(date)\n",
        "  Descriptions.append(desc)\n",
        "  Amounts.append(amount)\n",
        "  Dr_Cr = \"Credit\"\n",
        "  Dr_Crs.append(Dr_Cr)\n",
        "\n",
        "  # Inventory\n",
        "  Accounts.append(COGS_acc)\n",
        "  Dates.append(date)\n",
        "  Descriptions.append(desc)\n",
        "  Amounts.append(COGS)\n",
        "  Dr_Cr = \"Debit\"\n",
        "  Dr_Crs.append(Dr_Cr)\n",
        "\n",
        "  Accounts.append(INV_acc)\n",
        "  Dates.append(date)\n",
        "  Descriptions.append(desc)\n",
        "  Amounts.append(COGS)\n",
        "  Dr_Cr = \"Credit\"\n",
        "  Dr_Crs.append(Dr_Cr)\n",
        "\n",
        "Sales_Journal_df = pd.DataFrame({\n",
        "    'Account':Accounts,\n",
        "    'Date':Dates,\n",
        "    'Description': Descriptions,\n",
        "    'Amount':Amounts,\n",
        "    'Dr_Cr':Dr_Crs})\n",
        "\n",
        "Gen_Journal_df = pd.concat([Gen_Journal_df,Sales_Journal_df], ignore_index=True)"
      ]
    },
    {
      "cell_type": "code",
      "execution_count": 12,
      "metadata": {
        "colab": {
          "base_uri": "https://localhost:8080/"
        },
        "id": "utDn9R1UAZye",
        "outputId": "65a69353-3699-46b4-e3cc-6b13ba611909"
      },
      "outputs": [
        {
          "name": "stdout",
          "output_type": "stream",
          "text": [
            "<class 'pandas.core.frame.DataFrame'>\n",
            "RangeIndex: 4000 entries, 0 to 3999\n",
            "Data columns (total 5 columns):\n",
            " #   Column       Non-Null Count  Dtype         \n",
            "---  ------       --------------  -----         \n",
            " 0   Account      4000 non-null   int64         \n",
            " 1   Date         4000 non-null   datetime64[ns]\n",
            " 2   Description  4000 non-null   object        \n",
            " 3   Amount       4000 non-null   float64       \n",
            " 4   Dr_Cr        4000 non-null   object        \n",
            "dtypes: datetime64[ns](1), float64(1), int64(1), object(2)\n",
            "memory usage: 156.4+ KB\n",
            "None\n",
            "<class 'pandas.core.frame.DataFrame'>\n",
            "RangeIndex: 4000 entries, 0 to 3999\n",
            "Data columns (total 5 columns):\n",
            " #   Column       Non-Null Count  Dtype         \n",
            "---  ------       --------------  -----         \n",
            " 0   Account      4000 non-null   float64       \n",
            " 1   Date         4000 non-null   datetime64[ns]\n",
            " 2   Description  4000 non-null   object        \n",
            " 3   Amount       4000 non-null   float64       \n",
            " 4   Dr_Cr        4000 non-null   object        \n",
            "dtypes: datetime64[ns](1), float64(2), object(2)\n",
            "memory usage: 156.4+ KB\n",
            "None\n"
          ]
        }
      ],
      "source": [
        "print(Sales_Journal_df.info())\n",
        "print(Gen_Journal_df.info())"
      ]
    },
    {
      "cell_type": "code",
      "execution_count": 13,
      "metadata": {
        "id": "TCxQpr7IDF8R"
      },
      "outputs": [],
      "source": [
        "# Purchase Order\n",
        "\n",
        "PO_data = df_PO.copy()\n",
        "\n",
        "Accounts = []\n",
        "Dates = []\n",
        "Descriptions = []\n",
        "Amounts = []\n",
        "Dr_Crs = []\n",
        "ID = 0\n",
        "\n",
        "\n",
        "for index, row in PO_data.iterrows():\n",
        "  ID = ID + 1\n",
        "  date = row['Purchase_Date']\n",
        "  amount = row['Unit Cost']*row['sum(Quantity)']\n",
        "  desc = f\"{ID}_Purchase of Inventory \"\n",
        "  AP_acc = 2000\n",
        "  INV_acc = 1100\n",
        "\n",
        "  Accounts.append(INV_acc)\n",
        "  Dates.append(date)\n",
        "  Descriptions.append(desc)\n",
        "  Amounts.append(amount)\n",
        "  Dr_Cr = \"Debit\"\n",
        "  Dr_Crs.append(Dr_Cr)\n",
        "\n",
        "  Accounts.append(AP_acc)\n",
        "  Dates.append(date)\n",
        "  Descriptions.append(desc)\n",
        "  Amounts.append(amount)\n",
        "  Dr_Cr = \"Credit\"\n",
        "  Dr_Crs.append(Dr_Cr)\n",
        "\n",
        "\n",
        "Inventory_Journal_df = pd.DataFrame({\n",
        "    'Account':Accounts,\n",
        "    'Date':Dates,\n",
        "    'Description': Descriptions,\n",
        "    'Amount':Amounts,\n",
        "    'Dr_Cr':Dr_Crs})\n",
        "\n",
        "Gen_Journal_df = pd.concat([Gen_Journal_df,Inventory_Journal_df,], ignore_index=True)"
      ]
    },
    {
      "cell_type": "code",
      "execution_count": 14,
      "metadata": {
        "colab": {
          "base_uri": "https://localhost:8080/"
        },
        "id": "VD-nQMJCAobm",
        "outputId": "2426d84c-163b-44c3-cabe-907a1be19b07"
      },
      "outputs": [
        {
          "name": "stdout",
          "output_type": "stream",
          "text": [
            "<class 'pandas.core.frame.DataFrame'>\n",
            "RangeIndex: 648 entries, 0 to 647\n",
            "Data columns (total 5 columns):\n",
            " #   Column       Non-Null Count  Dtype         \n",
            "---  ------       --------------  -----         \n",
            " 0   Account      648 non-null    int64         \n",
            " 1   Date         648 non-null    datetime64[ns]\n",
            " 2   Description  648 non-null    object        \n",
            " 3   Amount       648 non-null    float64       \n",
            " 4   Dr_Cr        648 non-null    object        \n",
            "dtypes: datetime64[ns](1), float64(1), int64(1), object(2)\n",
            "memory usage: 25.4+ KB\n",
            "None\n",
            "<class 'pandas.core.frame.DataFrame'>\n",
            "RangeIndex: 4648 entries, 0 to 4647\n",
            "Data columns (total 5 columns):\n",
            " #   Column       Non-Null Count  Dtype         \n",
            "---  ------       --------------  -----         \n",
            " 0   Account      4648 non-null   float64       \n",
            " 1   Date         4648 non-null   datetime64[ns]\n",
            " 2   Description  4648 non-null   object        \n",
            " 3   Amount       4648 non-null   float64       \n",
            " 4   Dr_Cr        4648 non-null   object        \n",
            "dtypes: datetime64[ns](1), float64(2), object(2)\n",
            "memory usage: 181.7+ KB\n",
            "None\n"
          ]
        }
      ],
      "source": [
        "print(Inventory_Journal_df.info())\n",
        "print(Gen_Journal_df.info())"
      ]
    },
    {
      "cell_type": "code",
      "execution_count": 15,
      "metadata": {
        "colab": {
          "base_uri": "https://localhost:8080/"
        },
        "id": "C_SLP36PDF8S",
        "outputId": "f02d5cea-2721-4bf0-a7b2-81abc66cf085"
      },
      "outputs": [],
      "source": [
        "# Expenses\n",
        "\n",
        "exp_data = Comp_Exp_df.copy()\n",
        "\n",
        "Accounts = []\n",
        "Dates = []\n",
        "Descriptions = []\n",
        "Amounts = []\n",
        "Dr_Crs = []\n",
        "ID = 0\n",
        "\n",
        "for index, row in exp_data.iterrows():\n",
        "  ID = ID + 1\n",
        "  date = row['Date']\n",
        "  amount = row['Amount']\n",
        "  exp = row['Description']\n",
        "  desc = f\"{ID}_{exp} Expense\"\n",
        "  AP_acc = 2000\n",
        "  Cash_acc = 1000\n",
        "\n",
        "  match exp:\n",
        "    # Fixed Cost Prepaid Exps are being accrued\n",
        "    case 'Rent':\n",
        "      account = 5110\n",
        "      pay_acc = Cash_acc\n",
        "\n",
        "    case 'Wages':\n",
        "      account = 5010\n",
        "      pay_acc = Cash_acc\n",
        "\n",
        "    case 'Insurance':\n",
        "      account = 5050\n",
        "      pay_acc = Cash_acc\n",
        "\n",
        "    case 'Ads':\n",
        "      account = 5020\n",
        "      rand_acc = random.randint(1,100)\n",
        "      if rand_acc < 70:\n",
        "        pay_acc = AP_acc\n",
        "      else:\n",
        "        pay_acc = Cash_acc\n",
        "\n",
        "  Accounts.append(account)\n",
        "  Dates.append(date)\n",
        "  Descriptions.append(desc)\n",
        "  Amounts.append(amount)\n",
        "  Dr_Cr = \"Debit\"\n",
        "  Dr_Crs.append(Dr_Cr)\n",
        "\n",
        "  Accounts.append(pay_acc)\n",
        "  Dates.append(date)\n",
        "  Descriptions.append(desc)\n",
        "  Amounts.append(amount)\n",
        "  Dr_Cr = \"Credit\"\n",
        "  Dr_Crs.append(Dr_Cr)\n",
        "\n",
        "Exp_Journal_df = pd.DataFrame({\n",
        "  'Account':Accounts,\n",
        "  'Date':Dates,\n",
        "  'Description': Descriptions,\n",
        "  'Amount':Amounts,\n",
        "  'Dr_Cr':Dr_Crs})\n",
        "\n",
        "Gen_Journal_df = pd.concat([Gen_Journal_df,Exp_Journal_df,], ignore_index=True)\n"
      ]
    },
    {
      "cell_type": "code",
      "execution_count": 16,
      "metadata": {
        "colab": {
          "base_uri": "https://localhost:8080/"
        },
        "id": "zAyTBdDjBFIO",
        "outputId": "310637ec-87ed-4194-c94d-629553c9e798"
      },
      "outputs": [
        {
          "name": "stdout",
          "output_type": "stream",
          "text": [
            "<class 'pandas.core.frame.DataFrame'>\n",
            "RangeIndex: 608 entries, 0 to 607\n",
            "Data columns (total 5 columns):\n",
            " #   Column       Non-Null Count  Dtype         \n",
            "---  ------       --------------  -----         \n",
            " 0   Account      608 non-null    int64         \n",
            " 1   Date         608 non-null    datetime64[ns]\n",
            " 2   Description  608 non-null    object        \n",
            " 3   Amount       608 non-null    float64       \n",
            " 4   Dr_Cr        608 non-null    object        \n",
            "dtypes: datetime64[ns](1), float64(1), int64(1), object(2)\n",
            "memory usage: 23.9+ KB\n",
            "None\n",
            "<class 'pandas.core.frame.DataFrame'>\n",
            "RangeIndex: 5256 entries, 0 to 5255\n",
            "Data columns (total 5 columns):\n",
            " #   Column       Non-Null Count  Dtype         \n",
            "---  ------       --------------  -----         \n",
            " 0   Account      5256 non-null   float64       \n",
            " 1   Date         5256 non-null   datetime64[ns]\n",
            " 2   Description  5256 non-null   object        \n",
            " 3   Amount       5256 non-null   float64       \n",
            " 4   Dr_Cr        5256 non-null   object        \n",
            "dtypes: datetime64[ns](1), float64(2), object(2)\n",
            "memory usage: 205.4+ KB\n",
            "None\n"
          ]
        }
      ],
      "source": [
        "print(Exp_Journal_df.info())\n",
        "print(Gen_Journal_df.info())"
      ]
    },
    {
      "cell_type": "code",
      "execution_count": 17,
      "metadata": {
        "id": "uebrxXbQxHGJ"
      },
      "outputs": [],
      "source": [
        "Gen_Journal_df['Date'] = pd.to_datetime(Gen_Journal_df['Date'],format='%d-%m-%Y')"
      ]
    },
    {
      "cell_type": "code",
      "execution_count": 18,
      "metadata": {
        "id": "ZFm_P9E6DF8T"
      },
      "outputs": [],
      "source": [
        "# Pay off AP and Recieve Recievables\n",
        "\n",
        "Accounts = []\n",
        "Dates = []\n",
        "Descriptions = []\n",
        "Amounts = []\n",
        "Dr_Crs = []\n",
        "\n",
        "for index, row in Gen_Journal_df.iterrows():\n",
        "    # AP = 2000\n",
        "    if row['Account'] == 2000:\n",
        "        Purchase_date = row['Date']\n",
        "        # All AP is Net 30 terms and we way in 30 days\n",
        "        Cash_Paid_Date = row['Date'] + timedelta(days=30)\n",
        "        Cash_Acc = 1000\n",
        "        AP_Acc = 2000\n",
        "        desc = \"Paided down AP liability\"\n",
        "        amount = row[\"Amount\"]\n",
        "\n",
        "        Accounts.append(AP_Acc)\n",
        "        Dates.append(Cash_Paid_Date)\n",
        "        Descriptions.append(desc)\n",
        "        Amounts.append(amount)\n",
        "        Dr_Cr = \"Debit\"\n",
        "        Dr_Crs.append(Dr_Cr)\n",
        "\n",
        "        Accounts.append(Cash_Acc)\n",
        "        Dates.append(Cash_Paid_Date)\n",
        "        Descriptions.append(desc)\n",
        "        Amounts.append(amount)\n",
        "        Dr_Cr = \"Credit\"\n",
        "        Dr_Crs.append(Dr_Cr)\n",
        "\n",
        "    # AR = 1010\n",
        "    elif row['Account'] == 1010:\n",
        "        Purchase_date = row['Date']\n",
        "        # All AP is Net 30 terms and we way in 30 days\n",
        "        Days_Since_Paid = random.randint(5,100)\n",
        "        Cash_Paid_Date = row['Date'] + timedelta(days=Days_Since_Paid)\n",
        "        Cash_Acc = 1000\n",
        "        AR_Acc = 1010\n",
        "        desc = f\"Recieved Recievables after {Days_Since_Paid} late\"\n",
        "        amount = row[\"Amount\"]\n",
        "\n",
        "        Accounts.append(Cash_Acc)\n",
        "        Dates.append(Cash_Paid_Date)\n",
        "        Descriptions.append(desc)\n",
        "        Amounts.append(amount)\n",
        "        Dr_Cr = \"Debit\"\n",
        "        Dr_Crs.append(Dr_Cr)\n",
        "\n",
        "        Accounts.append(AR_Acc)\n",
        "        Dates.append(Cash_Paid_Date)\n",
        "        Descriptions.append(desc)\n",
        "        Amounts.append(amount)\n",
        "        Dr_Cr = \"Credit\"\n",
        "        Dr_Crs.append(Dr_Cr)\n",
        "\n",
        "    else:\n",
        "        pass\n",
        "\n",
        "AP_AR_Journal_df = pd.DataFrame({\n",
        "'Account':Accounts,\n",
        "'Date':Dates,\n",
        "'Description': Descriptions,\n",
        "'Amount':Amounts,\n",
        "'Dr_Cr':Dr_Crs})\n",
        "\n",
        "Gen_Journal_df = pd.concat([Gen_Journal_df,AP_AR_Journal_df,], ignore_index=True)\n"
      ]
    },
    {
      "cell_type": "code",
      "execution_count": 19,
      "metadata": {
        "colab": {
          "base_uri": "https://localhost:8080/"
        },
        "id": "8wfUGFlcAIX1",
        "outputId": "beebc092-6061-438c-9c99-a9b3a31707f0"
      },
      "outputs": [
        {
          "name": "stdout",
          "output_type": "stream",
          "text": [
            "<class 'pandas.core.frame.DataFrame'>\n",
            "RangeIndex: 2102 entries, 0 to 2101\n",
            "Data columns (total 5 columns):\n",
            " #   Column       Non-Null Count  Dtype         \n",
            "---  ------       --------------  -----         \n",
            " 0   Account      2102 non-null   int64         \n",
            " 1   Date         2102 non-null   datetime64[ns]\n",
            " 2   Description  2102 non-null   object        \n",
            " 3   Amount       2102 non-null   float64       \n",
            " 4   Dr_Cr        2102 non-null   object        \n",
            "dtypes: datetime64[ns](1), float64(1), int64(1), object(2)\n",
            "memory usage: 82.2+ KB\n",
            "None\n",
            "<class 'pandas.core.frame.DataFrame'>\n",
            "RangeIndex: 7358 entries, 0 to 7357\n",
            "Data columns (total 5 columns):\n",
            " #   Column       Non-Null Count  Dtype         \n",
            "---  ------       --------------  -----         \n",
            " 0   Account      7358 non-null   float64       \n",
            " 1   Date         7358 non-null   datetime64[ns]\n",
            " 2   Description  7358 non-null   object        \n",
            " 3   Amount       7358 non-null   float64       \n",
            " 4   Dr_Cr        7358 non-null   object        \n",
            "dtypes: datetime64[ns](1), float64(2), object(2)\n",
            "memory usage: 287.6+ KB\n",
            "None\n"
          ]
        }
      ],
      "source": [
        "print(AP_AR_Journal_df.info())\n",
        "print(Gen_Journal_df.info())"
      ]
    },
    {
      "cell_type": "markdown",
      "metadata": {},
      "source": [
        "# Calculating T-balances for Each account and then by month\n",
        "### Multi-Step Query\n",
        "1. Select * but if Debit then Amount and if Credit then Amount(-1)\n",
        "2. Select * group by account title which will give you the balance of each account totals\n",
        "3. Make a new adjusted T-balance for each of the years seperated by month"
      ]
    },
    {
      "cell_type": "code",
      "execution_count": null,
      "metadata": {
        "colab": {
          "base_uri": "https://localhost:8080/",
          "height": 293
        },
        "id": "VD-OtW374t8l",
        "outputId": "23ebf7fd-ab18-46b5-ed83-593adcabaee3"
      },
      "outputs": [],
      "source": [
        "# Step 1\n",
        "qry_Tacc1 = '''\n",
        "  SELECT \n",
        "    Account, \n",
        "    Date, \n",
        "    CASE\n",
        "        WHEN Dr_Cr = 'Credit'\n",
        "          THEN Amount * -1\n",
        "        WHEN Dr_Cr = 'Debit'\n",
        "          THEN Amount\n",
        "    END AS Amount\n",
        "  FROM Gen_Journal_df\n",
        "'''\n",
        "db1 = ddb.sql(qry_Tacc1).df()\n",
        "\n",
        "\n",
        "# Step 2\n",
        "qry_Tacc2 = '''\n",
        "  SELECT \n",
        "    Account, \n",
        "    Date,\n",
        "    Sum(Amount)\n",
        "  FROM db1\n",
        "  GROUPBY Account, Date\n",
        "'''\n",
        "db1 = ddb.sql(qry_Tacc1).df()\n",
        "\n",
        "print(db1.info())"
      ]
    },
    {
      "cell_type": "code",
      "execution_count": null,
      "metadata": {
        "id": "BEMD5cMLDF8T"
      },
      "outputs": [],
      "source": [
        "# Other Balance Sheet Transactions"
      ]
    },
    {
      "cell_type": "code",
      "execution_count": null,
      "metadata": {
        "colab": {
          "base_uri": "https://localhost:8080/",
          "height": 36
        },
        "id": "Mp_Jf3YZDF8T",
        "outputId": "439c3dbe-c9cd-4e32-c01e-0d2585fac768"
      },
      "outputs": [
        {
          "data": {
            "application/vnd.google.colaboratory.intrinsic+json": {
              "type": "string"
            },
            "text/plain": [
              "'\\n%%shell\\njupyter nbconvert --to html /content/Copy_of_Test_Work.ipynb\\n'"
            ]
          },
          "execution_count": 99,
          "metadata": {},
          "output_type": "execute_result"
        }
      ],
      "source": [
        "'''\n",
        "%%shell\n",
        "jupyter nbconvert --to html /content/Copy_of_Test_Work.ipynb\n",
        "'''"
      ]
    },
    {
      "cell_type": "code",
      "execution_count": 21,
      "metadata": {
        "id": "-NP57IjkDF8T"
      },
      "outputs": [],
      "source": [
        "with pd.ExcelWriter('journal.xlsx') as writer:\n",
        "    Gen_Journal_df.to_excel(writer, sheet_name='Sheet1', index=False)"
      ]
    }
  ],
  "metadata": {
    "colab": {
      "include_colab_link": true,
      "provenance": []
    },
    "kernelspec": {
      "display_name": "base",
      "language": "python",
      "name": "python3"
    },
    "language_info": {
      "codemirror_mode": {
        "name": "ipython",
        "version": 3
      },
      "file_extension": ".py",
      "mimetype": "text/x-python",
      "name": "python",
      "nbconvert_exporter": "python",
      "pygments_lexer": "ipython3",
      "version": "3.11.3"
    },
    "orig_nbformat": 4
  },
  "nbformat": 4,
  "nbformat_minor": 0
}
