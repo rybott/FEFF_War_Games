{
  "cells": [
    {
      "cell_type": "markdown",
      "metadata": {
        "colab_type": "text",
        "id": "view-in-github"
      },
      "source": [
        "<a href=\"https://colab.research.google.com/github/rybott/Forensic_Operation_Plan_Response/blob/main/test_notebook_v3.ipynb\" target=\"_parent\"><img src=\"https://colab.research.google.com/assets/colab-badge.svg\" alt=\"Open In Colab\"/></a>"
      ]
    },
    {
      "cell_type": "markdown",
      "metadata": {
        "id": "HXNZXm2xDF72"
      },
      "source": [
        "# This is the clean version of Test_Work.ipynb\n",
        "It contains the same code, but with only the core components of the generator"
      ]
    },
    {
      "cell_type": "markdown",
      "metadata": {
        "id": "i5na3A-yDF75"
      },
      "source": [
        "## Modules Used"
      ]
    },
    {
      "cell_type": "code",
      "execution_count": 52,
      "metadata": {
        "id": "ZulqZJ9jDF76"
      },
      "outputs": [],
      "source": [
        "import pandas as pd\n",
        "import numpy as np\n",
        "from datetime import timedelta\n",
        "import random\n",
        "import duckdb as ddb\n",
        "\n",
        "# Further Analysis\n",
        "import matplotlib.pyplot as plt\n",
        "# import plotly.express as px\n",
        "\n"
      ]
    },
    {
      "cell_type": "markdown",
      "metadata": {
        "id": "TxX0PtDnDF77"
      },
      "source": [
        "## Sales Invoices"
      ]
    },
    {
      "cell_type": "code",
      "execution_count": 53,
      "metadata": {
        "colab": {
          "base_uri": "https://localhost:8080/"
        },
        "id": "VzN-pN0gDF78",
        "outputId": "d4bb4a06-eeb5-4d00-9dde-953288ae1332"
      },
      "outputs": [
        {
          "name": "stdout",
          "output_type": "stream",
          "text": [
            "<class 'pandas.core.frame.DataFrame'>\n",
            "RangeIndex: 1000 entries, 0 to 999\n",
            "Data columns (total 11 columns):\n",
            " #   Column         Non-Null Count  Dtype         \n",
            "---  ------         --------------  -----         \n",
            " 0   Order_Date     1000 non-null   datetime64[ns]\n",
            " 1   Shipment_Date  1000 non-null   datetime64[ns]\n",
            " 2   StoreID        1000 non-null   int64         \n",
            " 3   StoreName      1000 non-null   object        \n",
            " 4   Product_Type   1000 non-null   object        \n",
            " 5   Unit_Price     1000 non-null   float64       \n",
            " 6   Unit_Cost      1000 non-null   float64       \n",
            " 7   Quantity       1000 non-null   int64         \n",
            " 8   Revenue        1000 non-null   float64       \n",
            " 9   Total_Cost     1000 non-null   float64       \n",
            " 10  Total Profit   1000 non-null   float64       \n",
            "dtypes: datetime64[ns](2), float64(5), int64(2), object(2)\n",
            "memory usage: 86.1+ KB\n",
            "None\n"
          ]
        }
      ],
      "source": [
        "def generate_sales_data(num_records, start_date, end_date, regions_df, products_df):\n",
        "    # Lists to store generated data\n",
        "    order_dates = []\n",
        "    shipment_dates = []\n",
        "    regions = []\n",
        "    countries = []\n",
        "    product_types = []\n",
        "    unit_prices = []\n",
        "    unit_costs = []\n",
        "    quantities = []\n",
        "\n",
        "    # Generate data for each record\n",
        "    for _ in range(num_records):\n",
        "\n",
        "        region_row = regions_df.sample().iloc[0]\n",
        "        regions.append(region_row['StoreID'])\n",
        "        countries.append(region_row['StoreName'])\n",
        "\n",
        "        # Randomly select product and corresponding unit price and cost\n",
        "        product_row = products_df.sample().iloc[0]\n",
        "        product_types.append(product_row['Product'])\n",
        "        unit_prices.append(product_row['Unit_Price'])\n",
        "        unit_costs.append(product_row['Unit_Cost'])\n",
        "\n",
        "        # Random order date between start and end date\n",
        "        random_date = start_date + timedelta(days=np.random.randint(0, (end_date-start_date).days))\n",
        "        order_dates.append(random_date)\n",
        "        # Ship date between 1 and 50 days after order date\n",
        "        shipment_dates.append(random_date + timedelta(days=np.random.randint(1, 51)))\n",
        "\n",
        "        # Random quantity between 1000 and 10000\n",
        "        quantities.append(np.random.randint(1000, 10001))\n",
        "\n",
        "\n",
        "    sales_df = pd.DataFrame({\n",
        "        'Order_Date': order_dates,\n",
        "        'Shipment_Date': shipment_dates,\n",
        "        'StoreID': regions,\n",
        "        'StoreName': countries,\n",
        "        'Product_Type': product_types,\n",
        "        'Unit_Price': unit_prices,\n",
        "        'Unit_Cost': unit_costs,\n",
        "        'Quantity': quantities,\n",
        "        'Revenue': np.array(unit_prices) * np.array(quantities),\n",
        "        'Total_Cost': np.array(unit_costs) * np.array(quantities)\n",
        "    })\n",
        "\n",
        "    sales_df['Total Profit'] = sales_df['Revenue'] - sales_df['Total_Cost']\n",
        "\n",
        "    return sales_df\n",
        "\n",
        "\n",
        "regions_data = {\n",
        "    'StoreID': [1,2,3,4,5,6,7,8,9,10],\n",
        "    'StoreName': [\"StoreNY\",\"StoreLA\",\"StorePA\",\"StoreKY\",\"StoreWA\",\"StoreDC\",\"StoreFL\",\"StoreAL\",\"StoreTX\",\"StoreMN\",]\n",
        "}\n",
        "regions_df = pd.DataFrame(regions_data)\n",
        "\n",
        "products_data = {\n",
        "    'Product': [\"Office Supplies\",\"Vegetables\",\"Fruits\",\"Cosmetics\",\"Cereal\",\"Baby Food\",\"Beverages\",\"Snacks\",\"Clothes\",\"Household\",\"Personal Care\",\"Meat\"],\n",
        "    'Unit_Price': [651.21,154.06,9.33,437.2,205.7,255.28,47.45,152.58,109.28,668.27,81.73,421.89],\n",
        "    'Unit_Cost': [524.96,90.93,6.92,263.33,117.11,159.42,31.79,97.44,35.84,502.54,56.67,364.69]\n",
        "}\n",
        "\n",
        "products_df = pd.DataFrame(products_data)\n",
        "\n",
        "start_date = pd.Timestamp('2015-01-01')\n",
        "end_date = pd.Timestamp('2021-12-31')\n",
        "num_records = 1000\n",
        "\n",
        "sales_df = generate_sales_data(num_records, start_date, end_date, regions_df, products_df)\n",
        "\n",
        "print(sales_df.info())\n"
      ]
    },
    {
      "cell_type": "markdown",
      "metadata": {
        "id": "-Jco99SUDF79"
      },
      "source": [
        "## Purchase Orders"
      ]
    },
    {
      "cell_type": "code",
      "execution_count": 54,
      "metadata": {
        "colab": {
          "base_uri": "https://localhost:8080/"
        },
        "id": "K_ioHBXkDF7-",
        "outputId": "b62122ac-699e-4193-dddc-0741902f3add"
      },
      "outputs": [
        {
          "name": "stdout",
          "output_type": "stream",
          "text": [
            "<class 'pandas.core.frame.DataFrame'>\n",
            "Int64Index: 314 entries, 0 to 313\n",
            "Data columns (total 7 columns):\n",
            " #   Column         Non-Null Count  Dtype         \n",
            "---  ------         --------------  -----         \n",
            " 0   Vendor         314 non-null    object        \n",
            " 1   Product        314 non-null    object        \n",
            " 2   Quantity       314 non-null    float64       \n",
            " 3   Year           314 non-null    int64         \n",
            " 4   Quarter        314 non-null    int64         \n",
            " 5   Purchase_Date  314 non-null    datetime64[ns]\n",
            " 6   Unit_Cost      314 non-null    float64       \n",
            "dtypes: datetime64[ns](1), float64(2), int64(2), object(2)\n",
            "memory usage: 19.6+ KB\n",
            "None\n"
          ]
        }
      ],
      "source": [
        "sales_data = sales_df\n",
        "sales_data = sales_data.sort_values(by=['Order_Date'])\n",
        "\n",
        "\n",
        "\n",
        "product_types = ['Cereal', 'Snacks', 'Beverages', 'Baby Food', 'Meat', 'Fruits', 'Vegetables', 'Personal Care', 'Cosmetics', 'Household', 'Office Supplies', 'Clothes']\n",
        "\n",
        "\n",
        "purchase_orders = pd.DataFrame(columns=['OrderID', 'Product', 'Vendor', 'Quantity', 'OrderDate'])\n",
        "Inventory_dict = {'Cereal':0, 'Snacks':0, 'Beverages':0, 'Baby Food':0, 'Meat':0, 'Fruits':0, 'Vegetables':0, 'Personal Care':0, 'Cosmetics':0, 'Household':0, 'Office Supplies':0, 'Clothes':0}\n",
        "Vendor_dict = {'Cereal':'Foodco', 'Snacks':'Foodco', 'Beverages':'Foodco', 'Baby Food':'Foodco', 'Meat':'Farmco', 'Fruits':'Farmco', 'Vegetables':'Farmco', 'Personal Care':'Beautyco', 'Cosmetics':'Beautyco', 'Household':'Homeco', 'Office Supplies':'Homeco', 'Clothes':'Fashionco'}\n",
        "\n",
        "\n",
        "Product_Ordered = []\n",
        "Quantity_Purchased = []\n",
        "Date_Purchased = []\n",
        "InventoryBeg = []\n",
        "InventoryEnd = []\n",
        "Vendor = []\n",
        "Quantity_Sold = []\n",
        "\n",
        "\n",
        "# purchase orders\n",
        "\n",
        "for index, row in sales_data.iterrows():\n",
        "  x = 0\n",
        "  product = row['Product_Type']\n",
        "  quantity_sold = row['Quantity']\n",
        "  order_date = row['Order_Date']\n",
        "  Unit_Cost = row['Unit_Cost']\n",
        "\n",
        "  if product in Inventory_dict.keys():\n",
        "\n",
        "    '''\n",
        "    These aditions take the beginning inventory of a product on the date of sale, decreases\n",
        "    from sold quantities, and increases from POs and then calc COGS\n",
        "\n",
        "    You can also insert here a new table of externalities that effect COGS or price delta logic\n",
        "    '''\n",
        "    InventoryBeg.append(Inventory_dict[product])\n",
        "    Quantity_Sold.append(quantity_sold * -1)\n",
        "\n",
        "    if quantity_sold > Inventory_dict[product]:\n",
        "      purchase_quantity = (quantity_sold - Inventory_dict[product]) * 1.02\n",
        "      Inventory_dict[product] = (purchase_quantity + Inventory_dict[product]) - quantity_sold\n",
        "      Product_Ordered.append(product)\n",
        "      Quantity_Purchased.append(purchase_quantity)\n",
        "      Date_Purchased.append(order_date)\n",
        "      Ven = Vendor_dict[product]\n",
        "      Vendor.append(Ven)\n",
        "    else:\n",
        "      Inventory_dict[product] = Inventory_dict[product] - quantity_sold\n",
        "\n",
        "    InventoryEnd.append(Inventory_dict[product])\n",
        "\n",
        "\n",
        "\n",
        "PoInv_df = pd.DataFrame(\n",
        "    {'Order_Date': Date_Purchased,\n",
        "     'Vendor': Vendor,\n",
        "     'Quantity': Quantity_Purchased,\n",
        "     'Product': Product_Ordered,\n",
        "     'InventoryBeg': InventoryBeg,\n",
        "     'InventoryEnd': InventoryEnd,\n",
        "     'Quantity)Sold': Quantity_Sold,\n",
        "    })\n",
        "\n",
        "Qry_PO ='''\n",
        "    SELECT Vendor,\n",
        "    Product,\n",
        "    SUM(Quantity) AS Quantity,\n",
        "    YEAR(Order_Date) AS Year,\n",
        "    QUARTER(Order_Date) AS Quarter,\n",
        "    CAST(\n",
        "      CASE\n",
        "        WHEN QUARTER(Order_Date) = 1\n",
        "          THEN CONCAT(YEAR(Order_Date), '-01-01')\n",
        "        WHEN QUARTER(Order_Date) = 2\n",
        "          THEN CONCAT(YEAR(Order_Date), '-04-01')\n",
        "        WHEN QUARTER(Order_Date) = 3\n",
        "          THEN CONCAT(YEAR(Order_Date), '-07-01')\n",
        "        WHEN QUARTER(Order_Date) = 4\n",
        "          THEN CONCAT(YEAR(Order_Date), '-10-01')\n",
        "      END AS DATE) AS Purchase_Date\n",
        "    FROM PoInv_df\n",
        "    GROUP BY Vendor, Product, YEAR(Order_Date), QUARTER(Order_Date)\n",
        "    ORDER BY Year, Quarter\n",
        "'''\n",
        "\n",
        "df_PO = ddb.sql(Qry_PO).df()\n",
        "\n",
        "df_PO = df_PO.merge(products_df[['Product','Unit_Cost']], on ='Product', how = 'left')\n",
        "\n",
        "print(df_PO.info())\n",
        "\n"
      ]
    },
    {
      "cell_type": "markdown",
      "metadata": {
        "id": "At2TbeFmDF8C"
      },
      "source": [
        "## Inventory"
      ]
    },
    {
      "cell_type": "code",
      "execution_count": 55,
      "metadata": {
        "colab": {
          "base_uri": "https://localhost:8080/"
        },
        "id": "GXv-eIvcDF8E",
        "outputId": "cc1ba68c-5f5b-450e-e5df-8a5e43cee2d4"
      },
      "outputs": [
        {
          "name": "stdout",
          "output_type": "stream",
          "text": [
            "<class 'pandas.core.frame.DataFrame'>\n",
            "RangeIndex: 1314 entries, 0 to 1313\n",
            "Data columns (total 5 columns):\n",
            " #   Column     Non-Null Count  Dtype         \n",
            "---  ------     --------------  -----         \n",
            " 0   Date       1314 non-null   datetime64[ns]\n",
            " 1   Product    1314 non-null   object        \n",
            " 2   Quantity   1314 non-null   float64       \n",
            " 3   Unit_Cost  1314 non-null   float64       \n",
            " 4   Vendor     314 non-null    object        \n",
            "dtypes: datetime64[ns](1), float64(2), object(2)\n",
            "memory usage: 51.5+ KB\n",
            "None\n"
          ]
        },
        {
          "name": "stderr",
          "output_type": "stream",
          "text": [
            "C:\\Users\\rybot\\AppData\\Local\\Temp\\ipykernel_23096\\1931481695.py:4: FutureWarning: The frame.append method is deprecated and will be removed from pandas in a future version. Use pandas.concat instead.\n",
            "  df_INV = Inv_DEC.append(Inv_INC,ignore_index=True)\n"
          ]
        }
      ],
      "source": [
        "Inv_DEC = pd.DataFrame({\"Date\" : sales_df['Shipment_Date'],\"Product\":sales_df[\"Product_Type\"],\"Quantity\":sales_df[\"Quantity\"],\"Unit_Cost\":sales_df[\"Unit_Cost\"]*-1})\n",
        "Inv_INC = pd.DataFrame({\"Date\": df_PO['Purchase_Date'],\"Product\":df_PO['Product'],\"Quantity\":df_PO['Quantity'],\"Unit_Cost\":df_PO[\"Unit_Cost\"],\"Vendor\":df_PO['Vendor']})\n",
        "\n",
        "df_INV = Inv_DEC.append(Inv_INC,ignore_index=True)\n",
        "\n",
        "print(df_INV.info())"
      ]
    },
    {
      "cell_type": "markdown",
      "metadata": {
        "id": "wRErTovNDF8H"
      },
      "source": [
        "## Total Revenue Calculations"
      ]
    },
    {
      "cell_type": "code",
      "execution_count": 56,
      "metadata": {
        "id": "cxdLMAI1DF8I"
      },
      "outputs": [],
      "source": [
        "# Total Revenue\n",
        "qry_Trev = '''\n",
        "    SELECT YEAR(Shipment_Date) AS Year, SUM(Revenue) AS Revenue\n",
        "    FROM sales_df\n",
        "    GROUP BY Year\n",
        "    Order By Year\n",
        "'''\n",
        "\n",
        "# Total Revenue Per Product Per year\n",
        "qry_rev = '''\n",
        "    SELECT YEAR(Shipment_Date) AS Year, Product_Type AS Product, SUM(Revenue) AS Revenue, Unit_Cost\n",
        "    FROM sales_df\n",
        "    GROUP BY Year, Product, Unit_Cost\n",
        "    Order By Year\n",
        "'''\n",
        "\n",
        "df_Trev = ddb.sql(qry_Trev).df()\n",
        "df_rev = ddb.sql(qry_rev).df()\n",
        "\n",
        "# Rev_dict = dict(zip(df_Trev['Year'],zip(df_Trev['Revenue'],df_Trev['Unit_Cost']))\n",
        "Rev_dict = dict(zip(df_Trev['Year'],df_Trev['Revenue']))"
      ]
    },
    {
      "cell_type": "markdown",
      "metadata": {
        "id": "Ygg7euajDF8J"
      },
      "source": [
        "## Scenario 1"
      ]
    },
    {
      "cell_type": "markdown",
      "metadata": {
        "id": "g9hHBzaKDF8K"
      },
      "source": [
        "### COGS"
      ]
    },
    {
      "cell_type": "code",
      "execution_count": 57,
      "metadata": {
        "colab": {
          "base_uri": "https://localhost:8080/"
        },
        "id": "eumDrMB5DF8L",
        "outputId": "cc83a073-d7b1-4d43-a30e-9e2bf3703199"
      },
      "outputs": [
        {
          "name": "stdout",
          "output_type": "stream",
          "text": [
            "               PM           REV\n",
            "2015  54889644.68  2.277595e+08\n",
            "2016  59139217.85  2.080749e+08\n",
            "2017  68211452.04  1.997976e+08\n",
            "2018  52141060.75  1.789186e+08\n",
            "2019  43355623.49  1.903796e+08\n",
            "2020  73886349.21  2.268002e+08\n",
            "2021  71597843.83  1.865520e+08\n",
            "2022         0.00  3.391023e+06\n"
          ]
        }
      ],
      "source": [
        "# COGS Quantities = Beg Inventory + Purchases - End Inventory\n",
        "PoInv_df['COGS_Quantity'] =  PoInv_df['InventoryBeg'] + PoInv_df['Quantity'] - PoInv_df['InventoryEnd']\n",
        "\n",
        "# Add the unit costs (This could be where you add more sophisticated logic for price changes)\n",
        "PoInv_df = PoInv_df.merge(products_df[['Product','Unit_Cost']], on ='Product', how = 'left')\n",
        "\n",
        "COGS_df1 = PoInv_df[['Order_Date','Product','COGS_Quantity','Unit_Cost']]\n",
        "\n",
        "COGS_qry1 = '''\n",
        "    SELECT\n",
        "      CAST(\n",
        "        CASE\n",
        "          WHEN Quarter(Order_Date) = 1\n",
        "            THEN CONCAT(YEAR(Order_Date), '-01-30')\n",
        "          WHEN Quarter(Order_Date) = 2\n",
        "            THEN CONCAT(YEAR(Order_Date), '-04-30')\n",
        "          WHEN Quarter(Order_Date) = 3\n",
        "            THEN CONCAT(YEAR(Order_Date), '-07-30')\n",
        "          WHEN Quarter(Order_Date) = 4\n",
        "            THEN CONCAT(YEAR(Order_Date), '-10-30')\n",
        "        END\n",
        "        AS DATE) AS Date,\n",
        "      Product,\n",
        "      SUM((COGS_Quantity * Unit_Cost)) AS Value\n",
        "    FROM COGS_df1\n",
        "    GROUP BY Date, Product\n",
        "  ORDER BY Date\n",
        "'''\n",
        "COGS_df_byProduct = ddb.sql(COGS_qry1).df()\n",
        "\n",
        "COGS_qry2 = '''\n",
        "    SELECT Date, SUM(Value) AS Value\n",
        "    FROM COGS_df_byProduct\n",
        "    GROUP BY Date\n",
        "    ORDER BY Date\n",
        "'''\n",
        "\n",
        "COGS_df = ddb.sql(COGS_qry2).df()\n",
        "\n",
        "# Gross Margin\n",
        "#   Yearly Rev - Yearly COGS\n",
        "# Yearly COGS\n",
        "\n",
        "Yr_COGS_qry = '''\n",
        "    SELECT\n",
        "        YEAR(Date) AS Year,\n",
        "        Sum(Value) AS Value\n",
        "    FROM COGS_df\n",
        "    GROUP BY Year\n",
        "'''\n",
        "COGSyr_df = ddb.sql(Yr_COGS_qry).df()\n",
        "COGS_dict = dict(zip(COGSyr_df['Year'],COGSyr_df['Value']))\n",
        "\n",
        "PRC_dict = {}\n",
        "PM_dict = {}\n",
        "# Substract COGS from Rev each year\n",
        "for Year in Rev_dict.keys():\n",
        "  try:\n",
        "    PRC_dict[Year] = {\"Rev\":Rev_dict[Year],\"COGS\":COGS_dict[Year],\"PM\":Rev_dict[Year]-COGS_dict[Year]}\n",
        "    PM_dict[Year] = Rev_dict[Year]-COGS_dict[Year]\n",
        "  except:\n",
        "    PRC_dict[Year] = {\"Rev\":Rev_dict[Year],\"COGS\":0,\"PM\":0}\n",
        "    PM_dict[Year] = 0\n",
        "PM_Rev_df = pd.DataFrame({'PM':PM_dict,'REV':Rev_dict})\n",
        "\n",
        "print(PM_Rev_df)"
      ]
    },
    {
      "cell_type": "markdown",
      "metadata": {
        "id": "2Hka9s7yDF8M"
      },
      "source": [
        "### Expenses for Scenario 1"
      ]
    },
    {
      "cell_type": "code",
      "execution_count": 58,
      "metadata": {
        "colab": {
          "base_uri": "https://localhost:8080/"
        },
        "id": "wM5_7HEsDF8M",
        "outputId": "fcde0e69-534b-4a74-e218-7766af4c8a2d"
      },
      "outputs": [
        {
          "name": "stdout",
          "output_type": "stream",
          "text": [
            "<class 'pandas.core.frame.DataFrame'>\n",
            "RangeIndex: 8 entries, 0 to 7\n",
            "Data columns (total 12 columns):\n",
            " #   Column        Non-Null Count  Dtype  \n",
            "---  ------        --------------  -----  \n",
            " 0   Year          8 non-null      int64  \n",
            " 1   Rev           8 non-null      float64\n",
            " 2   COGS          8 non-null      float64\n",
            " 3   Gross_Profit  8 non-null      float64\n",
            " 4   Rent          8 non-null      float64\n",
            " 5   Insurance     8 non-null      float64\n",
            " 6   Wages         8 non-null      float64\n",
            " 7   Ads           8 non-null      float64\n",
            " 8   Net_Profit    8 non-null      float64\n",
            " 9   EBIT          8 non-null      float64\n",
            " 10  Taxes         8 non-null      float64\n",
            " 11  Net_Income    8 non-null      float64\n",
            "dtypes: float64(11), int64(1)\n",
            "memory usage: 900.0 bytes\n",
            "None\n"
          ]
        }
      ],
      "source": [
        "Expenses = {\n",
        "    'Avg_NetProfit':(3,\"Not used to calc net profit\"),\n",
        "    'Rent': (6,10),\n",
        "    'Insurance': (2,4),\n",
        "    'Wages': (15,20),\n",
        "    'Ads': (6,8),\n",
        "    'Taxes': (13, \"A fixed amount\")\n",
        "}\n",
        "\n",
        "Exp_dict = {}\n",
        "Exp_list = []\n",
        "\n",
        "for i, year in enumerate(PRC_dict.keys()):\n",
        "    gross = PRC_dict[year][\"PM\"]\n",
        "    Rev = PRC_dict[year][\"Rev\"]\n",
        "    COGS = PRC_dict[year][\"COGS\"]\n",
        "    Year = year\n",
        "\n",
        "\n",
        "    Rent = (random.randrange(Expenses['Rent'][0],Expenses['Rent'][1])/100)*gross\n",
        "    Insurance = (random.randrange(Expenses['Insurance'][0],Expenses['Insurance'][1])/100)*gross\n",
        "    Wages = (random.randrange(Expenses['Wages'][0],Expenses['Wages'][1])/100)*gross\n",
        "    Ads = (random.randrange(Expenses['Wages'][0],Expenses['Wages'][1])/100)*gross\n",
        "    Net = gross - (Rent+Insurance+Wages+Ads)\n",
        "    EBIT = (1 - (Expenses['Taxes'][0]/100)) * Net\n",
        "    Tax = (Expenses['Taxes'][0]/100) * Net\n",
        "    Net_In = EBIT - Tax\n",
        "\n",
        "    Exp_dict = {'Year':Year,'Rev':Rev,'COGS':COGS,'Gross_Profit':gross,'Rent':Rent,'Insurance':Insurance,'Wages':Wages,'Ads':Ads,'Net_Profit':Net,'EBIT': EBIT, 'Taxes':Tax, 'Net_Income': Net_In}\n",
        "    Exp_list.append(Exp_dict)\n",
        "\n",
        "\n",
        "Exp_df = pd.DataFrame(Exp_list)\n",
        "\n",
        "print(Exp_df.info())"
      ]
    },
    {
      "cell_type": "code",
      "execution_count": 59,
      "metadata": {
        "colab": {
          "base_uri": "https://localhost:8080/"
        },
        "id": "EBcX23upDF8N",
        "outputId": "7d9e01c7-32b6-4905-b2c1-92f69255eff7"
      },
      "outputs": [
        {
          "name": "stdout",
          "output_type": "stream",
          "text": [
            "0       2015-1-1\n",
            "1       2015-1-2\n",
            "2       2015-1-3\n",
            "3       2015-1-4\n",
            "4       2015-1-5\n",
            "         ...    \n",
            "295    2021-1-11\n",
            "296    2021-1-12\n",
            "297     2021-1-6\n",
            "298     2021-1-4\n",
            "299    2021-1-10\n",
            "Name: Date, Length: 300, dtype: object\n",
            "<class 'pandas.core.frame.DataFrame'>\n",
            "RangeIndex: 300 entries, 0 to 299\n",
            "Data columns (total 4 columns):\n",
            " #   Column       Non-Null Count  Dtype         \n",
            "---  ------       --------------  -----         \n",
            " 0   Year         300 non-null    int64         \n",
            " 1   Date         300 non-null    datetime64[ns]\n",
            " 2   Amount       300 non-null    float64       \n",
            " 3   Description  300 non-null    object        \n",
            "dtypes: datetime64[ns](1), float64(1), int64(1), object(1)\n",
            "memory usage: 9.5+ KB\n",
            "None\n"
          ]
        }
      ],
      "source": [
        "# Individual Expenses\n",
        "\n",
        "num_years = len(Exp_df['Year'])\n",
        "num_months = num_years*12\n",
        "\n",
        "rent = Exp_df['Rent'].sum() / num_months\n",
        "Insurance = Exp_df['Insurance'].sum() / num_months\n",
        "Wages = Exp_df['Wages'].sum() / num_months\n",
        "\n",
        "end_date = pd.Timestamp('2021-12-31')\n",
        "end_year_str = str(end_date)[:4]\n",
        "\n",
        "# Struct of List - Year, Date, Amount, Description\n",
        "Comp_Exp_List = []\n",
        "\n",
        "\n",
        "for year in Exp_df['Year']:\n",
        "  if int(year) <= int(end_year_str):\n",
        "\n",
        "    # Rent\n",
        "    for month in range(12):\n",
        "      Year = year\n",
        "      Date = f\"{Year}-1-{month+1}\"\n",
        "      Amount = rent\n",
        "      Description = \"Rent\"\n",
        "      sub_dict = {'Year':Year, 'Date':Date, 'Amount':Amount, 'Description':Description}\n",
        "      Comp_Exp_List.append(sub_dict)\n",
        "\n",
        "    # Insurance\n",
        "    for month in range(12):\n",
        "      Year = year\n",
        "      Date = f\"{Year}-1-{month+1}\"\n",
        "      Amount = Insurance\n",
        "      Description = \"Insurance\"\n",
        "      sub_dict = {'Year':Year, 'Date':Date, 'Amount':Amount, 'Description':Description}\n",
        "      Comp_Exp_List.append(sub_dict)\n",
        "\n",
        "    # Wages\n",
        "    for month in range(12):\n",
        "      Year = year\n",
        "      Date = f\"{Year}-1-{month+1}\" # in the future it can be twice a month for 2 week pay\n",
        "      Amount = Wages\n",
        "      Description = \"Wages\"\n",
        "      sub_dict = {'Year':Year, 'Date':Date, 'Amount':Amount, 'Description':Description}\n",
        "      Comp_Exp_List.append(sub_dict)\n",
        "\n",
        "    # Ads\n",
        "    # Determine how many expenses per year\n",
        "    No_Ads = random.randrange(3,12)\n",
        "    Ad_yrly = Exp_df[Exp_df['Year'] == year]['Ads'].iloc[0]\n",
        "    amounts = []\n",
        "    adj_amounts = []\n",
        "    days = []\n",
        "    months = []\n",
        "\n",
        "    for ad in range(No_Ads):\n",
        "      Day = random.randrange(1,28)\n",
        "      month = random.randrange(1,12)\n",
        "      amount = random.randint(1,100)\n",
        "      amounts.append(amount)\n",
        "      days.append(Day)\n",
        "      months.append(month)\n",
        "\n",
        "    amount_total = sum(amounts)\n",
        "\n",
        "    for amount in amounts:\n",
        "      amount = (amount/amount_total)*Ad_yrly\n",
        "      adj_amounts.append(amount)\n",
        "\n",
        "    for month, day, amount in zip(months,days,adj_amounts):\n",
        "      Year = year\n",
        "      Date =f\"{Year}-1-{month}\"\n",
        "      Amount = amount\n",
        "      Description = \"Ads\"\n",
        "      sub_dict = {'Year':Year, 'Date':Date, 'Amount':Amount, 'Description':Description}\n",
        "      Comp_Exp_List.append(sub_dict)\n",
        "  else:\n",
        "    pass\n",
        "\n",
        "Comp_Exp_df = pd.DataFrame(Comp_Exp_List)\n",
        "print(Comp_Exp_df['Date'])\n",
        "Comp_Exp_df['Date'] = pd.to_datetime(Comp_Exp_df['Date'],format='%Y-%m-%d')\n",
        "print(Comp_Exp_df.info())"
      ]
    },
    {
      "cell_type": "markdown",
      "metadata": {
        "id": "4Noc1k-aDF8O"
      },
      "source": [
        "# Financial Reporting"
      ]
    },
    {
      "cell_type": "markdown",
      "metadata": {
        "id": "YcwKypM0DF8O"
      },
      "source": [
        "## Journal Entries"
      ]
    },
    {
      "cell_type": "code",
      "execution_count": 60,
      "metadata": {
        "id": "LnD0UsfkDF8P"
      },
      "outputs": [],
      "source": [
        "# Create the Journal Entries Dataframe\n",
        "\n",
        "Account = []\n",
        "Date = []\n",
        "Description = []\n",
        "Amount = []\n",
        "Dr_Cr = []\n",
        "\n",
        "Gen_Journal_df = pd.DataFrame({\n",
        "    'Account':Account,\n",
        "    'Date':Date,\n",
        "    'Description': Description,\n",
        "    'Amount':Amount,\n",
        "    'Dr_Cr':Dr_Cr})"
      ]
    },
    {
      "cell_type": "code",
      "execution_count": 61,
      "metadata": {
        "id": "m4gYxO3tDF8Q"
      },
      "outputs": [],
      "source": [
        "# Sales Journal\n",
        "\n",
        "Sales_data = sales_df.copy()\n",
        "\n",
        "Accounts = []\n",
        "Dates = []\n",
        "Descriptions = []\n",
        "Amounts = []\n",
        "Dr_Crs = []\n",
        "ID = 0\n",
        "\n",
        "\n",
        "for index, row in Sales_data.iterrows():\n",
        "  ID = ID + 1\n",
        "  date = row['Shipment_Date']\n",
        "  amount = row['Revenue']\n",
        "  desc = f\"{ID}_Sale of Inventory \"\n",
        "  COGS = row['Total_Cost']\n",
        "  Cash_acc = 1000\n",
        "  AR_acc = 1010\n",
        "  Rev_acc = 4000\n",
        "  COGS_acc = 5000\n",
        "  INV_acc = 1100\n",
        "\n",
        "  rand_acc = random.randint(1,100)\n",
        "  if rand_acc < 70:\n",
        "    Sale_acc = AR_acc\n",
        "  else:\n",
        "    Sale_acc = Cash_acc\n",
        "\n",
        "  # Sale\n",
        "  Accounts.append(Sale_acc)\n",
        "  Dates.append(date)\n",
        "  Descriptions.append(desc)\n",
        "  Amounts.append(amount)\n",
        "  Dr_Cr = \"Debit\"\n",
        "  Dr_Crs.append(Dr_Cr)\n",
        "\n",
        "  Accounts.append(Rev_acc)\n",
        "  Dates.append(date)\n",
        "  Descriptions.append(desc)\n",
        "  Amounts.append(amount)\n",
        "  Dr_Cr = \"Credit\"\n",
        "  Dr_Crs.append(Dr_Cr)\n",
        "\n",
        "\n",
        "Sales_Journal_df = pd.DataFrame({\n",
        "    'Account':Accounts,\n",
        "    'Date':Dates,\n",
        "    'Description': Descriptions,\n",
        "    'Amount':Amounts,\n",
        "    'Dr_Cr':Dr_Crs})\n",
        "\n",
        "Gen_Journal_df = pd.concat([Gen_Journal_df,Sales_Journal_df], ignore_index=True)"
      ]
    },
    {
      "cell_type": "code",
      "execution_count": 62,
      "metadata": {
        "colab": {
          "base_uri": "https://localhost:8080/"
        },
        "id": "utDn9R1UAZye",
        "outputId": "2d0b61ed-2107-4bcd-d3dc-e5b9fd33138a"
      },
      "outputs": [
        {
          "name": "stdout",
          "output_type": "stream",
          "text": [
            "<class 'pandas.core.frame.DataFrame'>\n",
            "RangeIndex: 2000 entries, 0 to 1999\n",
            "Data columns (total 5 columns):\n",
            " #   Column       Non-Null Count  Dtype         \n",
            "---  ------       --------------  -----         \n",
            " 0   Account      2000 non-null   int64         \n",
            " 1   Date         2000 non-null   datetime64[ns]\n",
            " 2   Description  2000 non-null   object        \n",
            " 3   Amount       2000 non-null   float64       \n",
            " 4   Dr_Cr        2000 non-null   object        \n",
            "dtypes: datetime64[ns](1), float64(1), int64(1), object(2)\n",
            "memory usage: 78.3+ KB\n",
            "None\n",
            "<class 'pandas.core.frame.DataFrame'>\n",
            "RangeIndex: 2000 entries, 0 to 1999\n",
            "Data columns (total 5 columns):\n",
            " #   Column       Non-Null Count  Dtype         \n",
            "---  ------       --------------  -----         \n",
            " 0   Account      2000 non-null   float64       \n",
            " 1   Date         2000 non-null   datetime64[ns]\n",
            " 2   Description  2000 non-null   object        \n",
            " 3   Amount       2000 non-null   float64       \n",
            " 4   Dr_Cr        2000 non-null   object        \n",
            "dtypes: datetime64[ns](1), float64(2), object(2)\n",
            "memory usage: 78.3+ KB\n",
            "None\n"
          ]
        }
      ],
      "source": [
        "print(Sales_Journal_df.info())\n",
        "print(Gen_Journal_df.info())"
      ]
    },
    {
      "cell_type": "code",
      "execution_count": 63,
      "metadata": {
        "id": "TCxQpr7IDF8R"
      },
      "outputs": [],
      "source": [
        "# Purchase Order\n",
        "\n",
        "PO_data = df_PO.copy()\n",
        "\n",
        "Accounts = []\n",
        "Dates = []\n",
        "Descriptions = []\n",
        "Amounts = []\n",
        "Dr_Crs = []\n",
        "ID = 0\n",
        "\n",
        "\n",
        "for index, row in PO_data.iterrows():\n",
        "  ID = ID + 1\n",
        "  date = row['Purchase_Date']\n",
        "  amount = row['Unit_Cost']*row['Quantity']\n",
        "  desc = f\"{ID}_Purchase of Inventory \"\n",
        "  AP_acc = 2000\n",
        "  INV_acc = 1100\n",
        "\n",
        "  Accounts.append(INV_acc)\n",
        "  Dates.append(date)\n",
        "  Descriptions.append(desc)\n",
        "  Amounts.append(amount)\n",
        "  Dr_Cr = \"Debit\"\n",
        "  Dr_Crs.append(Dr_Cr)\n",
        "\n",
        "  Accounts.append(AP_acc)\n",
        "  Dates.append(date)\n",
        "  Descriptions.append(desc)\n",
        "  Amounts.append(amount)\n",
        "  Dr_Cr = \"Credit\"\n",
        "  Dr_Crs.append(Dr_Cr)\n",
        "\n",
        "\n",
        "Inventory_Journal_df = pd.DataFrame({\n",
        "    'Account':Accounts,\n",
        "    'Date':Dates,\n",
        "    'Description': Descriptions,\n",
        "    'Amount':Amounts,\n",
        "    'Dr_Cr':Dr_Crs})\n",
        "\n",
        "Gen_Journal_df = pd.concat([Gen_Journal_df,Inventory_Journal_df,], ignore_index=True)"
      ]
    },
    {
      "cell_type": "code",
      "execution_count": 64,
      "metadata": {
        "colab": {
          "base_uri": "https://localhost:8080/"
        },
        "id": "VD-nQMJCAobm",
        "outputId": "de909111-7c4c-458d-a80e-c9bade8b61a7"
      },
      "outputs": [
        {
          "name": "stdout",
          "output_type": "stream",
          "text": [
            "<class 'pandas.core.frame.DataFrame'>\n",
            "RangeIndex: 628 entries, 0 to 627\n",
            "Data columns (total 5 columns):\n",
            " #   Column       Non-Null Count  Dtype         \n",
            "---  ------       --------------  -----         \n",
            " 0   Account      628 non-null    int64         \n",
            " 1   Date         628 non-null    datetime64[ns]\n",
            " 2   Description  628 non-null    object        \n",
            " 3   Amount       628 non-null    float64       \n",
            " 4   Dr_Cr        628 non-null    object        \n",
            "dtypes: datetime64[ns](1), float64(1), int64(1), object(2)\n",
            "memory usage: 24.7+ KB\n",
            "None\n",
            "<class 'pandas.core.frame.DataFrame'>\n",
            "RangeIndex: 2628 entries, 0 to 2627\n",
            "Data columns (total 5 columns):\n",
            " #   Column       Non-Null Count  Dtype         \n",
            "---  ------       --------------  -----         \n",
            " 0   Account      2628 non-null   float64       \n",
            " 1   Date         2628 non-null   datetime64[ns]\n",
            " 2   Description  2628 non-null   object        \n",
            " 3   Amount       2628 non-null   float64       \n",
            " 4   Dr_Cr        2628 non-null   object        \n",
            "dtypes: datetime64[ns](1), float64(2), object(2)\n",
            "memory usage: 102.8+ KB\n",
            "None\n"
          ]
        }
      ],
      "source": [
        "print(Inventory_Journal_df.info())\n",
        "print(Gen_Journal_df.info())"
      ]
    },
    {
      "cell_type": "code",
      "execution_count": 65,
      "metadata": {
        "id": "-_0Xm620wHbH"
      },
      "outputs": [],
      "source": [
        "# COGS\n",
        "\n",
        "COGS_data = COGS_df.copy()\n",
        "\n",
        "Accounts = []\n",
        "Dates = []\n",
        "Descriptions = []\n",
        "Amounts = []\n",
        "Dr_Crs = []\n",
        "ID = 0\n",
        "\n",
        "for index, row in COGS_data.iterrows():\n",
        "  ID = ID + 1\n",
        "\n",
        "  date = row['Date']\n",
        "  amount = row['Value']\n",
        "  desc = f\"{ID}_Quarterly COGS\"\n",
        "  COGS = 5000\n",
        "  INV_acc = 1100\n",
        "\n",
        "  Accounts.append(COGS)\n",
        "  Dates.append(date)\n",
        "  Descriptions.append(desc)\n",
        "  Amounts.append(amount)\n",
        "  Dr_Cr = \"Debit\"\n",
        "  Dr_Crs.append(Dr_Cr)\n",
        "\n",
        "  Accounts.append(INV_acc)\n",
        "  Dates.append(date)\n",
        "  Descriptions.append(desc)\n",
        "  Amounts.append(amount)\n",
        "  Dr_Cr = \"Credit\"\n",
        "  Dr_Crs.append(Dr_Cr)\n",
        "\n",
        "\n",
        "COGS_Journal_df = pd.DataFrame({\n",
        "    'Account':Accounts,\n",
        "    'Date':Dates,\n",
        "    'Description': Descriptions,\n",
        "    'Amount':Amounts,\n",
        "    'Dr_Cr':Dr_Crs})\n",
        "\n",
        "Gen_Journal_df = pd.concat([Gen_Journal_df,COGS_Journal_df,], ignore_index=True)"
      ]
    },
    {
      "cell_type": "code",
      "execution_count": 66,
      "metadata": {
        "id": "C_SLP36PDF8S"
      },
      "outputs": [],
      "source": [
        "# Expenses\n",
        "\n",
        "exp_data = Comp_Exp_df.copy()\n",
        "\n",
        "Accounts = []\n",
        "Dates = []\n",
        "Descriptions = []\n",
        "Amounts = []\n",
        "Dr_Crs = []\n",
        "ID = 0\n",
        "\n",
        "for index, row in exp_data.iterrows():\n",
        "  ID = ID + 1\n",
        "  date = row['Date']\n",
        "  amount = row['Amount']\n",
        "  exp = row['Description']\n",
        "  desc = f\"{ID}_{exp} Expense\"\n",
        "  AP_acc = 2000\n",
        "  Cash_acc = 1000\n",
        "\n",
        "  match exp:\n",
        "    # Fixed Cost Prepaid Exps are being accrued\n",
        "    case 'Rent':\n",
        "      account = 5110\n",
        "      pay_acc = Cash_acc\n",
        "\n",
        "    case 'Wages':\n",
        "      account = 5010\n",
        "      pay_acc = Cash_acc\n",
        "\n",
        "    case 'Insurance':\n",
        "      account = 5050\n",
        "      pay_acc = Cash_acc\n",
        "\n",
        "    case 'Ads':\n",
        "      account = 5020\n",
        "      rand_acc = random.randint(1,100)\n",
        "      if rand_acc < 70:\n",
        "        pay_acc = AP_acc\n",
        "      else:\n",
        "        pay_acc = Cash_acc\n",
        "\n",
        "  Accounts.append(account)\n",
        "  Dates.append(date)\n",
        "  Descriptions.append(desc)\n",
        "  Amounts.append(amount)\n",
        "  Dr_Cr = \"Debit\"\n",
        "  Dr_Crs.append(Dr_Cr)\n",
        "\n",
        "  Accounts.append(pay_acc)\n",
        "  Dates.append(date)\n",
        "  Descriptions.append(desc)\n",
        "  Amounts.append(amount)\n",
        "  Dr_Cr = \"Credit\"\n",
        "  Dr_Crs.append(Dr_Cr)\n",
        "\n",
        "Exp_Journal_df = pd.DataFrame({\n",
        "  'Account':Accounts,\n",
        "  'Date':Dates,\n",
        "  'Description': Descriptions,\n",
        "  'Amount':Amounts,\n",
        "  'Dr_Cr':Dr_Crs})\n",
        "\n",
        "Gen_Journal_df = pd.concat([Gen_Journal_df,Exp_Journal_df,], ignore_index=True)\n"
      ]
    },
    {
      "cell_type": "code",
      "execution_count": 67,
      "metadata": {
        "colab": {
          "base_uri": "https://localhost:8080/"
        },
        "id": "zAyTBdDjBFIO",
        "outputId": "7a644beb-ea17-4bff-ed9f-4bbc536bccf6"
      },
      "outputs": [
        {
          "name": "stdout",
          "output_type": "stream",
          "text": [
            "<class 'pandas.core.frame.DataFrame'>\n",
            "RangeIndex: 600 entries, 0 to 599\n",
            "Data columns (total 5 columns):\n",
            " #   Column       Non-Null Count  Dtype         \n",
            "---  ------       --------------  -----         \n",
            " 0   Account      600 non-null    int64         \n",
            " 1   Date         600 non-null    datetime64[ns]\n",
            " 2   Description  600 non-null    object        \n",
            " 3   Amount       600 non-null    float64       \n",
            " 4   Dr_Cr        600 non-null    object        \n",
            "dtypes: datetime64[ns](1), float64(1), int64(1), object(2)\n",
            "memory usage: 23.6+ KB\n",
            "None\n",
            "<class 'pandas.core.frame.DataFrame'>\n",
            "RangeIndex: 3284 entries, 0 to 3283\n",
            "Data columns (total 5 columns):\n",
            " #   Column       Non-Null Count  Dtype         \n",
            "---  ------       --------------  -----         \n",
            " 0   Account      3284 non-null   float64       \n",
            " 1   Date         3284 non-null   datetime64[ns]\n",
            " 2   Description  3284 non-null   object        \n",
            " 3   Amount       3284 non-null   float64       \n",
            " 4   Dr_Cr        3284 non-null   object        \n",
            "dtypes: datetime64[ns](1), float64(2), object(2)\n",
            "memory usage: 128.4+ KB\n",
            "None\n"
          ]
        }
      ],
      "source": [
        "print(Exp_Journal_df.info())\n",
        "print(Gen_Journal_df.info())"
      ]
    },
    {
      "cell_type": "code",
      "execution_count": 68,
      "metadata": {
        "id": "uebrxXbQxHGJ"
      },
      "outputs": [],
      "source": [
        "Gen_Journal_df['Date'] = pd.to_datetime(Gen_Journal_df['Date'],format='%d-%m-%Y')"
      ]
    },
    {
      "cell_type": "code",
      "execution_count": 69,
      "metadata": {
        "id": "ZFm_P9E6DF8T"
      },
      "outputs": [],
      "source": [
        "# Pay off AP and Recieve Recievables\n",
        "\n",
        "Accounts = []\n",
        "Dates = []\n",
        "Descriptions = []\n",
        "Amounts = []\n",
        "Dr_Crs = []\n",
        "\n",
        "for index, row in Gen_Journal_df.iterrows():\n",
        "    # AP = 2000\n",
        "    if row['Account'] == 2000:\n",
        "        Purchase_date = row['Date']\n",
        "        # All AP is Net 30 terms and we way in 30 days\n",
        "        Cash_Paid_Date = row['Date'] + timedelta(days=30)\n",
        "        Cash_Acc = 1000\n",
        "        AP_Acc = 2000\n",
        "        desc = \"Paided down AP liability\"\n",
        "        amount = row[\"Amount\"]\n",
        "\n",
        "        Accounts.append(AP_Acc)\n",
        "        Dates.append(Cash_Paid_Date)\n",
        "        Descriptions.append(desc)\n",
        "        Amounts.append(amount)\n",
        "        Dr_Cr = \"Debit\"\n",
        "        Dr_Crs.append(Dr_Cr)\n",
        "\n",
        "        Accounts.append(Cash_Acc)\n",
        "        Dates.append(Cash_Paid_Date)\n",
        "        Descriptions.append(desc)\n",
        "        Amounts.append(amount)\n",
        "        Dr_Cr = \"Credit\"\n",
        "        Dr_Crs.append(Dr_Cr)\n",
        "\n",
        "    # AR = 1010\n",
        "    elif row['Account'] == 1010:\n",
        "        Purchase_date = row['Date']\n",
        "        # All AP is Net 30 terms and we way in 30 days\n",
        "        Days_Since_Paid = random.randint(5,100)\n",
        "        Cash_Paid_Date = row['Date'] + timedelta(days=Days_Since_Paid)\n",
        "        Cash_Acc = 1000\n",
        "        AR_Acc = 1010\n",
        "        desc = f\"Recieved Recievables after {Days_Since_Paid} late\"\n",
        "        amount = row[\"Amount\"]\n",
        "\n",
        "        Accounts.append(Cash_Acc)\n",
        "        Dates.append(Cash_Paid_Date)\n",
        "        Descriptions.append(desc)\n",
        "        Amounts.append(amount)\n",
        "        Dr_Cr = \"Debit\"\n",
        "        Dr_Crs.append(Dr_Cr)\n",
        "\n",
        "        Accounts.append(AR_Acc)\n",
        "        Dates.append(Cash_Paid_Date)\n",
        "        Descriptions.append(desc)\n",
        "        Amounts.append(amount)\n",
        "        Dr_Cr = \"Credit\"\n",
        "        Dr_Crs.append(Dr_Cr)\n",
        "\n",
        "    else:\n",
        "        pass\n",
        "\n",
        "AP_AR_Journal_df = pd.DataFrame({\n",
        "'Account':Accounts,\n",
        "'Date':Dates,\n",
        "'Description': Descriptions,\n",
        "'Amount':Amounts,\n",
        "'Dr_Cr':Dr_Crs})\n",
        "\n",
        "Gen_Journal_df = pd.concat([Gen_Journal_df,AP_AR_Journal_df,], ignore_index=True)\n"
      ]
    },
    {
      "cell_type": "code",
      "execution_count": 70,
      "metadata": {
        "colab": {
          "base_uri": "https://localhost:8080/"
        },
        "id": "8wfUGFlcAIX1",
        "outputId": "80613632-343b-4a5c-ab19-e4b50caccfa4"
      },
      "outputs": [
        {
          "name": "stdout",
          "output_type": "stream",
          "text": [
            "<class 'pandas.core.frame.DataFrame'>\n",
            "RangeIndex: 2126 entries, 0 to 2125\n",
            "Data columns (total 5 columns):\n",
            " #   Column       Non-Null Count  Dtype         \n",
            "---  ------       --------------  -----         \n",
            " 0   Account      2126 non-null   int64         \n",
            " 1   Date         2126 non-null   datetime64[ns]\n",
            " 2   Description  2126 non-null   object        \n",
            " 3   Amount       2126 non-null   float64       \n",
            " 4   Dr_Cr        2126 non-null   object        \n",
            "dtypes: datetime64[ns](1), float64(1), int64(1), object(2)\n",
            "memory usage: 83.2+ KB\n",
            "None\n",
            "<class 'pandas.core.frame.DataFrame'>\n",
            "RangeIndex: 5410 entries, 0 to 5409\n",
            "Data columns (total 5 columns):\n",
            " #   Column       Non-Null Count  Dtype         \n",
            "---  ------       --------------  -----         \n",
            " 0   Account      5410 non-null   float64       \n",
            " 1   Date         5410 non-null   datetime64[ns]\n",
            " 2   Description  5410 non-null   object        \n",
            " 3   Amount       5410 non-null   float64       \n",
            " 4   Dr_Cr        5410 non-null   object        \n",
            "dtypes: datetime64[ns](1), float64(2), object(2)\n",
            "memory usage: 211.5+ KB\n",
            "None\n"
          ]
        }
      ],
      "source": [
        "print(AP_AR_Journal_df.info())\n",
        "print(Gen_Journal_df.info())"
      ]
    },
    {
      "cell_type": "markdown",
      "metadata": {
        "id": "B5EvkRuRu36B"
      },
      "source": [
        "# Calculating T-balances for Each account and then by month\n",
        "### Multi-Step Query\n",
        "1. Select * but if Debit then Amount and if Credit then Amount(-1)\n",
        "2. Select * group by account title which will give you the balance of each account totals\n",
        "3. Make a new adjusted T-balance for each of the years seperated by month"
      ]
    },
    {
      "cell_type": "code",
      "execution_count": 71,
      "metadata": {
        "colab": {
          "base_uri": "https://localhost:8080/"
        },
        "id": "VD-OtW374t8l",
        "outputId": "e0aef8b0-f0f1-4de1-a7fa-84221d0d7b32"
      },
      "outputs": [
        {
          "name": "stdout",
          "output_type": "stream",
          "text": [
            "<class 'pandas.core.frame.DataFrame'>\n",
            "RangeIndex: 73 entries, 0 to 72\n",
            "Data columns (total 3 columns):\n",
            " #   Column   Non-Null Count  Dtype  \n",
            "---  ------   --------------  -----  \n",
            " 0   Account  73 non-null     float64\n",
            " 1   Year     73 non-null     int64  \n",
            " 2   Amount   73 non-null     float64\n",
            "dtypes: float64(2), int64(1)\n",
            "memory usage: 1.8 KB\n",
            "None\n"
          ]
        }
      ],
      "source": [
        "# Step 1\n",
        "qry_Tacc1 = '''\n",
        "  SELECT\n",
        "    Account,\n",
        "    Date,\n",
        "    CASE\n",
        "        WHEN Dr_Cr = 'Credit'\n",
        "          THEN Amount * -1\n",
        "        WHEN Dr_Cr = 'Debit'\n",
        "          THEN Amount\n",
        "    END AS Amount\n",
        "  FROM Gen_Journal_df\n",
        "'''\n",
        "Tacc1 = ddb.sql(qry_Tacc1).df()\n",
        "\n",
        "\n",
        "# Step 2\n",
        "qry_Tacc2 = '''\n",
        "  SELECT\n",
        "    Account,\n",
        "    YEAR(Date) AS Year,\n",
        "    ROUND(SUM(Amount),2) AS Amount\n",
        "  FROM Tacc1\n",
        "  GROUP BY Account, Year\n",
        "  ORDER BY Year, Account\n",
        "'''\n",
        "Tacc2 = ddb.sql(qry_Tacc2).df()\n",
        "\n",
        "# Seperate into DF per year\n",
        "\n",
        "Account_Dataframes = []\n",
        "Year_Account_List = []\n",
        "\n",
        "for year in Tacc2['Year'].unique():\n",
        "    filtered_df = Tacc2[Tacc2['Year'] == year]\n",
        "    Year_Account_List.append(year)\n",
        "    Account_Dataframes.append(filtered_df)\n",
        "\n",
        "Yearly_Account_zipped = zip(Year_Account_List, Account_Dataframes)\n",
        "zipped_Yearly_Account_dict = dict(Yearly_Account_zipped)\n",
        "\n",
        "print(Tacc2.info())\n",
        "\n"
      ]
    },
    {
      "cell_type": "markdown",
      "metadata": {
        "id": "ay0cRYOgT4vQ"
      },
      "source": [
        "# What is Left\n",
        "## Create Financial Statments for Each Year\n",
        "### Income Statment\n",
        "### Balance Sheet\n",
        "- With Retained Earnings created from Previous Years\n",
        "###\n",
        "\n",
        "# First I need to make correction to the following accounts\n",
        "### The following accounts are based on the year, but I need to carry fowards all of the balance sheet accounts each year. All of the balance sheet accounts"
      ]
    },
    {
      "cell_type": "code",
      "execution_count": null,
      "metadata": {},
      "outputs": [],
      "source": []
    },
    {
      "cell_type": "code",
      "execution_count": 72,
      "metadata": {
        "id": "nAYfw_lkuJoq"
      },
      "outputs": [
        {
          "data": {
            "text/plain": [
              "\"\\nwith pd.ExcelWriter('genjourn2.xlsx') as writer:\\n   Tacc2.to_excel(writer, sheet_name='Sheet1', index=False)\\n\""
            ]
          },
          "execution_count": 72,
          "metadata": {},
          "output_type": "execute_result"
        }
      ],
      "source": [
        "'''\n",
        "with pd.ExcelWriter('genjourn2.xlsx') as writer:\n",
        "   Tacc2.to_excel(writer, sheet_name='Sheet1', index=False)\n",
        "'''"
      ]
    },
    {
      "cell_type": "markdown",
      "metadata": {
        "id": "AUEJg2fgeg3V"
      },
      "source": [
        "## Income Statments\n",
        "\n",
        "|Code|**Income Statment**||Amount|\n",
        "|---|---|---|---|\n",
        "|4000|Sales Rev||xxx|\n",
        "|5000|COGS||(xxx)|\n",
        "|0007|Gross Profit||xxx|\n",
        "|5110|Rent Exp||xxx|\n",
        "|5050|Insurance Exp||xxx|\n",
        "|5010|Salaries Exp||xxx|\n",
        "|0008||Total Operating Exp|xxx|\n",
        "|0010||EBITA|xxx|\n",
        "|6000|Interest Income||(xxx)|\n",
        "|0013||Income Before Tax|xxx|\n",
        "|0014|Income Tax|||\n",
        "|0015|***Net Income***||xxx|"
      ]
    },
    {
      "cell_type": "code",
      "execution_count": 73,
      "metadata": {
        "id": "des-9WHmfDKK"
      },
      "outputs": [],
      "source": [
        "Year = []\n",
        "Sales_Rev = []\n",
        "COGS = []\n",
        "Gross_Profit = []\n",
        "Rent_exp = []\n",
        "Insurance_exp = []\n",
        "Salaries_exp = []\n",
        "Total_Operating_exp = []\n",
        "EBITA = []\n",
        "Interest_Income = []\n",
        "Income_Before_Tax = []\n",
        "Income_Tax = []\n",
        "Net_Income = []\n",
        "\n",
        "\n",
        "\n",
        "for year in Tacc2['Year'].unique():\n",
        "  Year.append(year)\n",
        "  sales_rev = Tacc2.loc[(Tacc2['Account']==4000) & (Tacc2['Year']==year),'Amount']*-1\n",
        "  Sales_Rev.append(sales_rev)\n",
        "  cogs = Tacc2.loc[(Tacc2['Account']==5000) & (Tacc2['Year']==year),'Amount']*-1\n",
        "  COGS.append(cogs)\n",
        "  gross_profit = sales_rev - cogs\n",
        "  Gross_Profit.append(gross_profit)\n",
        "  rent_exp = Tacc2.loc[(Tacc2['Account']==5110) & (Tacc2['Year']==year),'Amount']\n",
        "  Rent_exp.append(rent_exp)\n",
        "  insurance_exp = Tacc2.loc[(Tacc2['Account']==5050) & (Tacc2['Year']==year),'Amount']\n",
        "  Insurance_exp.append(insurance_exp)\n",
        "  salaries_exp = Tacc2.loc[(Tacc2['Account']==5010) & (Tacc2['Year']==year),'Amount']\n",
        "  Salaries_exp.append(salaries_exp)\n",
        "  total_op_exp = salaries_exp + insurance_exp + rent_exp\n",
        "  Total_Operating_exp.append(total_op_exp)\n",
        "  EBITA.append(gross_profit - total_op_exp)\n",
        "\n",
        "Income_Statments = pd.DataFrame({\n",
        "'Year':Year,\n",
        "'Sales_Rev':Sales_Rev,\n",
        "'COGS':COGS,\n",
        "'Gross_Profit':Gross_Profit,\n",
        "'Rent_exp':Rent_exp,\n",
        "'Insurance_exp':Insurance_exp,\n",
        "'Salaries_exp':Salaries_exp,\n",
        "'Total_Operating_exp':Total_Operating_exp,\n",
        "'EBITA':EBITA})"
      ]
    },
    {
      "cell_type": "markdown",
      "metadata": {
        "id": "pg9aqEnJerbB"
      },
      "source": [
        "### Balance Sheet\n",
        "|Code|**Balance Sheet**|Account|Amount|\n",
        "|---|---|---|---|\n",
        "|1000|Cash||xxx|\n",
        "|1010|Accounts Recievable||xxx|\n",
        "|1100|Inventory||xxx|\n",
        "|0001||Total Current Assets|xxx|\n",
        "|1250|Land||xxx|\n",
        "|1230|Equipment||xxx|\n",
        "|1231|Accumulated Depreciation||(xxx)|\n",
        "|0002||Total Asset|xxx|\n",
        "|2000|Accounts Payable||xxx|\n",
        "|2020|Notes Payable||xxx|\n",
        "|0004||Total Liability|xxx|\n",
        "|3010|Retained Earnings||xxx|\n",
        "|0005||Total Equity|xxx|\n",
        "|0006|***Total Liabilities and Equity***||xxx|"
      ]
    },
    {
      "cell_type": "code",
      "execution_count": 74,
      "metadata": {
        "id": "QsjiPChQfDrk"
      },
      "outputs": [],
      "source": [
        "Cash = []\n",
        "ARec = []\n",
        "Inventory = []\n",
        "Total_Current_Assets = []\n",
        "Land = []\n",
        "Equpiment = []\n",
        "Buildings = []\n",
        "Net_Accum_Depreciation = []\n",
        "Total_Assets = []\n",
        "Accounts_Payable = []\n",
        "Notes_Payable = []\n",
        "Total_Liability = []\n",
        "Retained_Earnings = []\n",
        "Total_Equity = []\n",
        "Total_Liabilities_Equity = []\n",
        "Year = []\n",
        "Balanced = []\n",
        "\n",
        "for year in Tacc2['Year'].unique():\n",
        "    Year.append(year)\n",
        "    cash = Tacc2.loc[(Tacc2['Account']==1000) & (Tacc2['Year']==year),'Amount'].sum()\n",
        "    Cash.append(cash)\n",
        "    arec = Tacc2.loc[(Tacc2['Account']==1010) & (Tacc2['Year']==year),'Amount'].sum()\n",
        "    ARec.append(arec)\n",
        "    inventory = Tacc2.loc[(Tacc2['Account']==1000) & (Tacc2['Year']==year),'Amount'].sum()\n",
        "    Inventory.append(inventory)\n",
        "    tca = cash + arec + inventory\n",
        "    Total_Current_Assets.append(tca)\n",
        "    total_asset = (cash + arec + inventory)\n",
        "    Total_Assets.append(total_asset)\n",
        "    ap = Tacc2.loc[(Tacc2['Account']==2000) & (Tacc2['Year']==year),'Amount'].sum()\n",
        "    Accounts_Payable.append(ap)\n",
        "    total_liability = ap \n",
        "    Total_Liability.append(total_liability)\n",
        "    re = Tacc2.loc[(Tacc2['Account']==3010) & (Tacc2['Year']==year),'Amount'].sum()\n",
        "    Retained_Earnings.append(re)\n",
        "    total_liability_equity = ap + re\n",
        "    Total_Liabilities_Equity.append(total_liability_equity)\n",
        "    if total_liability_equity == total_asset:\n",
        "        Balanced.append(True)\n",
        "    else:\n",
        "        Balanced.append(False)\n",
        "\n",
        "Balance_Sheets = pd.DataFrame({\n",
        "'Year':Year,\n",
        "'Cash':Cash,\n",
        "'Arec':ARec,\n",
        "'Inventory':Inventory,\n",
        "'Total_Current_Assets':Total_Current_Assets,\n",
        "'Total_Assets':Total_Assets,\n",
        "'Accounts_Payable':Accounts_Payable,\n",
        "'Total_Liability': Total_Liability,\n",
        "'Total_Liabilities_Equity':Total_Liabilities_Equity,\n",
        "'Balanced': Balanced\n",
        "})"
      ]
    },
    {
      "cell_type": "code",
      "execution_count": null,
      "metadata": {},
      "outputs": [],
      "source": [
        "'''\n",
        "Balance Sheet\n",
        "'''\n",
        "with pd.ExcelWriter('genjourn.xlsx') as writer:\n",
        "    Balance_Sheets.to_excel(writer, sheet_name='Sheet1', index=False)"
      ]
    },
    {
      "cell_type": "markdown",
      "metadata": {},
      "source": [
        "# Other Balance Sheet Transactions\n",
        "## Increase in Assets will also increase:\n",
        "1. Loans (Notes Payable)\n",
        "2. Common Shares\n",
        "    - Useful for injecting cash if needed\n",
        "    - may need to pay dividends\n",
        "3. Retained Earnings\n",
        "\n",
        "## Adding Assets:\n",
        "1. Land\n",
        "2. Equipment\n",
        "3. Buildings\n",
        "    - Depreciation for Equipment and Buildings\n",
        "\n",
        "## Implimentation\n",
        "Either the user can define everything, user define equipment amount and computer will determine depreciation, or the program will decided what to do based on retained earnings and the following criteria\n",
        "1. Equipment will depreciate at 5% of retained earnings over 20 years for scenario one, Equipment value will be that number * 20 years (straight line deprecation)\n",
        "2. Buildings will depreciate at 10% of retained earnings over 30 years, same caculations"
      ]
    },
    {
      "cell_type": "code",
      "execution_count": null,
      "metadata": {},
      "outputs": [],
      "source": [
        "# Testing to see all of the retained earnings\n",
        "\n",
        "print(Balance_Sheets['Retained_Earnings'])"
      ]
    },
    {
      "cell_type": "code",
      "execution_count": 49,
      "metadata": {
        "id": "BEMD5cMLDF8T"
      },
      "outputs": [],
      "source": [
        "# Starting with Balance Sheet\n",
        "\n",
        "# Getting the % of min Retained Earnings\n",
        "Retained_Earnings_list = []\n",
        "\n"
      ]
    },
    {
      "cell_type": "markdown",
      "metadata": {
        "id": "x2twl_rfe4P0"
      },
      "source": [
        "### Cash Flow\n",
        "|Code|**Cash Flow**|||\n",
        "|---|---|---|---|\n",
        "|0000|I. Operating Activities|||\n",
        "|0015|Net Income||xxx|\n",
        "|5030|Depreciation||xxx|\n",
        "|1010|(+)/- Accounts Recivable||xxx|\n",
        "|2000|+/(-) Accounts Payable||xxx|\n",
        "|1100|(+)/- Inventory||xxx|\n",
        "|0012|+/(-) Interest Income||xxx|\n",
        "|0016||Net Cash From Operations|xxx|\n",
        "|0000|II. Investing Activities|||\n",
        "|0000|None For this Scenario|||\n",
        "|0000|III. Financing Activities|||\n",
        "|2020|(-)/+ Notes Payable||(xxx)|\n",
        "|0018||Net Cash From Financing|xxx|\n",
        "|0019|Begining Cash Balance||xxx|\n",
        "|0020|End Cash Balance||xxx|\n",
        "|0021|***Net Cash Flow***||xxx|"
      ]
    },
    {
      "cell_type": "code",
      "execution_count": null,
      "metadata": {
        "id": "zNFox6_EegZF"
      },
      "outputs": [],
      "source": []
    },
    {
      "cell_type": "code",
      "execution_count": 50,
      "metadata": {
        "colab": {
          "base_uri": "https://localhost:8080/",
          "height": 36
        },
        "id": "Mp_Jf3YZDF8T",
        "outputId": "c9d8aa1c-539c-44bb-fa60-4243292b4cec"
      },
      "outputs": [
        {
          "data": {
            "text/plain": [
              "'\\n%%shell\\njupyter nbconvert --to html /content/Copy_of_Test_Work.ipynb\\n'"
            ]
          },
          "execution_count": 50,
          "metadata": {},
          "output_type": "execute_result"
        }
      ],
      "source": [
        "'''\n",
        "%%shell\n",
        "jupyter nbconvert --to html /content/Copy_of_Test_Work.ipynb\n",
        "'''"
      ]
    },
    {
      "cell_type": "code",
      "execution_count": 51,
      "metadata": {
        "id": "-NP57IjkDF8T"
      },
      "outputs": [],
      "source": [
        "\n",
        "with pd.ExcelWriter('genjourn.xlsx') as writer:\n",
        "    Gen_Journal_df.to_excel(writer, sheet_name='Sheet1', index=False)"
      ]
    }
  ],
  "metadata": {
    "colab": {
      "include_colab_link": true,
      "provenance": []
    },
    "kernelspec": {
      "display_name": "base",
      "language": "python",
      "name": "python3"
    },
    "language_info": {
      "codemirror_mode": {
        "name": "ipython",
        "version": 3
      },
      "file_extension": ".py",
      "mimetype": "text/x-python",
      "name": "python",
      "nbconvert_exporter": "python",
      "pygments_lexer": "ipython3",
      "version": "3.11.3"
    },
    "orig_nbformat": 4
  },
  "nbformat": 4,
  "nbformat_minor": 0
}
